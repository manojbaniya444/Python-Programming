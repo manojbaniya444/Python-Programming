{
 "cells": [
  {
   "cell_type": "markdown",
   "metadata": {},
   "source": [
    "## Pydantic v2"
   ]
  },
  {
   "cell_type": "code",
   "execution_count": null,
   "metadata": {},
   "outputs": [],
   "source": [
    "import pydantic"
   ]
  },
  {
   "cell_type": "markdown",
   "metadata": {},
   "source": [
    "## Without using pydantic"
   ]
  },
  {
   "cell_type": "code",
   "execution_count": null,
   "metadata": {},
   "outputs": [],
   "source": [
    "class User:\n",
    "    def __init__(self, id: int, name: str=\"Alice\"):\n",
    "        if not isinstance(id, int):\n",
    "            raise TypeError(f\"Expected id to be an integer but got {type(id).__name__}\")\n",
    "        \n",
    "        self.id = id\n",
    "        self.name = name\n",
    "        \n",
    "    def __repr__(self):\n",
    "        return f\"User(id={self.id}, name={self.name})\""
   ]
  },
  {
   "cell_type": "code",
   "execution_count": 9,
   "metadata": {},
   "outputs": [
    {
     "name": "stdout",
     "output_type": "stream",
     "text": [
      "Expected id to be an integer but got str\n"
     ]
    }
   ],
   "source": [
    "try:\n",
    "    user = User(id=\"1\")\n",
    "except TypeError as e:\n",
    "    print(e)"
   ]
  },
  {
   "cell_type": "code",
   "execution_count": 10,
   "metadata": {},
   "outputs": [
    {
     "name": "stdout",
     "output_type": "stream",
     "text": [
      "User(id=1, name=Alice)\n"
     ]
    }
   ],
   "source": [
    "try:\n",
    "    user = User(id=1)\n",
    "    print(user)\n",
    "except TypeError as e:\n",
    "    print(e)"
   ]
  },
  {
   "cell_type": "markdown",
   "metadata": {},
   "source": [
    "## Using Pydantic"
   ]
  },
  {
   "cell_type": "code",
   "execution_count": null,
   "metadata": {},
   "outputs": [],
   "source": [
    "from pydantic import BaseModel\n",
    "\n",
    "class User(BaseModel):\n",
    "    id: int\n",
    "    name: str = \"Alice\""
   ]
  },
  {
   "cell_type": "code",
   "execution_count": 13,
   "metadata": {},
   "outputs": [
    {
     "data": {
      "text/plain": [
       "User(id=1, name='Alice')"
      ]
     },
     "execution_count": 13,
     "metadata": {},
     "output_type": "execute_result"
    }
   ],
   "source": [
    "user = User(id=1)\n",
    "user"
   ]
  },
  {
   "cell_type": "code",
   "execution_count": 16,
   "metadata": {},
   "outputs": [
    {
     "name": "stdout",
     "output_type": "stream",
     "text": [
      "Error\n"
     ]
    }
   ],
   "source": [
    "try:\n",
    "    user = User(id=\"a\")\n",
    "    print(user)\n",
    "except:\n",
    "    print(\"Error\")"
   ]
  },
  {
   "cell_type": "code",
   "execution_count": 18,
   "metadata": {},
   "outputs": [
    {
     "name": "stdout",
     "output_type": "stream",
     "text": [
      "{'id'}\n"
     ]
    }
   ],
   "source": [
    "print(user.model_fields_set)  # not include default value"
   ]
  },
  {
   "cell_type": "code",
   "execution_count": 21,
   "metadata": {},
   "outputs": [
    {
     "name": "stdout",
     "output_type": "stream",
     "text": [
      "{'name', 'id'}\n"
     ]
    }
   ],
   "source": [
    "user = User(id=1, name=\"Bob\")\n",
    "print(user.model_fields_set)"
   ]
  },
  {
   "cell_type": "code",
   "execution_count": 22,
   "metadata": {},
   "outputs": [
    {
     "name": "stdout",
     "output_type": "stream",
     "text": [
      "{'id': 1, 'name': 'Bob'}\n",
      "{\"id\":1,\"name\":\"Bob\"}\n",
      "{'properties': {'id': {'title': 'Id', 'type': 'integer'}, 'name': {'default': 'Alice', 'title': 'Name', 'type': 'string'}}, 'required': ['id'], 'title': 'User', 'type': 'object'}\n"
     ]
    }
   ],
   "source": [
    "print(user.model_dump())\n",
    "print(user.model_dump_json())\n",
    "print(user.model_json_schema())"
   ]
  },
  {
   "cell_type": "markdown",
   "metadata": {},
   "source": [
    "## Nested"
   ]
  },
  {
   "cell_type": "code",
   "execution_count": 24,
   "metadata": {},
   "outputs": [
    {
     "name": "stdout",
     "output_type": "stream",
     "text": [
      "foods=[Food(name='apple', price=100.0, ingredients=None), Food(name='banana', price=200.0, ingredients=['a', 'b', 'e'])]\n",
      "{'foods': [{'name': 'apple', 'price': 100.0, 'ingredients': None}, {'name': 'banana', 'price': 200.0, 'ingredients': ['a', 'b', 'e']}]}\n"
     ]
    }
   ],
   "source": [
    "from typing import List, Optional\n",
    "from pydantic import BaseModel\n",
    "\n",
    "class Food(BaseModel):\n",
    "    name: str\n",
    "    price: float\n",
    "    ingredients: Optional[List[str]] = None\n",
    "    \n",
    "class Menu(BaseModel):\n",
    "    foods: List[Food]\n",
    "\n",
    "menu_instance = Menu(\n",
    "    foods=[\n",
    "        {\"name\": \"apple\", \"price\": 100.0},\n",
    "        {\"name\": \"banana\", \"price\": 200.0,\"ingredients\": [\"a\", \"b\", \"e\"]}\n",
    "    ]\n",
    ")\n",
    "\n",
    "print(menu_instance)\n",
    "print(menu_instance.model_dump())"
   ]
  },
  {
   "cell_type": "code",
   "execution_count": 25,
   "metadata": {},
   "outputs": [],
   "source": [
    "# !pip install pydantic[email]"
   ]
  },
  {
   "cell_type": "code",
   "execution_count": 29,
   "metadata": {},
   "outputs": [],
   "source": [
    "from typing import List\n",
    "from pydantic import BaseModel, EmailStr, conlist, Field, HttpUrl, PositiveInt\n",
    "\n",
    "class Address(BaseModel):\n",
    "    location: str\n",
    "    \n",
    "class Employee(BaseModel):\n",
    "    name: str\n",
    "    position: str\n",
    "    email: EmailStr\n",
    "    \n",
    "class Owner(BaseModel):\n",
    "    name: str\n",
    "    email: EmailStr\n",
    "    contact: Optional[str] = None\n",
    "\n",
    "class Restaurant(BaseModel):\n",
    "    name: str = Field(..., pattern=r\"^[A-Z].*\") # required start with capital letter\n",
    "    owner: Owner\n",
    "    address: Address\n",
    "    # employees: conlist(Employee, min_items=2)\n",
    "    number_of_seats: PositiveInt\n",
    "    employees: List[Employee]\n",
    "    website: HttpUrl\n",
    "    \n",
    "    @pydantic.field_validator(\"employees\")\n",
    "    def validate_employees(cls, v):\n",
    "        if len(v) < 2:\n",
    "            raise ValueError(\"There should be at least 2 employees\")\n",
    "        return v"
   ]
  },
  {
   "cell_type": "code",
   "execution_count": 32,
   "metadata": {},
   "outputs": [],
   "source": [
    "restuarant_instance = Restaurant(\n",
    "    name = \"Xyz\", # validation here should be Capitalized\n",
    "    owner = {\n",
    "        \"name\": \"Alice\",\n",
    "        \"email\": \"alice@xyz.com\", # email validation here\n",
    "    },\n",
    "    address = {\n",
    "        \"location\": \"123\"\n",
    "    },\n",
    "    number_of_seats=10,\n",
    "    employees=[ # min number of employee should be 2\n",
    "        {\n",
    "            \"name\": \"Bob\",\n",
    "            \"position\": \"chef\",\n",
    "            \"email\": \"bob@xyz.com\"\n",
    "        },\n",
    "        {\n",
    "            \"name\": \"Bob2\",\n",
    "            \"position\": \"chef\",\n",
    "            \"email\": \"bob@xyz.com\"\n",
    "        }\n",
    "    ],\n",
    "    website = \"http://xyz.com\" # website validation here\n",
    ")"
   ]
  },
  {
   "cell_type": "code",
   "execution_count": 34,
   "metadata": {},
   "outputs": [
    {
     "name": "stdout",
     "output_type": "stream",
     "text": [
      "name='Xyz' owner=Owner(name='Alice', email='alice@xyz.com', contact=None) address=Address(location='123') number_of_seats=10 employees=[Employee(name='Bob', position='chef', email='bob@xyz.com'), Employee(name='Bob2', position='chef', email='bob@xyz.com')] website=Url('http://xyz.com/')\n"
     ]
    }
   ],
   "source": [
    "print(restuarant_instance)"
   ]
  },
  {
   "cell_type": "code",
   "execution_count": 35,
   "metadata": {},
   "outputs": [
    {
     "name": "stdout",
     "output_type": "stream",
     "text": [
      "{'name': 'Xyz', 'owner': {'name': 'Alice', 'email': 'alice@xyz.com', 'contact': None}, 'address': {'location': '123'}, 'number_of_seats': 10, 'employees': [{'name': 'Bob', 'position': 'chef', 'email': 'bob@xyz.com'}, {'name': 'Bob2', 'position': 'chef', 'email': 'bob@xyz.com'}], 'website': Url('http://xyz.com/')}\n"
     ]
    }
   ],
   "source": [
    "print(restuarant_instance.model_dump())"
   ]
  },
  {
   "cell_type": "code",
   "execution_count": 36,
   "metadata": {},
   "outputs": [
    {
     "name": "stdout",
     "output_type": "stream",
     "text": [
      "{\"name\":\"Xyz\",\"owner\":{\"name\":\"Alice\",\"email\":\"alice@xyz.com\",\"contact\":null},\"address\":{\"location\":\"123\"},\"number_of_seats\":10,\"employees\":[{\"name\":\"Bob\",\"position\":\"chef\",\"email\":\"bob@xyz.com\"},{\"name\":\"Bob2\",\"position\":\"chef\",\"email\":\"bob@xyz.com\"}],\"website\":\"http://xyz.com/\"}\n"
     ]
    }
   ],
   "source": [
    "print(restuarant_instance.model_dump_json())"
   ]
  }
 ],
 "metadata": {
  "kernelspec": {
   "display_name": "Python 3",
   "language": "python",
   "name": "python3"
  },
  "language_info": {
   "codemirror_mode": {
    "name": "ipython",
    "version": 3
   },
   "file_extension": ".py",
   "mimetype": "text/x-python",
   "name": "python",
   "nbconvert_exporter": "python",
   "pygments_lexer": "ipython3",
   "version": "3.12.1"
  }
 },
 "nbformat": 4,
 "nbformat_minor": 2
}
