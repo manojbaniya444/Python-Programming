{
 "cells": [
  {
   "cell_type": "markdown",
   "metadata": {},
   "source": [
    "## Dataclass"
   ]
  },
  {
   "cell_type": "code",
   "execution_count": 3,
   "metadata": {},
   "outputs": [],
   "source": [
    "from dataclasses import dataclass, field\n",
    "from typing import List, Optional, Dict\n",
    "from pydantic import BaseModel, Field, TypeAdapter\n",
    "\n",
    "@dataclass\n",
    "class User:\n",
    "    id: int\n",
    "    name: str = \"JohnDoe\"\n",
    "    age: Optional[int] = field(\n",
    "        default=None,\n",
    "        metadata=dict(title=\"The age of the user\", description=\"do not lie about your age\", ge=10)\n",
    "    )\n",
    "    # Field work in normal dataclass with pydantic but not recommended just use BaseModel from pydantic\n",
    "    height: Optional[float] = Field(None, title=\"The height in cm\", ge=0.0, le=400.0)\n",
    "    friends: List[int] = field(default_factory=lambda: [0])"
   ]
  },
  {
   "cell_type": "code",
   "execution_count": 4,
   "metadata": {},
   "outputs": [
    {
     "name": "stdout",
     "output_type": "stream",
     "text": [
      "{'properties': {'id': {'title': 'Id', 'type': 'integer'}, 'name': {'default': 'JohnDoe', 'title': 'Name', 'type': 'string'}, 'age': {'anyOf': [{'minimum': 10, 'type': 'integer'}, {'type': 'null'}], 'default': None, 'description': 'do not lie about your age', 'title': 'The age of the user'}, 'height': {'anyOf': [{'maximum': 400.0, 'minimum': 0.0, 'type': 'number'}, {'type': 'null'}], 'default': None, 'title': 'The height in cm'}, 'friends': {'items': {'type': 'integer'}, 'title': 'Friends', 'type': 'array'}}, 'required': ['id'], 'title': 'User', 'type': 'object'}\n"
     ]
    }
   ],
   "source": [
    "print(TypeAdapter(User).json_schema())"
   ]
  },
  {
   "cell_type": "markdown",
   "metadata": {},
   "source": [
    "## strict Model"
   ]
  },
  {
   "cell_type": "code",
   "execution_count": 5,
   "metadata": {},
   "outputs": [
    {
     "data": {
      "text/plain": [
       "User(id=1, username='JohnDoe')"
      ]
     },
     "execution_count": 5,
     "metadata": {},
     "output_type": "execute_result"
    }
   ],
   "source": [
    "from pydantic import BaseModel\n",
    "\n",
    "class User(BaseModel):\n",
    "    id: int\n",
    "    username: str\n",
    "    \n",
    "user = User(id=\"1\", username=\"JohnDoe\") # not error because it will try to parseInt the id.\n",
    "user"
   ]
  },
  {
   "cell_type": "code",
   "execution_count": 6,
   "metadata": {},
   "outputs": [
    {
     "name": "stdout",
     "output_type": "stream",
     "text": [
      "1 validation error for User\n",
      "id\n",
      "  Input should be a valid integer [type=int_type, input_value='1', input_type=str]\n",
      "    For further information visit https://errors.pydantic.dev/2.7/v/int_type\n"
     ]
    }
   ],
   "source": [
    "try:\n",
    "    User.model_validate({\"id\": \"1\", \"username\": \"JohnDoe\"}, strict=True)\n",
    "except Exception as e:\n",
    "    print(e)"
   ]
  },
  {
   "cell_type": "code",
   "execution_count": 7,
   "metadata": {},
   "outputs": [],
   "source": [
    "# !pip install pydantic-settings"
   ]
  },
  {
   "cell_type": "markdown",
   "metadata": {},
   "source": [
    "## Pydantic Settings"
   ]
  },
  {
   "cell_type": "code",
   "execution_count": 8,
   "metadata": {},
   "outputs": [],
   "source": [
    "import os\n",
    "from pydantic import Field\n",
    "from pydantic_settings import BaseSettings"
   ]
  },
  {
   "cell_type": "code",
   "execution_count": 9,
   "metadata": {},
   "outputs": [],
   "source": [
    "class Setting(BaseSettings):\n",
    "    auth_key: str = Field(...)\n",
    "    api_key: str = Field(...)\n",
    "    \n",
    "# print(Setting().model_dump())"
   ]
  },
  {
   "cell_type": "code",
   "execution_count": 10,
   "metadata": {},
   "outputs": [
    {
     "name": "stdout",
     "output_type": "stream",
     "text": [
      "auth_key='auth_key_secret' api_key='my_api_secretkey'\n"
     ]
    }
   ],
   "source": [
    "import os \n",
    "from pydantic import AliasChoices\n",
    "\n",
    "os.environ[\"AUTH_KEY\"] = \"auth_key_secret\"\n",
    "os.environ[\"API_KEY_2\"] = \"my_api_secretkey\"\n",
    "\n",
    "class Settings(BaseSettings):\n",
    "    auth_key: str\n",
    "    api_key: str = Field(validation_alias=AliasChoices(\"API_KEY_2\", \"API_KEY\")) # choose from .env or here\n",
    "    \n",
    "settings = Settings()\n",
    "\n",
    "print(settings)"
   ]
  }
 ],
 "metadata": {
  "kernelspec": {
   "display_name": "Python 3",
   "language": "python",
   "name": "python3"
  },
  "language_info": {
   "codemirror_mode": {
    "name": "ipython",
    "version": 3
   },
   "file_extension": ".py",
   "mimetype": "text/x-python",
   "name": "python",
   "nbconvert_exporter": "python",
   "pygments_lexer": "ipython3",
   "version": "3.12.1"
  }
 },
 "nbformat": 4,
 "nbformat_minor": 2
}
