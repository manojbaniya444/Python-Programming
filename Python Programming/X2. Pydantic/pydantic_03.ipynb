{
 "cells": [
  {
   "cell_type": "markdown",
   "metadata": {},
   "source": [
    "## Pydantic v2: continue"
   ]
  },
  {
   "cell_type": "markdown",
   "metadata": {},
   "source": [
    "### Field Validator\n",
    "Field validator is for specific field in class attribute"
   ]
  },
  {
   "cell_type": "code",
   "execution_count": 8,
   "metadata": {},
   "outputs": [
    {
     "name": "stdout",
     "output_type": "stream",
     "text": [
      "For owner1\n",
      "1 validation error for Owner\n",
      "name\n",
      "  Value error, must contain a space in name field [type=value_error, input_value='sam', input_type=str]\n",
      "    For further information visit https://errors.pydantic.dev/2.7/v/value_error\n",
      "for owner2\n",
      "name='SAM SMITH' email='samsmith@xyz.com'\n"
     ]
    }
   ],
   "source": [
    "from pydantic import BaseModel, EmailStr, field_validator\n",
    "\n",
    "class Owner(BaseModel):\n",
    "    name: str\n",
    "    email: EmailStr\n",
    "    \n",
    "    @field_validator(\"name\")\n",
    "    @classmethod\n",
    "    def name_must_contain_space(cls, v):\n",
    "        if \" \" not in v:\n",
    "            raise ValueError(\"must contain a space in name field\")\n",
    "        return v.upper() # name will be converted to uppercase letter\n",
    "    \n",
    "print(\"For owner1\")\n",
    "try:\n",
    "    owner = Owner(\n",
    "        name =\"sam\",\n",
    "        email = \"sam@gmail.com\"\n",
    "    )\n",
    "except ValueError as e:\n",
    "    print(e)\n",
    "    \n",
    "print(\"for owner2\")\n",
    "try:\n",
    "    owner = Owner(\n",
    "        name = \"sam smith\",\n",
    "        email = \"samsmith@xyz.com\"\n",
    "    )\n",
    "    print(owner)\n",
    "except ValueError as e:\n",
    "    print(e)"
   ]
  },
  {
   "cell_type": "markdown",
   "metadata": {},
   "source": [
    "### Model Validator\n",
    "validate a complete data model"
   ]
  },
  {
   "cell_type": "code",
   "execution_count": 16,
   "metadata": {},
   "outputs": [
    {
     "name": "stdout",
     "output_type": "stream",
     "text": [
      "Received data: {'name': 'sam', 'email': 'name@xyz.com', 'password': '1234'}\n",
      "1 validation error for Owner\n",
      "  Value error, password shold not be included. [type=value_error, input_value={'name': 'sam', 'email': ...om', 'password': '1234'}, input_type=dict]\n",
      "    For further information visit https://errors.pydantic.dev/2.7/v/value_error\n",
      "\n",
      "\n",
      "Received data: {'name': 'alice', 'email': 'email@xyz.com'}\n",
      "1 validation error for Owner\n",
      "  Value error, must contain space in name [type=value_error, input_value={'name': 'alice', 'email': 'email@xyz.com'}, input_type=dict]\n",
      "    For further information visit https://errors.pydantic.dev/2.7/v/value_error\n",
      "\n",
      "\n",
      "Received data: {'name': 'John Doe', 'email': 'john@xyz.com'}\n",
      "Owner detail: name='John Doe' email='john@xyz.com' and type: <class '__main__.Owner'>\n"
     ]
    }
   ],
   "source": [
    "from typing import Any\n",
    "from pydantic import EmailStr, ValidationError, model_validator, BaseModel\n",
    "\n",
    "class Owner(BaseModel):\n",
    "    name: str\n",
    "    email: EmailStr\n",
    "    \n",
    "    @model_validator(mode='before') # run before checking for data type and all\n",
    "    @classmethod\n",
    "    def check_sensitive_info(cls, data: Any):\n",
    "        print(f\"Received data: {data}\")\n",
    "        if isinstance(data, dict):\n",
    "            if \"password\" in data:\n",
    "                raise ValueError(\"password shold not be included.\")\n",
    "            if \"card_number\" in data:\n",
    "                raise ValueError(\"card_number should not be included.\")\n",
    "        return data\n",
    "    \n",
    "    @model_validator(mode=\"after\") # after the data type is checked\n",
    "    def check_name_contain_space(self):\n",
    "        if \" \" not in self.name:\n",
    "            raise ValueError(\"must contain space in name\")\n",
    "        return self\n",
    "    \n",
    "try:\n",
    "    owner = Owner(\n",
    "        name=\"sam\",\n",
    "        email=\"name@xyz.com\", # even if there is validation error\n",
    "        password=\"1234\" # this run because of \"before\"\n",
    "    )\n",
    "    print(owner)\n",
    "except ValidationError as e:\n",
    "    print(e)\n",
    "    \n",
    "print(\"\\n\")\n",
    "\n",
    "try:\n",
    "    owner = Owner(\n",
    "        name=\"alice\", # there is no error for sensitive check so validator after will run\n",
    "        email=\"email@xyz.com\"\n",
    "    )\n",
    "    print(owner)\n",
    "except Exception as e:\n",
    "    print(e) \n",
    "    \n",
    "print(\"\\n\")\n",
    "\n",
    "try:\n",
    "    owner = Owner(\n",
    "        name = \"John Doe\",\n",
    "        email = \"john@xyz.com\"\n",
    "    )\n",
    "    print(f\"Owner detail: {owner} and type: {type(owner)}\")\n",
    "except ValidationError as e:\n",
    "    print(e)"
   ]
  },
  {
   "cell_type": "markdown",
   "metadata": {},
   "source": [
    "### Field"
   ]
  },
  {
   "cell_type": "code",
   "execution_count": 18,
   "metadata": {},
   "outputs": [
    {
     "name": "stdout",
     "output_type": "stream",
     "text": [
      "{'id': '70575b5417e747049dc6ca15afebb332'}\n"
     ]
    },
    {
     "name": "stderr",
     "output_type": "stream",
     "text": [
      "C:\\Users\\acer\\AppData\\Roaming\\Python\\Python312\\site-packages\\pydantic\\main.py:347: UserWarning: Pydantic serializer warnings:\n",
      "  Expected `int` but got `str` - serialized value may not be as expected\n",
      "  return self.__pydantic_serializer__.to_python(\n"
     ]
    }
   ],
   "source": [
    "from pydantic import Field, BaseModel\n",
    "from uuid import uuid4\n",
    "\n",
    "class User(BaseModel):\n",
    "    id: int = Field(default_factory=lambda: uuid4().hex) # default_factory is used to generate value at runtime\n",
    "\n",
    "user = User()\n",
    "print(user.model_dump())"
   ]
  },
  {
   "cell_type": "code",
   "execution_count": 19,
   "metadata": {},
   "outputs": [
    {
     "name": "stdout",
     "output_type": "stream",
     "text": [
      "name='john'\n",
      "{'username': 'john'}\n"
     ]
    }
   ],
   "source": [
    "from pydantic import Field\n",
    "\n",
    "class User(BaseModel):\n",
    "    name: str = Field(..., alias=\"username\")\n",
    "    \n",
    "user = User(username=\"john\")\n",
    "print(user)\n",
    "print(user.model_dump(by_alias=True))"
   ]
  },
  {
   "cell_type": "markdown",
   "metadata": {},
   "source": [
    "### Field Constraint"
   ]
  },
  {
   "cell_type": "code",
   "execution_count": 23,
   "metadata": {},
   "outputs": [
    {
     "data": {
      "text/plain": [
       "User(username='john', email='example@gmail.com', age=10, balance=Decimal('100.0'), is_active=True, favourite_numbers=[1, 2, 3], height=6.8)"
      ]
     },
     "execution_count": 23,
     "metadata": {},
     "output_type": "execute_result"
    }
   ],
   "source": [
    "from typing import List\n",
    "from pydantic import BaseModel, Field, EmailStr\n",
    "from decimal import Decimal\n",
    "\n",
    "class User(BaseModel):\n",
    "    username: str = Field(..., min_length=3, max_length=50, pattern=r\"^\\w+$\") # this pattern is for word character only\n",
    "    email: EmailStr = Field(...)\n",
    "    age: int = Field(..., gt=0, lt=110)\n",
    "    balance: Decimal = Field(..., max_digits=10, decimal_places=2)\n",
    "    is_active: bool = Field(True)\n",
    "    favourite_numbers: List[int] = Field(..., min_items=1)\n",
    "    height: float = Field(..., gt=0.0)\n",
    "    \n",
    "user = User(\n",
    "    username=\"john\",\n",
    "    email=\"example@gmail.com\",\n",
    "    age=10,\n",
    "    balance=100.0,\n",
    "    favourite_numbers=[1,2,3],\n",
    "    height=6.8,\n",
    "    is_active=True\n",
    ")\n",
    "\n",
    "user"
   ]
  },
  {
   "cell_type": "code",
   "execution_count": 25,
   "metadata": {},
   "outputs": [
    {
     "data": {
      "text/plain": [
       "Person(name='John', birth_year=1990, age=34)"
      ]
     },
     "execution_count": 25,
     "metadata": {},
     "output_type": "execute_result"
    }
   ],
   "source": [
    "from pydantic import BaseModel, computed_field\n",
    "from datetime import datetime\n",
    "\n",
    "class Person(BaseModel):\n",
    "    name: str\n",
    "    birth_year: int\n",
    "    \n",
    "    @computed_field # compute a new field based on the existing field\n",
    "    @property\n",
    "    # property is used to make a method as attribute\n",
    "    def age(self) -> int:\n",
    "        current_year = datetime.now().year\n",
    "        return current_year - self.birth_year\n",
    "    \n",
    "person = Person(\n",
    "    name=\"John\",\n",
    "    birth_year=1990\n",
    ")\n",
    "\n",
    "person"
   ]
  },
  {
   "cell_type": "code",
   "execution_count": 40,
   "metadata": {},
   "outputs": [
    {
     "name": "stdout",
     "output_type": "stream",
     "text": [
      "1 validation error for Person\n",
      "birth_year\n",
      "  Value error, age must be greater than 18 [type=value_error, input_value=2020, input_type=int]\n",
      "    For further information visit https://errors.pydantic.dev/2.7/v/value_error\n"
     ]
    },
    {
     "data": {
      "text/plain": [
       "Person(name='John', birth_year=1960, age=64)"
      ]
     },
     "execution_count": 40,
     "metadata": {},
     "output_type": "execute_result"
    }
   ],
   "source": [
    "from pydantic import BaseModel, field_validator\n",
    "from datetime import datetime\n",
    "\n",
    "class Person(BaseModel):\n",
    "    name: str\n",
    "    birth_year: int\n",
    "    \n",
    "    @computed_field\n",
    "    @property\n",
    "    def age(self) -> int:\n",
    "        current_year = datetime.now().year\n",
    "        age = current_year - self.birth_year\n",
    "        return age\n",
    "    \n",
    "    @field_validator(\"birth_year\")\n",
    "    @classmethod\n",
    "    def validate_age(cls, v:int):\n",
    "        current_year = datetime.now().year\n",
    "        if current_year - v < 18:\n",
    "            raise ValueError(\"age must be greater than 18\")\n",
    "        return v\n",
    "    \n",
    "try:\n",
    "    Person(name=\"John\", birth_year=2020)\n",
    "except ValidationError as e:\n",
    "    print(e)\n",
    "\n",
    "person = Person(name=\"John\", birth_year=1960)\n",
    "person"
   ]
  }
 ],
 "metadata": {
  "kernelspec": {
   "display_name": "Python 3",
   "language": "python",
   "name": "python3"
  },
  "language_info": {
   "codemirror_mode": {
    "name": "ipython",
    "version": 3
   },
   "file_extension": ".py",
   "mimetype": "text/x-python",
   "name": "python",
   "nbconvert_exporter": "python",
   "pygments_lexer": "ipython3",
   "version": "3.12.1"
  }
 },
 "nbformat": 4,
 "nbformat_minor": 2
}
