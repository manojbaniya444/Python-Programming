{
 "cells": [
  {
   "cell_type": "markdown",
   "metadata": {},
   "source": [
    "## Pydantic\n",
    "Data validation library."
   ]
  },
  {
   "cell_type": "code",
   "execution_count": 1,
   "metadata": {},
   "outputs": [],
   "source": [
    "from pydantic import BaseModel"
   ]
  },
  {
   "cell_type": "code",
   "execution_count": 17,
   "metadata": {},
   "outputs": [
    {
     "name": "stdout",
     "output_type": "stream",
     "text": [
      "value age: 10\n"
     ]
    },
    {
     "data": {
      "text/plain": [
       "Student(name='Amy Smith', age=None, grade=None, email='amy@gmail.com', dob=datetime.date(2010, 1, 1), standard=<Standard.primary: 1>)"
      ]
     },
     "metadata": {},
     "output_type": "display_data"
    }
   ],
   "source": [
    "from pydantic import EmailStr, field_validator, Field\n",
    "import datetime\n",
    "from enum import Enum\n",
    "\n",
    "class Standard(Enum):\n",
    "    primary = 1\n",
    "    secondary = 2\n",
    "    matric = 3\n",
    "\n",
    "class Student(BaseModel):\n",
    "    name: str\n",
    "    age: int\n",
    "    grade: int\n",
    "    email: EmailStr\n",
    "    dob: datetime.date\n",
    "    standard: Standard\n",
    "    \n",
    "    @field_validator(\"age\")\n",
    "    def validate_age(cls, v):\n",
    "        print(f\"value age: {v}\")\n",
    "        if v < 5 or v > 30:\n",
    "            raise ValueError(\"Age must be greater than 5 and less than 30 other wise go to college.\")\n",
    "        \n",
    "    @field_validator(\"grade\")\n",
    "    def validate_grade(cls, v):\n",
    "        if v < 3.0:\n",
    "            raise ValueError(\"Grade must be greater than 3.0\")\n",
    "\n",
    "student = Student(name=\"Amy Smith\", age=10, grade=4, email=\"amy@gmail.com\", dob=datetime.date(2010, 1, 1), standard=Standard.primary)\n",
    "\n",
    "display(student)"
   ]
  }
 ],
 "metadata": {
  "kernelspec": {
   "display_name": "Python 3",
   "language": "python",
   "name": "python3"
  },
  "language_info": {
   "codemirror_mode": {
    "name": "ipython",
    "version": 3
   },
   "file_extension": ".py",
   "mimetype": "text/x-python",
   "name": "python",
   "nbconvert_exporter": "python",
   "pygments_lexer": "ipython3",
   "version": "3.12.1"
  }
 },
 "nbformat": 4,
 "nbformat_minor": 2
}
