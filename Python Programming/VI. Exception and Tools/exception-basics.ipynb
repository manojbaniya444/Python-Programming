{
 "cells": [
  {
   "cell_type": "markdown",
   "metadata": {},
   "source": [
    "## Exception\n",
    "Exceptions are such events which can modify the flow of control through a program. In python exceptions are triggered automatically on errors and they can be triggered and intercepted by our code.\n",
    "\n",
    "- `try/catch`\n",
    "catch and recover from exceptions raised by python or by us.\n",
    "\n",
    "- `try/finally`\n",
    "Perform cleanup actions whether exceptions occur or not\n",
    "\n",
    "- `raise`\n",
    "trigger an exception manually in our code\n",
    "\n",
    "- `assert`\n",
    "conditionally trigger an exception in our code\n",
    "\n",
    "- `with/as`\n",
    "implement context manager\n",
    "\n",
    "## Exception roles\n",
    "1. Error Handling\n",
    "2. Event Notification\n",
    "3. Special case handling\n",
    "4. Termination actions\n",
    "5. Unusual control"
   ]
  },
  {
   "cell_type": "code",
   "execution_count": 5,
   "metadata": {},
   "outputs": [
    {
     "name": "stdout",
     "output_type": "stream",
     "text": [
      "got exception\n"
     ]
    }
   ],
   "source": [
    "## CATCHING EXCEPTIONS\n",
    "\n",
    "def fetcher(obj, index):\n",
    "    return obj[index]\n",
    "\n",
    "try:\n",
    "    fetcher(\"hello\", 9)\n",
    "except IndexError:\n",
    "    print(\"got exception\")"
   ]
  },
  {
   "cell_type": "code",
   "execution_count": 6,
   "metadata": {},
   "outputs": [
    {
     "name": "stdout",
     "output_type": "stream",
     "text": [
      "Got index error\n"
     ]
    }
   ],
   "source": [
    "## RAISING EXCEPTIONS\n",
    "try:\n",
    "    raise IndexError\n",
    "except IndexError:\n",
    "    print(\"Got index error\")"
   ]
  },
  {
   "cell_type": "code",
   "execution_count": 9,
   "metadata": {},
   "outputs": [
    {
     "name": "stdout",
     "output_type": "stream",
     "text": [
      "got exception\n"
     ]
    }
   ],
   "source": [
    "## USER-DEFINED EXCEPTIONS\n",
    "class AlreadyGotOne(Exception): pass\n",
    "\n",
    "def grail():\n",
    "    raise AlreadyGotOne()\n",
    "\n",
    "try:\n",
    "    grail()\n",
    "except AlreadyGotOne:\n",
    "    print(\"got exception\")"
   ]
  },
  {
   "cell_type": "code",
   "execution_count": 12,
   "metadata": {},
   "outputs": [
    {
     "name": "stdout",
     "output_type": "stream",
     "text": [
      "got exception\n",
      "Finally after exception\n"
     ]
    }
   ],
   "source": [
    "try:\n",
    "    fetcher(\"hello\", 9)\n",
    "except IndexError:\n",
    "    print(\"got exception\")\n",
    "finally:\n",
    "    print(\"Finally after exception\")"
   ]
  },
  {
   "cell_type": "markdown",
   "metadata": {},
   "source": [
    "## The try/except/else statement\n",
    "\n",
    "```python\n",
    "try:\n",
    "    statements # Run this main action first\n",
    "except name1: # Run if name1 is raised during try block\n",
    "    statements\n",
    "except (name2, name3): # Run if any these raise\n",
    "    statements\n",
    "except name4 as var:\n",
    "    statements # Run if name4 is raised assign instance raised var\n",
    "except:\n",
    "    statements # Run for all other exceptions raised\n",
    "else:\n",
    "    statements # Run if no exception raised.\n",
    "```\n",
    "\n",
    "1. `except`: Catch all exception type\n",
    "2. `except name`: catch a specific exception only\n",
    "3. `except name as value`: catch the listed exception and assign its instance\n",
    "4. `except (name1, name2)`: Catch any of the listed exception\n",
    "5. `except (name1, name2) as value`: Catch any listed exception and assign its instance\n",
    "6. `else`: Run if no exceptions are raised in the try block\n",
    "7. `finally`: Always perform this block on exit\n"
   ]
  },
  {
   "cell_type": "markdown",
   "metadata": {},
   "source": [
    "## The assert Statement\n",
    "It is mostly just syntactic shorthand for a common raise usuage pattern and assert can be thought of a conditional raise statement. A statement of the form:\n",
    "\n",
    "assert test, data # The data part is optional\n",
    "\n",
    "```python\n",
    "if not test:\n",
    "    raise AssertionError(data)\n",
    "```"
   ]
  },
  {
   "cell_type": "markdown",
   "metadata": {},
   "source": [
    "## The with/as Context Managers\n",
    "the with and its optional as clause is designed to work with context manager objects which support a new method based protocol similar in spirit to the way that iteration tools work with methods of the iteration protocol.\n",
    "\n",
    "The **with/as** statement is designed to be an alternative to a common **try/finally** usuage idiom."
   ]
  },
  {
   "cell_type": "code",
   "execution_count": 15,
   "metadata": {},
   "outputs": [],
   "source": [
    "with open(\"./test.txt\", \"w\") as f:\n",
    "    f.write(\"Hello\")"
   ]
  },
  {
   "cell_type": "code",
   "execution_count": 16,
   "metadata": {},
   "outputs": [
    {
     "name": "stdout",
     "output_type": "stream",
     "text": [
      "Hello\n"
     ]
    }
   ],
   "source": [
    "myfile = open(\"./test.txt\", \"r\")\n",
    "try:\n",
    "    for line in myfile:\n",
    "        print(line)\n",
    "finally:\n",
    "    myfile.close()"
   ]
  },
  {
   "cell_type": "code",
   "execution_count": 17,
   "metadata": {},
   "outputs": [
    {
     "name": "stdout",
     "output_type": "stream",
     "text": [
      "Sorry this is my mistake.\n"
     ]
    }
   ],
   "source": [
    "## Custom print display\n",
    "\n",
    "class MyBad(Exception): pass\n",
    "\n",
    "try:\n",
    "    raise MyBad(\"Sorry this is my mistake.\")\n",
    "except MyBad as e:\n",
    "    print(e)"
   ]
  },
  {
   "cell_type": "code",
   "execution_count": 18,
   "metadata": {},
   "outputs": [
    {
     "name": "stdout",
     "output_type": "stream",
     "text": [
      "Sorry this is my mistake.\n"
     ]
    }
   ],
   "source": [
    "class MyBad(Exception):\n",
    "    def __str__(self):\n",
    "        return \"Sorry this is my mistake.\"\n",
    "    \n",
    "try:\n",
    "    raise MyBad()\n",
    "except MyBad as e:\n",
    "    print(e)"
   ]
  },
  {
   "cell_type": "code",
   "execution_count": 22,
   "metadata": {},
   "outputs": [
    {
     "name": "stdout",
     "output_type": "stream",
     "text": [
      "Error at spam.txt 42\n"
     ]
    }
   ],
   "source": [
    "## Providing Exception Details\n",
    "\n",
    "class FormatError(Exception):\n",
    "    def __init__(self, line, file):\n",
    "        self.line = line\n",
    "        self.file = file\n",
    "\n",
    "def parser():\n",
    "    raise FormatError(42, file=\"spam.txt\") # when error found here it will raise format error\n",
    "\n",
    "try:\n",
    "    parser()\n",
    "except FormatError as e:\n",
    "    print(\"Error at\", e.file, e.line)\n",
    "    "
   ]
  },
  {
   "cell_type": "code",
   "execution_count": 23,
   "metadata": {},
   "outputs": [
    {
     "name": "stdout",
     "output_type": "stream",
     "text": [
      "Error at spam.txt 42\n"
     ]
    }
   ],
   "source": [
    "## Providing Exception Methods\n",
    "\n",
    "class FormatError(Exception):\n",
    "    def __init__(self, line, file):\n",
    "        self.line = line\n",
    "        self.file = file\n",
    "    def logerror(self):\n",
    "        print(\"Error at\", self.file, self.line)\n",
    "    \n",
    "def parser():\n",
    "    raise FormatError(42, file=\"spam.txt\") # when error found here it will raise format error\n",
    "\n",
    "try:\n",
    "    parser()\n",
    "except FormatError as e:\n",
    "    e.logerror()"
   ]
  },
  {
   "cell_type": "markdown",
   "metadata": {},
   "source": [
    "## Designing with exceptions"
   ]
  },
  {
   "cell_type": "code",
   "execution_count": 42,
   "metadata": {},
   "outputs": [
    {
     "name": "stdout",
     "output_type": "stream",
     "text": [
      "Inner try\n"
     ]
    }
   ],
   "source": [
    "## Control flow nesting\n",
    "\n",
    "def action2():\n",
    "    print(1 + []) # Generate TypeError\n",
    "    \n",
    "def action1():\n",
    "    try:\n",
    "        action2()\n",
    "    except TypeError: # most recent matching try\n",
    "        print(\"Inner try\")\n",
    "        # raise TypeError # if this enable then we will get the outer try error\n",
    "\n",
    "try:\n",
    "    action1()\n",
    "except TypeError: # here only if action1 re raise\n",
    "    print(\"Outer try\")\n",
    "    "
   ]
  },
  {
   "cell_type": "code",
   "execution_count": 44,
   "metadata": {},
   "outputs": [
    {
     "name": "stdout",
     "output_type": "stream",
     "text": [
      "Inner try\n",
      "Outer try\n"
     ]
    }
   ],
   "source": [
    "## Syntactic nesting\n",
    "\n",
    "try:\n",
    "    try:\n",
    "        raise IndexError()\n",
    "    except IndexError:\n",
    "        print(\"Inner try\")\n",
    "        raise # cause outer try to catch\n",
    "except IndexError:\n",
    "    print(\"Outer try\")"
   ]
  },
  {
   "cell_type": "markdown",
   "metadata": {},
   "source": [
    "## Exception design tip\n",
    "- Operations that commonly fail should generally be wrapped in try statements.\n",
    "- However in a simple script we may want failures of such operations to kill our program instead of being caught and ignored.\n",
    "- We should implement termination actions in try/finally statements to guarantee their execution unless a context manager is available as a with/as option.\n",
    "- It is more convinient to wrap the call to a large function in a single try statement rather than littering the function itelsf with many try statements."
   ]
  }
 ],
 "metadata": {
  "kernelspec": {
   "display_name": "Python 3",
   "language": "python",
   "name": "python3"
  },
  "language_info": {
   "codemirror_mode": {
    "name": "ipython",
    "version": 3
   },
   "file_extension": ".py",
   "mimetype": "text/x-python",
   "name": "python",
   "nbconvert_exporter": "python",
   "pygments_lexer": "ipython3",
   "version": "3.12.1"
  }
 },
 "nbformat": 4,
 "nbformat_minor": 2
}
