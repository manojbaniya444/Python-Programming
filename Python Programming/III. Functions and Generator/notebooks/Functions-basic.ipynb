{
 "cells": [
  {
   "cell_type": "markdown",
   "metadata": {},
   "source": [
    "## Function\n",
    "A function is a device that groups a set of statement so they can be rerun when we want.\n",
    "\n",
    "## Function related statement and expressions\n",
    "- myfunc() # calling\n",
    "- def func():\n",
    "    pass   # function definition\n",
    "- return # returning\n",
    "- global # global variable\n",
    "- nonlocal \n",
    "- yield\n",
    "- lambda\n",
    "\n",
    "## Learn\n",
    "- def is executable code\n",
    "- def creates an object and assigns it to a name\n",
    "- lambda creates an object but returns it as a result\n",
    "- return sends a result object back to the caller\n",
    "- yield sends a result object back to the caller, but remembers where it left off.\n",
    "- global declares module-level variables that are to be assigned\n",
    "- nonlocal declares enclosing function variables that are to be assigned\n",
    "- Arguments are passed by assignment (object reference)\n",
    "- Arguments are passed by position, unless we say otherwise\n",
    "- Argument return value\n",
    "- lets code"
   ]
  },
  {
   "cell_type": "code",
   "execution_count": 1,
   "metadata": {},
   "outputs": [
    {
     "data": {
      "text/plain": [
       "True"
      ]
     },
     "execution_count": 1,
     "metadata": {},
     "output_type": "execute_result"
    }
   ],
   "source": [
    "def name(arg1, arg2):\n",
    "    return True\n",
    "\n",
    "name(1,2)"
   ]
  },
  {
   "cell_type": "code",
   "execution_count": 4,
   "metadata": {},
   "outputs": [
    {
     "data": {
      "text/plain": [
       "True"
      ]
     },
     "execution_count": 4,
     "metadata": {},
     "output_type": "execute_result"
    }
   ],
   "source": [
    "# def executes at runtime\n",
    "# function do not need to be fully defined before the program run.\n",
    "# def are not evaluated until they are reached and run and the code insode def is not evaluated until the functions are later called.\n",
    "# function definition happen at runtime there is nothing special about the function name what is important is the object it refer to.\n",
    "\n",
    "test = \"\"\n",
    "if test:\n",
    "    def name(arg1, arg2):\n",
    "        return False\n",
    "else:\n",
    "    def name(arg1, arg2):\n",
    "        return True\n",
    "\n",
    "name(1,2)"
   ]
  },
  {
   "cell_type": "code",
   "execution_count": 5,
   "metadata": {},
   "outputs": [
    {
     "data": {
      "text/plain": [
       "True"
      ]
     },
     "execution_count": 5,
     "metadata": {},
     "output_type": "execute_result"
    }
   ],
   "source": [
    "othername = name\n",
    "othername(1,2)"
   ]
  },
  {
   "cell_type": "code",
   "execution_count": 6,
   "metadata": {},
   "outputs": [
    {
     "data": {
      "text/plain": [
       "'value'"
      ]
     },
     "execution_count": 6,
     "metadata": {},
     "output_type": "execute_result"
    }
   ],
   "source": [
    "othername.attr1 = \"value\"\n",
    "othername.attr1"
   ]
  },
  {
   "cell_type": "markdown",
   "metadata": {},
   "source": [
    "## Scope\n",
    "The places where variables are defined and looked up. The place where a name assigned is important.\n",
    "\n",
    "The term `**scope**` is namespace that is the location of a name's assignment in our source code determine the scope of the name visibility to our code.\n",
    "\n",
    "Python uses the location of the assignment of a name to associate it with to a particular namespace. In other words the place where we assign a name in our source code determines the namespace it wil live in and hence its scope of visibility.\n",
    "\n",
    "- name assigned insode a def can only be seen by the code within that def. we cannot even refer to such names from outside the function.\n",
    "\n",
    "- name assigned inside a def do not clash with the variable outside the def even if the same name is used elsewhere.\n",
    "\n",
    "- If a variable is assigned inside a def, it is local to that function\n",
    "\n",
    "- If a variable is assigned in an enclosing function (a function that contains another function), it is considered nonlocal to the nested functions within it. This means that the nested functions can access and modify this variable, but it is not a global variable.\n",
    "\n",
    "- If a variable is assigned outside all defs it is gloval to the whole.\n",
    "\n"
   ]
  },
  {
   "cell_type": "code",
   "execution_count": 14,
   "metadata": {},
   "outputs": [
    {
     "name": "stdout",
     "output_type": "stream",
     "text": [
      "inner_function: Hi Adios\n",
      "outer_function: Hi Hola\n"
     ]
    }
   ],
   "source": [
    "def outer_function():\n",
    "    x = \"Hello\" # x is in the enclosing scope\n",
    "    y = \"Hola\"\n",
    "    def inner_function():\n",
    "        nonlocal x # declaring x as nonlocal\n",
    "        x = \"Hi\" # declared x as nonlocal so we can change x\n",
    "        y = \"Adios\" # this will create a new y in the inner_function scope and not change the y in the outer_function scope\n",
    "        print(\"inner_function:\", x, y)\n",
    "        \n",
    "    inner_function()\n",
    "    print(\"outer_function:\", x, y)\n",
    "outer_function()"
   ]
  },
  {
   "cell_type": "code",
   "execution_count": 18,
   "metadata": {},
   "outputs": [
    {
     "name": "stdout",
     "output_type": "stream",
     "text": [
      "In a function:  100 1\n",
      "Outside function x :  99 1\n"
     ]
    }
   ],
   "source": [
    "x = 99\n",
    "y = 0\n",
    "\n",
    "def function():\n",
    "    global y\n",
    "    y = 1 # This will change the outer y because this is global now\n",
    "    x = 100\n",
    "    print(\"In a function: \", x, y)\n",
    "    \n",
    "function(); print(\"Outside function x : \", x, y)"
   ]
  },
  {
   "cell_type": "markdown",
   "metadata": {},
   "source": [
    "- The enclosing module is a global scope\n",
    "- The global scope spans a single file only\n",
    "- Assigned names are local unless declared global or nonlocal\n",
    "- All other names are enclosing function locals, globals or built ins here\n",
    "- Each call to a function creates a new local scope\n",
    "- Names reference search at most four scopes `local` then `enclosing` then `global` and then `build in`"
   ]
  },
  {
   "cell_type": "code",
   "execution_count": 19,
   "metadata": {},
   "outputs": [
    {
     "name": "stdout",
     "output_type": "stream",
     "text": [
      "1\n",
      "0\n"
     ]
    }
   ],
   "source": [
    "def printNum(num):\n",
    "    x = num\n",
    "    print(x)\n",
    "\n",
    "printNum(1)\n",
    "printNum(0)"
   ]
  },
  {
   "cell_type": "code",
   "execution_count": 20,
   "metadata": {},
   "outputs": [
    {
     "name": "stdout",
     "output_type": "stream",
     "text": [
      "88\n"
     ]
    }
   ],
   "source": [
    "def f1():\n",
    "    x = 88\n",
    "    def f2():\n",
    "        print(x)\n",
    "    return f2\n",
    "\n",
    "action = f1()\n",
    "action()"
   ]
  },
  {
   "cell_type": "code",
   "execution_count": 22,
   "metadata": {},
   "outputs": [
    {
     "data": {
      "text/plain": [
       "<function __main__.maker.<locals>.action(X)>"
      ]
     },
     "execution_count": 22,
     "metadata": {},
     "output_type": "execute_result"
    }
   ],
   "source": [
    "## Closure\n",
    "\n",
    "def maker(N):\n",
    "    def action(X):\n",
    "        return X ** N\n",
    "    return action\n",
    "\n",
    "f = maker(2)\n",
    "f"
   ]
  },
  {
   "cell_type": "code",
   "execution_count": 25,
   "metadata": {},
   "outputs": [
    {
     "data": {
      "text/plain": [
       "1048576"
      ]
     },
     "execution_count": 25,
     "metadata": {},
     "output_type": "execute_result"
    }
   ],
   "source": [
    "f(1024)"
   ]
  },
  {
   "cell_type": "code",
   "execution_count": 28,
   "metadata": {},
   "outputs": [
    {
     "data": {
      "text/plain": [
       "2097152"
      ]
     },
     "execution_count": 28,
     "metadata": {},
     "output_type": "execute_result"
    }
   ],
   "source": [
    "maker(7)(8) # N = 7, X = 8"
   ]
  },
  {
   "cell_type": "code",
   "execution_count": 34,
   "metadata": {},
   "outputs": [],
   "source": [
    "## Lambda function return state\n",
    "\n",
    "# def maker(N):\n",
    "#     return lamba X: X ** N\n",
    "# f = maker(2)"
   ]
  },
  {
   "cell_type": "code",
   "execution_count": 40,
   "metadata": {},
   "outputs": [
    {
     "data": {
      "text/plain": [
       "9"
      ]
     },
     "execution_count": 40,
     "metadata": {},
     "output_type": "execute_result"
    }
   ],
   "source": [
    "def func():\n",
    "    x = 9\n",
    "    action = (lambda n: x ** n)\n",
    "    return action\n",
    "\n",
    "a = func()\n",
    "a(1)"
   ]
  },
  {
   "cell_type": "code",
   "execution_count": 50,
   "metadata": {},
   "outputs": [
    {
     "name": "stdout",
     "output_type": "stream",
     "text": [
      "0 hello\n",
      "1 hi\n"
     ]
    }
   ],
   "source": [
    "## state with nonlocal\n",
    "def tester(start):\n",
    "    state = start\n",
    "    def nested(lable):\n",
    "        nonlocal state\n",
    "        print(state, lable)\n",
    "        state += 1\n",
    "    return nested\n",
    "\n",
    "f = tester(0)\n",
    "f(\"hello\")\n",
    "f('hi')"
   ]
  },
  {
   "cell_type": "code",
   "execution_count": 51,
   "metadata": {},
   "outputs": [
    {
     "name": "stdout",
     "output_type": "stream",
     "text": [
      "hi\n"
     ]
    }
   ],
   "source": [
    "x = 'spam'\n",
    "\n",
    "def whatisX():\n",
    "    x = \"hi\"\n",
    "    def nested():\n",
    "        print(x)\n",
    "    nested()\n",
    "    \n",
    "whatisX()"
   ]
  },
  {
   "cell_type": "code",
   "execution_count": 53,
   "metadata": {},
   "outputs": [
    {
     "name": "stdout",
     "output_type": "stream",
     "text": [
      "100\n"
     ]
    }
   ],
   "source": [
    "def whatisX():\n",
    "    x = 10\n",
    "    def nested():\n",
    "        nonlocal x\n",
    "        x = 100\n",
    "    nested()\n",
    "    print(x)\n",
    "\n",
    "whatisX()"
   ]
  }
 ],
 "metadata": {
  "kernelspec": {
   "display_name": "Python 3",
   "language": "python",
   "name": "python3"
  },
  "language_info": {
   "codemirror_mode": {
    "name": "ipython",
    "version": 3
   },
   "file_extension": ".py",
   "mimetype": "text/x-python",
   "name": "python",
   "nbconvert_exporter": "python",
   "pygments_lexer": "ipython3",
   "version": "3.12.1"
  }
 },
 "nbformat": 4,
 "nbformat_minor": 2
}
