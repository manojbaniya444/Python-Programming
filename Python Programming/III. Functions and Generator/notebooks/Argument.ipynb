{
 "cells": [
  {
   "cell_type": "markdown",
   "metadata": {},
   "source": [
    "## Function Argument\n",
    "The way that objects are sent to function as input.\n",
    "\n",
    "## Argument\n",
    "- Arguments are passed by automatically assigning objects to local variable name.\n",
    "- Assigning to argument names inside a function does not affect the caller\n",
    "- Changing a mutable object argument in a function may impact the caller\n",
    "- Immutable arguments are effectively pass by value\n",
    "- Mutable arguments are effectively pass by pointer"
   ]
  },
  {
   "cell_type": "code",
   "execution_count": 2,
   "metadata": {},
   "outputs": [
    {
     "name": "stdout",
     "output_type": "stream",
     "text": [
      "99\n",
      "88\n"
     ]
    }
   ],
   "source": [
    "def f(a):\n",
    "    a = 99\n",
    "    print(a)\n",
    "    \n",
    "b = 88\n",
    "f(b)\n",
    "print(b)"
   ]
  },
  {
   "cell_type": "code",
   "execution_count": 4,
   "metadata": {},
   "outputs": [
    {
     "name": "stdout",
     "output_type": "stream",
     "text": [
      "Before changing 1 ['hello', 'hi']\n",
      "After changing 1 ['another', 'hi']\n"
     ]
    }
   ],
   "source": [
    "def mutable(a, b):\n",
    "    a = 2\n",
    "    b[0] = \"another\"\n",
    "    \n",
    "x = 1\n",
    "l = [\"hello\", \"hi\"]\n",
    "\n",
    "print(\"Before changing\", x, l)\n",
    "mutable(x, l)\n",
    "print(\"After changing\", x, l)"
   ]
  },
  {
   "cell_type": "code",
   "execution_count": 5,
   "metadata": {},
   "outputs": [
    {
     "name": "stdout",
     "output_type": "stream",
     "text": [
      "1 ['Hello', 'Hi']\n"
     ]
    }
   ],
   "source": [
    "## Avoiding mutable argument changes\n",
    "\n",
    "L = [\"Hello\",\"Hi\"]\n",
    "x = 1\n",
    "\n",
    "mutable(x, L.copy()) # make a copy and send if dont want to change\n",
    "print(x, L)"
   ]
  },
  {
   "cell_type": "code",
   "execution_count": 7,
   "metadata": {},
   "outputs": [
    {
     "name": "stdout",
     "output_type": "stream",
     "text": [
      "Before changing 1 ['hello', 'hi']\n",
      "'tuple' object does not support item assignment\n",
      "After changing 1 ['hello', 'hi']\n"
     ]
    }
   ],
   "source": [
    "## Pass as a tuple so that it is immutable and throws error if we try to change\n",
    "\n",
    "def mutable(a, b):\n",
    "    a = 2\n",
    "    b[0] = \"another\"\n",
    "    \n",
    "x = 1\n",
    "l = [\"hello\", \"hi\"]\n",
    "\n",
    "print(\"Before changing\", x, l)\n",
    "\n",
    "try:\n",
    "    mutable(x, tuple(l))\n",
    "except TypeError as e:\n",
    "    print(e)\n",
    "\n",
    "print(\"After changing\", x, l)"
   ]
  },
  {
   "cell_type": "code",
   "execution_count": 9,
   "metadata": {},
   "outputs": [
    {
     "name": "stdout",
     "output_type": "stream",
     "text": [
      "Sum is:  6\n",
      "Product is:  6\n",
      "Difference is:  -4\n"
     ]
    }
   ],
   "source": [
    "## Multiple parameters and Multiple return values\n",
    "\n",
    "def multiple(x,y,z):\n",
    "    return x+y+z, x*y*z, x-y-z\n",
    "\n",
    "a, b, c = multiple(1,2,3)\n",
    "print(\"Sum is: \", a)\n",
    "print(\"Product is: \", b)\n",
    "print(\"Difference is: \", c)"
   ]
  },
  {
   "cell_type": "markdown",
   "metadata": {},
   "source": [
    "## Special Argument Matching Modes\n",
    "Python provides additional tools that alter the way the argument objects in a call are matched with argument names in the header prior to assignment.\n",
    "\n",
    "By default arguments are matched by position from left to right and we must pass exactly as many arguments as there are argument names in the function header. But we can also specify matching by name, provide default values and use collectors for extra arguments.\n",
    "\n",
    "## Argument Matching Basic\n",
    "- `Positional`: matched from left to right\n",
    "- `Keywords`: matched by argument name\n",
    "- `Default`: specify values for optional arguments that arent passed by the caller\n",
    "- `Varargs collection`: collect arbitrarily many positional or keyword arguments (* or **)\n",
    "- `Varargs unpacking`: pass arbitrarily many positional or keyword arguments\n",
    "- `Keyword only arguments`: arguments that must be passed by name\n",
    "\n",
    "## Argument Matching Syntax\n",
    "```python\n",
    "func(a) # match by position\n",
    "func(name=value) # match by keyword (name)\n",
    "func(*iterable) # pass all objects in iterables\n",
    "func(**dict) # pass all key/value in dict\n",
    "def func(name) # normal argument, match by position\n",
    "def func(name=value) # default argument\n",
    "def func(*name) # matches and collects remaining arguments in tuple\n",
    "def func(**name) # matches and collects remaining keyword arguments in dictionary\n",
    "def func(*other, name) # Arguments that must be passed by keyword only in calls\n",
    "def func(*, name=value) # Arguments that must be passed by keyword only in calls\n",
    "```"
   ]
  },
  {
   "cell_type": "code",
   "execution_count": 11,
   "metadata": {},
   "outputs": [
    {
     "name": "stdout",
     "output_type": "stream",
     "text": [
      "Got value:  10 11\n"
     ]
    }
   ],
   "source": [
    "# simple match by position\n",
    "\n",
    "def func(value1, value2):\n",
    "    print(\"Got value: \", value1, value2)\n",
    "    \n",
    "func(10, 11)"
   ]
  },
  {
   "cell_type": "code",
   "execution_count": 13,
   "metadata": {},
   "outputs": [
    {
     "name": "stdout",
     "output_type": "stream",
     "text": [
      "Got value:  11 10\n"
     ]
    }
   ],
   "source": [
    "# Match by name\n",
    "\n",
    "def func(value1, value2):\n",
    "    print(\"Got value: \", value1, value2)\n",
    "    \n",
    "func(value2=10, value1=11)"
   ]
  },
  {
   "cell_type": "code",
   "execution_count": 14,
   "metadata": {},
   "outputs": [
    {
     "name": "stdout",
     "output_type": "stream",
     "text": [
      "Got value:  11 10\n"
     ]
    }
   ],
   "source": [
    "# Default values\n",
    "\n",
    "def func(value1, value2=10):\n",
    "    print(\"Got value: \", value1, value2)\n",
    "    \n",
    "func(11)"
   ]
  },
  {
   "cell_type": "code",
   "execution_count": 16,
   "metadata": {},
   "outputs": [
    {
     "name": "stdout",
     "output_type": "stream",
     "text": [
      "Got value:  10 11\n"
     ]
    }
   ],
   "source": [
    "def func(value1=10, value2=10):\n",
    "    print(\"Got value: \", value1, value2)\n",
    "    \n",
    "func(value2=11)"
   ]
  },
  {
   "cell_type": "code",
   "execution_count": 17,
   "metadata": {},
   "outputs": [
    {
     "name": "stdout",
     "output_type": "stream",
     "text": [
      "(1, 2, 3, 4, 5)\n"
     ]
    }
   ],
   "source": [
    "# Arbitrary number of arguments\n",
    "\n",
    "def f(*args):\n",
    "    print(args)\n",
    "    \n",
    "f(1,2,3,4,5)"
   ]
  },
  {
   "cell_type": "code",
   "execution_count": 20,
   "metadata": {},
   "outputs": [
    {
     "name": "stdout",
     "output_type": "stream",
     "text": [
      "{'a': 1, 'b': 2}\n"
     ]
    }
   ],
   "source": [
    "def f(**args):\n",
    "    print(args)\n",
    "    \n",
    "f(a=1, b=2) # if used *args, it will throw error so when we use **args, we need to pass key value pair"
   ]
  },
  {
   "cell_type": "code",
   "execution_count": 22,
   "metadata": {},
   "outputs": [
    {
     "name": "stdout",
     "output_type": "stream",
     "text": [
      "1\n",
      "(2, 3, 4, 5)\n",
      "{'b': 6, 'c': 7}\n"
     ]
    }
   ],
   "source": [
    "def f(a, *args, **kwargs):\n",
    "    print(a)\n",
    "    print(args)\n",
    "    print(kwargs)\n",
    "    \n",
    "f(1,2,3,4,5, b=6, c=7) # a gets 1 by position and rest are passed as *args and **kwargs where b and c are key value pairs so they are passed as kwargs and rest are passed as args here"
   ]
  },
  {
   "cell_type": "code",
   "execution_count": 23,
   "metadata": {},
   "outputs": [
    {
     "name": "stdout",
     "output_type": "stream",
     "text": [
      "Got a:  1\n",
      "Got b:  2\n",
      "Got c:  3\n"
     ]
    }
   ],
   "source": [
    "# Unpacking arguments\n",
    "\n",
    "def f(a,b,c):\n",
    "    print(\"Got a: \", a)\n",
    "    print(\"Got b: \", b)\n",
    "    print(\"Got c: \", c)\n",
    "    \n",
    "l = [1,2,3]\n",
    "f(*l)"
   ]
  },
  {
   "cell_type": "code",
   "execution_count": 24,
   "metadata": {},
   "outputs": [
    {
     "name": "stdout",
     "output_type": "stream",
     "text": [
      "Got a:  1\n",
      "Got b:  2\n",
      "Got c:  3\n"
     ]
    }
   ],
   "source": [
    "arg = {\n",
    "    'a': 1,\n",
    "    'b': 2\n",
    "}\n",
    "arg['c'] = 3\n",
    "\n",
    "f(**arg)"
   ]
  },
  {
   "cell_type": "code",
   "execution_count": 28,
   "metadata": {},
   "outputs": [
    {
     "name": "stdout",
     "output_type": "stream",
     "text": [
      "1\n",
      "(2, 3)\n",
      "{'c': 3, 'd': 1}\n"
     ]
    }
   ],
   "source": [
    "def func(a, *args, **kwargs):\n",
    "    print(a)\n",
    "    print(args)\n",
    "    print(kwargs)\n",
    "    \n",
    "func(*(1,2,3), **{'c': 3, 'd': 1}) # same as f(1,2,3,c=3,d=1)"
   ]
  },
  {
   "cell_type": "code",
   "execution_count": 35,
   "metadata": {},
   "outputs": [
    {
     "name": "stdout",
     "output_type": "stream",
     "text": [
      "1\n",
      "(2, 8, 9)\n",
      "{'z': 99}\n"
     ]
    }
   ],
   "source": [
    "func(1,2,*(8,9),**{'z':99}) # same as f(1,2,8,9,z=99) where a will get 1, args will get 2,8,9 tuple and kwarg will get z=99"
   ]
  },
  {
   "cell_type": "code",
   "execution_count": 37,
   "metadata": {},
   "outputs": [
    {
     "name": "stdout",
     "output_type": "stream",
     "text": [
      "1\n",
      "(2, 3, 4, 5, 6, 7, 8, 9, 0, 0, 0, 1, 2)\n",
      "{'y': 98, 'z': 99}\n"
     ]
    }
   ],
   "source": [
    "func(1,2,3,4,5,6,7,8,9,*(0,0,0,1,2),**{'y': 98}, z=99)"
   ]
  },
  {
   "cell_type": "markdown",
   "metadata": {},
   "source": [
    "## Applying functions generically\n",
    "We can use if logic to select from a set of functions and arguments lists and call any of them generically.\n",
    "```python\n",
    "if sometest:\n",
    "    action, args = func1, (1,) # call func1 with one arg in this case\n",
    "else:\n",
    "    action, args = func2, (1,2,3) # call func2 with three args here\n",
    "...etc...\n",
    "action(*args) # dispatch generically\n",
    "```\n",
    "\n",
    "This `varargs` is useful when we cannot predict the argument list."
   ]
  },
  {
   "cell_type": "code",
   "execution_count": 48,
   "metadata": {},
   "outputs": [
    {
     "name": "stdout",
     "output_type": "stream",
     "text": [
      "Calling:  func\n",
      "10\n",
      "Calling:  <lambda>\n",
      "7290\n"
     ]
    }
   ],
   "source": [
    "def tracer(func, *args, **kwargs):  # accept any arguments\n",
    "    print(\"Calling: \", func.__name__)\n",
    "    return func(*args, **kwargs) # pass along arguments\n",
    "\n",
    "def func(a,b,c,d):\n",
    "    return a + b + c + d\n",
    "\n",
    "print(tracer(func,1,2,3,4))\n",
    "print(tracer(lambda a,b,c,d: a*b*c*d, 10,9,9,9))"
   ]
  },
  {
   "cell_type": "markdown",
   "metadata": {},
   "source": [
    "## Keyword only arguments\n",
    "Must be pass by keyword only and will never be fill by positional argument. This is useful if we want a function to both process any number of arguments and accept possibly optional configuration options.\n",
    "\n",
    "Syntactically keyword only arguments are coded as named arguments that may appear after *args in the arguments list."
   ]
  },
  {
   "cell_type": "code",
   "execution_count": 52,
   "metadata": {},
   "outputs": [
    {
     "name": "stdout",
     "output_type": "stream",
     "text": [
      "1 (2, 3, 4, 5) 6\n"
     ]
    }
   ],
   "source": [
    "def kwonly(a, *b, c):\n",
    "    print(a,b,c)\n",
    "    \n",
    "kwonly(1,2,3,4,5,c=6) # a will get 1 by position , *b will get all the remaining so for c we need to pass it as key value pair"
   ]
  },
  {
   "cell_type": "code",
   "execution_count": 53,
   "metadata": {},
   "outputs": [
    {
     "name": "stdout",
     "output_type": "stream",
     "text": [
      "kwonly() missing 1 required keyword-only argument: 'c'\n"
     ]
    }
   ],
   "source": [
    "try:\n",
    "    kwonly(1,2,3,4,5,6) # this will throw error as c is not passed as key value pair\n",
    "except TypeError as e:\n",
    "    print(e)"
   ]
  },
  {
   "cell_type": "code",
   "execution_count": 54,
   "metadata": {},
   "outputs": [
    {
     "name": "stdout",
     "output_type": "stream",
     "text": [
      "1 (2, 3, 4, 5) 6\n"
     ]
    }
   ],
   "source": [
    "# using default values for kwonly\n",
    "\n",
    "def kwonly(a, *b, c=6):\n",
    "    print(a,b,c)\n",
    "    \n",
    "kwonly(1,2,3,4,5) # c will get default value 6"
   ]
  },
  {
   "cell_type": "code",
   "execution_count": 55,
   "metadata": {},
   "outputs": [
    {
     "name": "stdout",
     "output_type": "stream",
     "text": [
      "1 (2, 3, 4, 5, 6, 7) 9\n"
     ]
    }
   ],
   "source": [
    "kwonly(1,*(2,3,4,5,6,7), c=9)"
   ]
  },
  {
   "cell_type": "code",
   "execution_count": 61,
   "metadata": {},
   "outputs": [
    {
     "name": "stdout",
     "output_type": "stream",
     "text": [
      "Error:  kwonly() takes 1 positional argument but 3 were given\n"
     ]
    }
   ],
   "source": [
    "def kwonly(a, *, b, c):\n",
    "    print(a,b,c)\n",
    "\n",
    "try:\n",
    "    kwonly(1,2,3)\n",
    "except TypeError as e:\n",
    "    print(\"Error: \", e)"
   ]
  },
  {
   "cell_type": "code",
   "execution_count": 7,
   "metadata": {},
   "outputs": [
    {
     "name": "stdout",
     "output_type": "stream",
     "text": [
      "1 1 2\n"
     ]
    }
   ],
   "source": [
    "# making kwonly default argument\n",
    "\n",
    "def kwonly(a, *, b=1, c=2):\n",
    "    print(a,b,c)\n",
    "\n",
    "try:\n",
    "    kwonly(1)\n",
    "except TypeError as e:\n",
    "    print(e)"
   ]
  },
  {
   "cell_type": "code",
   "execution_count": 8,
   "metadata": {},
   "outputs": [],
   "source": [
    "# Keyword only arguments must be specified after a single star not two starts -- named arguments cannot appear after the **args arbitrary keywords form and a ** cant appear by itself in the arguments list."
   ]
  },
  {
   "cell_type": "code",
   "execution_count": 9,
   "metadata": {},
   "outputs": [],
   "source": [
    "# def kwonly(a, **pargs, b, c):\n",
    "#     print(a,b,c) # error as **pargs is used before b and c"
   ]
  },
  {
   "cell_type": "code",
   "execution_count": 15,
   "metadata": {},
   "outputs": [
    {
     "name": "stdout",
     "output_type": "stream",
     "text": [
      "1 (2, 3) 4 {'x': 1}\n"
     ]
    }
   ],
   "source": [
    "def func(a, *b, c, **d):\n",
    "    print(a,b,c,d)\n",
    "    \n",
    "func(1,2,3,c=4,**{'x':1}) # a gets 1 by position 2, 3 are passed as *b and c is by name so c gets 4 and x is passed as **d kwarg"
   ]
  },
  {
   "cell_type": "code",
   "execution_count": 16,
   "metadata": {},
   "outputs": [
    {
     "name": "stdout",
     "output_type": "stream",
     "text": [
      "func() missing 1 required keyword-only argument: 'c'\n"
     ]
    }
   ],
   "source": [
    "try:\n",
    "    func(1,2,3,**{'z':4}) # this will throw error as c is not provided as key value pair or name\n",
    "except TypeError as e:\n",
    "    print(e)"
   ]
  },
  {
   "cell_type": "code",
   "execution_count": 22,
   "metadata": {},
   "outputs": [
    {
     "name": "stdout",
     "output_type": "stream",
     "text": [
      "0\n",
      "9\n"
     ]
    }
   ],
   "source": [
    "def minmax(test, *args):\n",
    "    res = args[0]\n",
    "    for arg in args[1:]:\n",
    "        if test(arg, res):\n",
    "            res = arg\n",
    "    return res\n",
    "\n",
    "def lessthan(x,y): return x < y\n",
    "def grtrthan(x,y): return x > y\n",
    "\n",
    "print(minmax(lessthan, 0,0,4,7,8,7,9))\n",
    "print(minmax(grtrthan, 1,2,3,4,5,6,7,8,9))"
   ]
  },
  {
   "cell_type": "code",
   "execution_count": 29,
   "metadata": {},
   "outputs": [
    {
     "name": "stdout",
     "output_type": "stream",
     "text": [
      "1 (2, 3)\n"
     ]
    }
   ],
   "source": [
    "def func(a, *args):\n",
    "    print(a , args)\n",
    "    \n",
    "func(1,2,3)"
   ]
  },
  {
   "cell_type": "code",
   "execution_count": 31,
   "metadata": {},
   "outputs": [
    {
     "data": {
      "text/plain": [
       "(1, ['x'], {'a': 'y'})"
      ]
     },
     "execution_count": 31,
     "metadata": {},
     "output_type": "execute_result"
    }
   ],
   "source": [
    "def func(a, b, c):\n",
    "    a = 2\n",
    "    b[0] = 'x'\n",
    "    c['a'] = 'y'\n",
    "    \n",
    "l = 1\n",
    "m = [0]\n",
    "n = {'a': 'y'}\n",
    "\n",
    "func(l, m, n) # mutable are affected when it is send to the function mutation perform on them\n",
    "l, m, n"
   ]
  }
 ],
 "metadata": {
  "kernelspec": {
   "display_name": "Python 3",
   "language": "python",
   "name": "python3"
  },
  "language_info": {
   "codemirror_mode": {
    "name": "ipython",
    "version": 3
   },
   "file_extension": ".py",
   "mimetype": "text/x-python",
   "name": "python",
   "nbconvert_exporter": "python",
   "pygments_lexer": "ipython3",
   "version": "3.12.1"
  }
 },
 "nbformat": 4,
 "nbformat_minor": 2
}
