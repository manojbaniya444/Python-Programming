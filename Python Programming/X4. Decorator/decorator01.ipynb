{
 "cells": [
  {
   "cell_type": "markdown",
   "metadata": {},
   "source": [
    "## Decorator in Python\n",
    "A decorator in python is a function that modifies the behaviour of another function or method. It is a powerful feature that allo us to add functionality to existing code in a clean and maintainable way."
   ]
  },
  {
   "cell_type": "code",
   "execution_count": 2,
   "metadata": {},
   "outputs": [
    {
     "data": {
      "text/plain": [
       "'helloworld'"
      ]
     },
     "execution_count": 2,
     "metadata": {},
     "output_type": "execute_result"
    }
   ],
   "source": [
    "def greet(name):\n",
    "    return \"hello\" + name\n",
    "greet(\"world\")"
   ]
  },
  {
   "cell_type": "code",
   "execution_count": 3,
   "metadata": {},
   "outputs": [
    {
     "name": "stdout",
     "output_type": "stream",
     "text": [
      "hello world\n"
     ]
    }
   ],
   "source": [
    "# function as first class argument\n",
    "def greet(name):\n",
    "    return f\"hello {name}\"\n",
    "\n",
    "say_hello = greet\n",
    "print(say_hello(\"world\"))"
   ]
  },
  {
   "cell_type": "code",
   "execution_count": 8,
   "metadata": {},
   "outputs": [
    {
     "name": "stdout",
     "output_type": "stream",
     "text": [
      "hello from inside\n"
     ]
    }
   ],
   "source": [
    "# function inside function\n",
    "\n",
    "def outer_function():\n",
    "    def inner_function():\n",
    "        return \"hello from inside\"\n",
    "    return inner_function\n",
    "\n",
    "my_func = outer_function()\n",
    "print(my_func())"
   ]
  },
  {
   "cell_type": "markdown",
   "metadata": {},
   "source": [
    "### A simple decorator"
   ]
  },
  {
   "cell_type": "code",
   "execution_count": 16,
   "metadata": {},
   "outputs": [
    {
     "name": "stdout",
     "output_type": "stream",
     "text": [
      "something before the function.\n",
      "hello\n",
      "something after the function.\n"
     ]
    }
   ],
   "source": [
    "def my_decorator(func):\n",
    "    def wrapper():\n",
    "        print(\"something before the function.\")\n",
    "        func() # call the original function\n",
    "        print(\"something after the function.\")\n",
    "    return wrapper\n",
    "\n",
    "@my_decorator\n",
    "def say_hello():\n",
    "    print(\"hello\")\n",
    "    \n",
    "say_hello()\n",
    "# shortcut for \n",
    "# say_hello = my_decorator(say_hello)"
   ]
  },
  {
   "cell_type": "markdown",
   "metadata": {},
   "source": [
    "### Decorator with argument:"
   ]
  },
  {
   "cell_type": "code",
   "execution_count": 23,
   "metadata": {},
   "outputs": [
    {
     "name": "stdout",
     "output_type": "stream",
     "text": [
      "something before the function.\n",
      "Hello, Alice\n",
      "something after the function.\n"
     ]
    }
   ],
   "source": [
    "def my_decorator(function):\n",
    "    def wrapper(*args, **kwargs):\n",
    "        print(\"something before the function.\")\n",
    "        result = function(*args, **kwargs)\n",
    "        print(\"something after the function.\")\n",
    "        return result\n",
    "    \n",
    "    return wrapper\n",
    "\n",
    "@my_decorator\n",
    "def greet(name):\n",
    "    print(f\"Hello, {name}\")\n",
    "\n",
    "greet(\"Alice\")\n",
    "        "
   ]
  },
  {
   "cell_type": "code",
   "execution_count": 25,
   "metadata": {},
   "outputs": [
    {
     "name": "stdout",
     "output_type": "stream",
     "text": [
      "[INFO] Attempting to log in user: Alice\n",
      "User Alice logging.\n",
      "[INFO] Finished login attempt for: Alice\n"
     ]
    }
   ],
   "source": [
    "def log_decorator(log_level):\n",
    "    def decorator(function):\n",
    "        def wrapper(username):\n",
    "            print(f\"[{log_level}] Attempting to log in user: {username}\")\n",
    "            result = function(username)\n",
    "            print(f\"[{log_level}] Finished login attempt for: {username}\")\n",
    "            return result\n",
    "        return wrapper\n",
    "    return decorator\n",
    "\n",
    "@log_decorator(\"INFO\")\n",
    "def login(username):\n",
    "    print(f\"User {username} logging.\")\n",
    "    \n",
    "login(\"Alice\")"
   ]
  }
 ],
 "metadata": {
  "kernelspec": {
   "display_name": "Python 3",
   "language": "python",
   "name": "python3"
  },
  "language_info": {
   "codemirror_mode": {
    "name": "ipython",
    "version": 3
   },
   "file_extension": ".py",
   "mimetype": "text/x-python",
   "name": "python",
   "nbconvert_exporter": "python",
   "pygments_lexer": "ipython3",
   "version": "3.12.1"
  }
 },
 "nbformat": 4,
 "nbformat_minor": 2
}
