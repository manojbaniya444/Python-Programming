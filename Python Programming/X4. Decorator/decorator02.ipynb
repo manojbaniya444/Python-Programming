{
 "cells": [
  {
   "cell_type": "markdown",
   "id": "32d903b9",
   "metadata": {},
   "source": [
    "## Understanding Decorator\n",
    "\n",
    "Creating a simple code that we have to check auth to access."
   ]
  },
  {
   "cell_type": "code",
   "execution_count": 1,
   "id": "388cfc2b",
   "metadata": {},
   "outputs": [],
   "source": [
    "from pydantic import BaseModel\n",
    "\n",
    "class User(BaseModel):\n",
    "        name: str\n",
    "        is_authenticated: bool"
   ]
  },
  {
   "cell_type": "code",
   "execution_count": 2,
   "id": "a6145a54",
   "metadata": {},
   "outputs": [
    {
     "data": {
      "text/plain": [
       "__main__.User"
      ]
     },
     "execution_count": 2,
     "metadata": {},
     "output_type": "execute_result"
    }
   ],
   "source": [
    "User"
   ]
  },
  {
   "cell_type": "code",
   "execution_count": 3,
   "id": "5095635f",
   "metadata": {},
   "outputs": [],
   "source": [
    "user1 = User(**{\"name\": \"Harry\", \"is_authenticated\": True})\n",
    "user2 = User(**{\"name\": \"Bob\", \"is_authenticated\": False})"
   ]
  },
  {
   "cell_type": "code",
   "execution_count": 4,
   "id": "c58b59fc",
   "metadata": {},
   "outputs": [
    {
     "data": {
      "text/plain": [
       "'Harry'"
      ]
     },
     "execution_count": 4,
     "metadata": {},
     "output_type": "execute_result"
    }
   ],
   "source": [
    "user1.name"
   ]
  },
  {
   "cell_type": "code",
   "execution_count": 5,
   "id": "3abd59bd",
   "metadata": {},
   "outputs": [],
   "source": [
    "def view_dashboard(user: User):\n",
    "    if not user.is_authenticated:\n",
    "        print(\"User is not authenticated, access denied please log in.\")\n",
    "        return\n",
    "\n",
    "    print(f\"Welcome to the dashboard, {user.name}\")"
   ]
  },
  {
   "cell_type": "code",
   "execution_count": 6,
   "id": "2c4afca4",
   "metadata": {},
   "outputs": [],
   "source": [
    "def view_reports(user: User):\n",
    "    if not user.is_authenticated:\n",
    "        print(\"User is not authenticated to view reports, please login.\")\n",
    "        return\n",
    "    \n",
    "    print(f\"Welcome to view reports,{user.name}\")"
   ]
  },
  {
   "cell_type": "code",
   "execution_count": 7,
   "id": "fe6fcf7b",
   "metadata": {},
   "outputs": [
    {
     "name": "stdout",
     "output_type": "stream",
     "text": [
      "Welcome to the dashboard, Harry\n"
     ]
    }
   ],
   "source": [
    "view_dashboard(user1)"
   ]
  },
  {
   "cell_type": "code",
   "execution_count": 8,
   "id": "97b69396",
   "metadata": {},
   "outputs": [
    {
     "name": "stdout",
     "output_type": "stream",
     "text": [
      "User is not authenticated, access denied please log in.\n"
     ]
    }
   ],
   "source": [
    "view_dashboard(user2)"
   ]
  },
  {
   "cell_type": "markdown",
   "id": "473c2a7b",
   "metadata": {},
   "source": [
    "## Using Decorator"
   ]
  },
  {
   "cell_type": "code",
   "execution_count": 11,
   "id": "d8b4bf08",
   "metadata": {},
   "outputs": [],
   "source": [
    "def authenticate_user(func):\n",
    "    def wrapper(user: User, *args, **kwargs):\n",
    "        print(f\"Checking authentication on user, {user.name}\")\n",
    "        if not user.is_authenticated:\n",
    "            print(f\"User is not authenticated, please log in.\")\n",
    "            return\n",
    "        func(user, *args, **kwargs)\n",
    "    return wrapper\n",
    "        "
   ]
  },
  {
   "cell_type": "code",
   "execution_count": 13,
   "id": "4889168f",
   "metadata": {},
   "outputs": [],
   "source": [
    "@authenticate_user\n",
    "def view_dashboard(user: User):\n",
    "    print(f\"Welcome to the dashboard, {user.name}\")"
   ]
  },
  {
   "cell_type": "code",
   "execution_count": 15,
   "id": "ea4c2ca8",
   "metadata": {},
   "outputs": [],
   "source": [
    "@authenticate_user\n",
    "def view_reports(user: User):\n",
    "    print(f\"Welcome to view reports,{user.name}\")"
   ]
  },
  {
   "cell_type": "code",
   "execution_count": 16,
   "id": "e53ac1a3",
   "metadata": {},
   "outputs": [
    {
     "name": "stdout",
     "output_type": "stream",
     "text": [
      "Checking authentication on user, Harry\n",
      "Welcome to the dashboard, Harry\n"
     ]
    }
   ],
   "source": [
    "view_dashboard(user1)"
   ]
  },
  {
   "cell_type": "code",
   "execution_count": 18,
   "id": "d5af9b87",
   "metadata": {},
   "outputs": [
    {
     "name": "stdout",
     "output_type": "stream",
     "text": [
      "Checking authentication on user, Bob\n",
      "User is not authenticated, please log in.\n"
     ]
    }
   ],
   "source": [
    "view_reports(user2)"
   ]
  },
  {
   "cell_type": "code",
   "execution_count": 19,
   "id": "5f84d0c6",
   "metadata": {},
   "outputs": [
    {
     "name": "stdout",
     "output_type": "stream",
     "text": [
      "Checking authentication on user, Harry\n",
      "Welcome to the dashboard, Harry\n"
     ]
    }
   ],
   "source": [
    "view_dashboard(user1)"
   ]
  },
  {
   "cell_type": "code",
   "execution_count": 20,
   "id": "11694aca",
   "metadata": {},
   "outputs": [
    {
     "name": "stdout",
     "output_type": "stream",
     "text": [
      "Checking authentication on user, Bob\n",
      "User is not authenticated, please log in.\n"
     ]
    }
   ],
   "source": [
    "view_dashboard(user2)"
   ]
  }
 ],
 "metadata": {
  "kernelspec": {
   "display_name": "Python 3",
   "language": "python",
   "name": "python3"
  },
  "language_info": {
   "codemirror_mode": {
    "name": "ipython",
    "version": 3
   },
   "file_extension": ".py",
   "mimetype": "text/x-python",
   "name": "python",
   "nbconvert_exporter": "python",
   "pygments_lexer": "ipython3",
   "version": "3.12.1"
  }
 },
 "nbformat": 4,
 "nbformat_minor": 5
}
