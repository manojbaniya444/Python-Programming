{
 "cells": [
  {
   "cell_type": "markdown",
   "metadata": {},
   "source": [
    "### The Dynamic Typing Interlude\n",
    "Dynamic typind and polymorphism of Object\n",
    ">**Type live in Object and not in name in Python language**"
   ]
  },
  {
   "cell_type": "code",
   "execution_count": 1,
   "metadata": {},
   "outputs": [],
   "source": [
    "a = 3\n",
    "# create an object to represent the 3\n",
    "# create a variable a if it does not yet exist\n",
    "# link the variable a to the new object 3"
   ]
  },
  {
   "cell_type": "markdown",
   "metadata": {},
   "source": [
    "The variable and object are stored in different parts of memory and are associated by links.\n",
    "Variable links to objects and never to other variables but larger objects may link to other objects\n",
    "\n",
    "These links from variables to objects are called **references** that means a kind of association implemented as a pointer in memory.\n",
    "\n",
    "Whenever a variable are later used python automatically follows the variable to object link."
   ]
  },
  {
   "cell_type": "code",
   "execution_count": 2,
   "metadata": {},
   "outputs": [],
   "source": [
    "a = 3\n",
    "a = \"spam\"\n",
    "a = 1.23\n",
    "\n",
    "# a starts out as an integer then becomes a string and then became float. Here type of a is not changing actually names in python have no types, types live in objects, not name. In the above example just a reference to the object is changing. Variable is just referencing to another object in memory.\n",
    "\n",
    "# Object, know their type and each contains a header field that tags the object with its type. Because Object know their type variable dont have to know.\n",
    "\n",
    "# Summary: Types are associated with objects in python not with variable. Variable just usually reference just one kind of object."
   ]
  },
  {
   "cell_type": "markdown",
   "metadata": {},
   "source": [
    "### Objects Are Garbage Collected\n",
    "When we reassign vaiable 'a' what happen to the 3 and 'spam' previously regerencing?\n",
    "Answer: Whenever name is assign to a new object the space held by the prior object is reclaimed of it is not referenced by any other name or object. This automatic reclamation of object space is known as `**Garbage Collection**` and makes life much simpler for programmers of languages like Python that supports it.\n",
    "\n",
    "```python\n",
    "x = 10\n",
    "x = \"John\" # reclaim 10 now (unless referenced elsewhere)\n",
    "x = 2.12 # reclaim \"John\" \n",
    "x = [1,2,3] # reclaim 2.12\n",
    "```"
   ]
  },
  {
   "cell_type": "markdown",
   "metadata": {},
   "source": [
    "Internally python accomplish reclaiming object space by keeping a **counter** in every object that keeps track of the number of references currently pointing to that object. As soon as this counter drops to zero, the object ko memory space is automatically reclaimed then."
   ]
  },
  {
   "cell_type": "markdown",
   "metadata": {},
   "source": [
    "### Shared References"
   ]
  },
  {
   "cell_type": "code",
   "execution_count": 3,
   "metadata": {},
   "outputs": [
    {
     "data": {
      "text/plain": [
       "(3, 3)"
      ]
     },
     "execution_count": 3,
     "metadata": {},
     "output_type": "execute_result"
    }
   ],
   "source": [
    "a = 3\n",
    "b = a\n",
    "\n",
    "# when creating variable b , a is used and not assigned here, so it is replaced with the object it references and b is made to reference that same object. The net effect is that the variables a and b wind up referencing the same object in memory.\n",
    "\n",
    "a, b"
   ]
  },
  {
   "cell_type": "markdown",
   "metadata": {},
   "source": [
    "The scenario where multiple names referencing same object is called `**Shared Reference**` and sometimes `**Shared Object**` simply.\n",
    "a and b are not linked to each other but are  referencing only to the same object"
   ]
  },
  {
   "cell_type": "code",
   "execution_count": 5,
   "metadata": {},
   "outputs": [
    {
     "data": {
      "text/plain": [
       "('Spam', 3)"
      ]
     },
     "execution_count": 5,
     "metadata": {},
     "output_type": "execute_result"
    }
   ],
   "source": [
    "a = 3 # a referencing to 3\n",
    "b = a # b is also referencing to the same object where a is referencing currently by a which is to 3 memory\n",
    "a = \"Spam\" # now a is referencing to the new object\n",
    "\n",
    "a, b"
   ]
  },
  {
   "cell_type": "markdown",
   "metadata": {},
   "source": [
    "### Shared References and in place changes\n",
    "There are objects and operations that perform in place object changes: `**Mutable Types**` including `**List,Dictionary,Sets**`. Assignment to an offset in a list actually changes the list object itself in place rather than generating a brand new list object.\n",
    "\n",
    "For objects that support in place change, we need to be more aware of shared references since a change from one name may impact other. Otherwise our object may seem to change for no apparent reason."
   ]
  },
  {
   "cell_type": "code",
   "execution_count": 9,
   "metadata": {},
   "outputs": [
    {
     "data": {
      "text/plain": [
       "('spam', [1, 2, 3])"
      ]
     },
     "execution_count": 9,
     "metadata": {},
     "output_type": "execute_result"
    }
   ],
   "source": [
    "l1 = [1,2,3] # l1 referencing to the object o1\n",
    "l2 = l1 # l2 is also referencing to the object 01\n",
    "l1 = \"spam\" # not l1 is referencing to the new object o2\n",
    "\n",
    "l1, l2 # show the value of 01 and o2"
   ]
  },
  {
   "cell_type": "code",
   "execution_count": 10,
   "metadata": {},
   "outputs": [
    {
     "data": {
      "text/plain": [
       "([11, 22, 3], [11, 22, 3])"
      ]
     },
     "execution_count": 10,
     "metadata": {},
     "output_type": "execute_result"
    }
   ],
   "source": [
    "# but\n",
    "l1 = [1,2,3] # l1 referencing to the object 1\n",
    "l2 = l1 # Now we also reference l2 to the object 1 same as to the one referencing by l1 list\n",
    "\n",
    "l1[0] = 11 # l1 change the reference of the object first item from 1 to 11\n",
    "l2[1] = 22 # l2 change the reference of the object second item from 2 to 22\n",
    "\n",
    "# Now since bothe l1 and l2 are referencing to the same object in memory location and they both have changed the value of the object so they both will get the changed value\n",
    "\n",
    "l1, l2"
   ]
  },
  {
   "cell_type": "code",
   "execution_count": 11,
   "metadata": {},
   "outputs": [
    {
     "data": {
      "text/plain": [
       "([11, 2, 3], [1, 2, 3])"
      ]
     },
     "execution_count": 11,
     "metadata": {},
     "output_type": "execute_result"
    }
   ],
   "source": [
    "# If we dont want such behaviour then we can request **copy** object instead of making references.\n",
    "\n",
    "l1 = [1,2,3]\n",
    "l2 = l1[:] # make a copy\n",
    "l1[0] = 11\n",
    "\n",
    "l1, l2"
   ]
  },
  {
   "cell_type": "code",
   "execution_count": 17,
   "metadata": {},
   "outputs": [
    {
     "data": {
      "text/plain": [
       "({'name': 'John'}, {'name': 'Jane'})"
      ]
     },
     "execution_count": 17,
     "metadata": {},
     "output_type": "execute_result"
    }
   ],
   "source": [
    "# use copy to copy a dictionary or set\n",
    "import copy\n",
    "\n",
    "y = {\n",
    "    \"name\": \"Jane\"\n",
    "}\n",
    "\n",
    "x = copy.copy(y) # copy of any object y\n",
    "x = copy.deepcopy(y) # making deep copy of object y:nested part\n",
    "\n",
    "x[\"name\"] = \"John\"\n",
    "x, y"
   ]
  },
  {
   "cell_type": "markdown",
   "metadata": {},
   "source": [
    "### Shared References and equality"
   ]
  },
  {
   "cell_type": "code",
   "execution_count": 25,
   "metadata": {},
   "outputs": [
    {
     "data": {
      "text/plain": [
       "False"
      ]
     },
     "execution_count": 25,
     "metadata": {},
     "output_type": "execute_result"
    }
   ],
   "source": [
    "a = [1,2,3]\n",
    "z = a\n",
    "\n",
    "a == z # True: check if the referenced objects have the same values (equality check is done here) so even if they are referencing to the different object but have same values then will return True\n",
    "\n",
    "a == [1,2,3] and z == [1,2,3] # True\n",
    "\n",
    "l = [1,2,3]\n",
    "m = [1,2,3]\n",
    "\n",
    "l is m # False: Check if the references are pointing to same object in memory or not. This test for object identity return True if both object point to the exact same object so a much stronger form of equality testing."
   ]
  },
  {
   "cell_type": "code",
   "execution_count": 28,
   "metadata": {},
   "outputs": [
    {
     "data": {
      "text/plain": [
       "(True, True)"
      ]
     },
     "execution_count": 28,
     "metadata": {},
     "output_type": "execute_result"
    }
   ],
   "source": [
    "x = 10\n",
    "y = 10\n",
    "\n",
    "x == y, x is y\n",
    "\n",
    "# here x is y is supposed to be False but True because small integers and strings are cached and reused though is telling use they reference tha same single object."
   ]
  }
 ],
 "metadata": {
  "kernelspec": {
   "display_name": "Python 3",
   "language": "python",
   "name": "python3"
  },
  "language_info": {
   "codemirror_mode": {
    "name": "ipython",
    "version": 3
   },
   "file_extension": ".py",
   "mimetype": "text/x-python",
   "name": "python",
   "nbconvert_exporter": "python",
   "pygments_lexer": "ipython3",
   "version": "3.12.1"
  }
 },
 "nbformat": 4,
 "nbformat_minor": 2
}
