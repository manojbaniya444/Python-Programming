{
 "cells": [
  {
   "cell_type": "markdown",
   "metadata": {},
   "source": [
    "## Strings: PART I\n",
    "An ordered collection of characters to store and represent text and bytes based information.\n",
    "\n",
    "Strings can be used to represent just about anything that can be encoded as text or bytes.\n",
    "\n",
    "Strings can also be used to hold the raw bytes used for media files and network transfers and both the encoded and decoded forms of non ASCII Unicode text used in internationalized programs.\n",
    "\n",
    "## Common String literals and operations\n",
    "1. `\"\"` : Empty string\n",
    "2. `\"Spam's\" : Double quotes same as single\n",
    "3. `'s\\np\\ta\\x00m'` : Escape sequence\n",
    "4. `\"\"\"...Multiline...\"\"\"` : Triple quoted block strings\n",
    "5. `r'\\temp\\spam'` : Raw strings (no escape)\n",
    "6. `b'sp\\xc4m'` : Byte strings\n",
    "7. `S1 + S2` : Concatenate\n",
    "8. `u'sp\\u00c4m'` : Unicode strings\n",
    "9. `S * 3` : Repeat three time\n",
    "10. `S[i]` : Indexing\n",
    "11. `S[i:j]` : Slicing\n",
    "12. `len(S)` : Length\n",
    "13. `\"a {0} parrot\".format(kind)` : String formatting\n",
    "14. `\"a %s parrot\" % kind`\n",
    "15. `S.find('pa')` : String method\n",
    "16. `S.rstrip()` : Remove whitespace\n",
    "17. `S.replace('pa', 'io')` : Replacement\n",
    "18. `S.split(',')` : Split on delimeter\n",
    "19. `S.isdigit()` : Content test\n",
    "20. `S.lower()`: Case conversion\n",
    "21. `S.endswith('spam')` : End test\n",
    "22. `'spam'.join(strlist)` : Delimeter join\n",
    "23. `S.encode('latin-1')` : Unicode encoding\n",
    "24. `B.decode('utf-u')` : Unicode decoding\n",
    "25. `for x in S: print(x)` : Iteration\n",
    "26. `'spam' in S` : Membership\n",
    "27. `[c * 2 for c in S]` : Comphrehension\n",
    "28. `map(ord, s)`\n",
    "29. `re.match('sp(.*)am', line)` : Pattern matching\n",
    "30. `\\newline` : Ignored (continuation line)\n",
    "31. `\\\\` : Backslash (stores one \\\\)\n",
    "32. `\\'` : Single quote(stores ')\n",
    "33. `\\\"` : Double quote(store \")\n",
    "34. `\\a`: Bell\n",
    "35. `\\b`: Backspace\n",
    "36. `\\f` : Formfeed\n",
    "37. `\\n` : Newline (linefeed)\n",
    "38. `\\r` : Carriage return\n",
    "39. `\\t` : Horizontal tab\n",
    "40. `\\v` : Vertical tab\n",
    "41. `\\xhh` : Character with hex value hh (exactly 2 digits)\n",
    "42. `\\ooo` : Character with octal value ooo (upto 3 digits)\n",
    "43. `\\0` : Null binary 0 character (doesnt end string)\n",
    "44. `\\N{ id }`:Unicode database ID\n",
    "45. `\\uhhh` : Unicode character with 16 bit hex value\n",
    "46. `\\Uhhhhhhh`: Unicode character with 32 bit hex value\n",
    "99. 99989796\n"
   ]
  },
  {
   "cell_type": "code",
   "execution_count": 5,
   "metadata": {},
   "outputs": [],
   "source": [
    "# myfile = open('C:\\new\\text.dat', 'w') # C:(newling)ew(tab)ext.dat\n",
    "\n",
    "# myfile = open('C:\\\\new\\\\text.dat', 'w')"
   ]
  },
  {
   "cell_type": "code",
   "execution_count": 11,
   "metadata": {},
   "outputs": [
    {
     "name": "stdout",
     "output_type": "stream",
     "text": [
      "Always look on the\n",
      "bright side of the life.\n",
      "\n",
      "Always look on the\n",
      "bright side of the life.\n",
      "\n"
     ]
    }
   ],
   "source": [
    "long_string = \"\"\"\n",
    "Always look on the\n",
    "bright side of the life.\n",
    "\"\"\"\n",
    "string = 'Always look on the\\nbright side of the life.'\n",
    "\n",
    "print(string)\n",
    "print(long_string)"
   ]
  },
  {
   "cell_type": "code",
   "execution_count": 12,
   "metadata": {},
   "outputs": [
    {
     "name": "stdout",
     "output_type": "stream",
     "text": [
      "Hi # this is comment\n",
      "I am a student # This is also a comment\n",
      "\n",
      "Hi\n",
      "I am a student\n"
     ]
    }
   ],
   "source": [
    "# Using parentheses to not include comment string if we want\n",
    "\n",
    "long_string = \"\"\"Hi # this is comment\n",
    "I am a student # This is also a comment\n",
    "\"\"\"\n",
    "string = (\n",
    "    \"Hi\\n\" # this is comment\n",
    "    \"I am a student\" # This is also a comment\n",
    ")\n",
    "\n",
    "print(long_string)\n",
    "print(string)"
   ]
  },
  {
   "cell_type": "markdown",
   "metadata": {},
   "source": [
    "## Strings in Action"
   ]
  },
  {
   "cell_type": "markdown",
   "metadata": {},
   "source": [
    "### Basic Operations"
   ]
  },
  {
   "cell_type": "code",
   "execution_count": 16,
   "metadata": {},
   "outputs": [
    {
     "data": {
      "text/plain": [
       "(5, 'abcdef', 'abcabcabc')"
      ]
     },
     "execution_count": 16,
     "metadata": {},
     "output_type": "execute_result"
    }
   ],
   "source": [
    "len(\"Hello\"), 'abc' + 'def', 'abc' * 3"
   ]
  },
  {
   "cell_type": "code",
   "execution_count": 25,
   "metadata": {},
   "outputs": [
    {
     "name": "stdout",
     "output_type": "stream",
     "text": [
      "--------------------\n"
     ]
    }
   ],
   "source": [
    "print(\"-\" * 20) # printing easy way"
   ]
  },
  {
   "cell_type": "code",
   "execution_count": 29,
   "metadata": {},
   "outputs": [
    {
     "name": "stdout",
     "output_type": "stream",
     "text": [
      "h a c k e r \n",
      "\n",
      "SS + UU + CC + CC + EE + SS + SS + FF + UU + LL + "
     ]
    }
   ],
   "source": [
    "myjob = \"hacker\"\n",
    "\n",
    "for c in myjob: print(c, end=\" \")\n",
    "# step through items and print\n",
    "print(\"\\n\")\n",
    "for a in 'SUCCESSFUL': print(a*2, end=\" + \")"
   ]
  },
  {
   "cell_type": "code",
   "execution_count": 31,
   "metadata": {},
   "outputs": [
    {
     "data": {
      "text/plain": [
       "(False, True)"
      ]
     },
     "execution_count": 31,
     "metadata": {},
     "output_type": "execute_result"
    }
   ],
   "source": [
    "\"easy\" in \"Engineering\", \"possible\" in \"impossible\""
   ]
  },
  {
   "cell_type": "markdown",
   "metadata": {},
   "source": [
    "### Indexing and Slicing"
   ]
  },
  {
   "cell_type": "code",
   "execution_count": 46,
   "metadata": {},
   "outputs": [
    {
     "name": "stdout",
     "output_type": "stream",
     "text": [
      "m a p s "
     ]
    }
   ],
   "source": [
    "S = \"spam\"\n",
    "S[0], S[-2] # first and second last character fetch by this indexing\n",
    "\n",
    "# S[x] x is positive then start from left to right starting from the index 0\n",
    "# S[x] x is negative then start from right to left starting from the index -1\n",
    "for i in range(len(S), 0, -1): print(S[i-1], end=\" \")"
   ]
  },
  {
   "cell_type": "markdown",
   "metadata": {},
   "source": [
    "#### Position\n",
    "[0 , 1 , 2 , ........, -2, -1]"
   ]
  },
  {
   "cell_type": "code",
   "execution_count": 42,
   "metadata": {},
   "outputs": [
    {
     "data": {
      "text/plain": [
       "('I am', 'a ', 'student', 'I am a studen')"
      ]
     },
     "execution_count": 42,
     "metadata": {},
     "output_type": "execute_result"
    }
   ],
   "source": [
    "a = \"I am a student\"\n",
    "a[0:4], a[5:7], a[7:15], a[:-1]\n",
    "\n",
    "# a[x:y] x is included and y is not included\n",
    "# a[:-1] start from 0 and end at -1 but -1 is not included"
   ]
  },
  {
   "cell_type": "code",
   "execution_count": 48,
   "metadata": {},
   "outputs": [
    {
     "data": {
      "text/plain": [
       "'Hlo'"
      ]
     },
     "execution_count": 48,
     "metadata": {},
     "output_type": "execute_result"
    }
   ],
   "source": [
    "string = \"Hello\"\n",
    "\n",
    "string[1:3] # fetches items at offset 1 upto but not including 3\n",
    "string[1:] # fetches items at offset 1 to the end\n",
    "string[:3] # fetches items at offset 0 upto but not including 3\n",
    "string[:-1] # fetches items at offset 0 upto but not including -1\n",
    "string[:] # fetches all items in the sequence\n",
    "\n",
    "string[::2] # with stride step of 2 'H l 0'"
   ]
  },
  {
   "cell_type": "code",
   "execution_count": 54,
   "metadata": {},
   "outputs": [
    {
     "data": {
      "text/plain": [
       "'adgjmpsvy'"
      ]
     },
     "execution_count": 54,
     "metadata": {},
     "output_type": "execute_result"
    }
   ],
   "source": [
    "string = 'abcdefghijklmnopqrstuvwxyz'\n",
    "\n",
    "string[1:10:2] # from offset 1 to 10(not including 10) with stride of 2 'b d f h j'\n",
    "string[::3] # from offset 0 to end with stride of 3 'adgjmpsvy'"
   ]
  },
  {
   "cell_type": "code",
   "execution_count": 56,
   "metadata": {},
   "outputs": [
    {
     "data": {
      "text/plain": [
       "'adgjmpsvy'"
      ]
     },
     "execution_count": 56,
     "metadata": {},
     "output_type": "execute_result"
    }
   ],
   "source": [
    "string[slice(1,10)] # same as string[1:10]\n",
    "string[slice(None, None, 3)] # same as string[::3] slicing"
   ]
  },
  {
   "cell_type": "markdown",
   "metadata": {},
   "source": [
    "#### String Conversion Tools"
   ]
  },
  {
   "cell_type": "code",
   "execution_count": 61,
   "metadata": {},
   "outputs": [
    {
     "data": {
      "text/plain": [
       "(20, '20')"
      ]
     },
     "execution_count": 61,
     "metadata": {},
     "output_type": "execute_result"
    }
   ],
   "source": [
    "# \"20\" + 1 # TypeError: can only concatenate str (not \"int\") to str\n",
    "\n",
    "int(\"20\"), str(20) # convert to integer from string and vice vers"
   ]
  },
  {
   "cell_type": "code",
   "execution_count": 63,
   "metadata": {},
   "outputs": [
    {
     "name": "stdout",
     "output_type": "stream",
     "text": [
      "spam 'spam'\n"
     ]
    }
   ],
   "source": [
    "print(str(\"spam\"), repr(\"spam\"))\n",
    "# repr() is used to convert to string but returns the object as a string of code that can be re run to recreate the object"
   ]
  },
  {
   "cell_type": "code",
   "execution_count": 65,
   "metadata": {},
   "outputs": [
    {
     "name": "stdout",
     "output_type": "stream",
     "text": [
      "'spam'\n"
     ]
    },
    {
     "data": {
      "text/plain": [
       "('spam', \"'spam'\", None)"
      ]
     },
     "execution_count": 65,
     "metadata": {},
     "output_type": "execute_result"
    }
   ],
   "source": [
    "str(\"spam\"), repr(\"spam\"), print(repr(\"spam\"))"
   ]
  },
  {
   "cell_type": "markdown",
   "metadata": {},
   "source": [
    "#### Character conversions code:"
   ]
  },
  {
   "cell_type": "code",
   "execution_count": 71,
   "metadata": {},
   "outputs": [
    {
     "name": "stdout",
     "output_type": "stream",
     "text": [
      "p\n"
     ]
    }
   ],
   "source": [
    "ord(\"m\") # get the ASCII value : 109 is m\n",
    "chr(109) # get the character from ASCII value : m\n",
    "\n",
    "a = 'o'\n",
    "s = chr(ord(a) + 1) # convert to ASCII value and then add 1 and then convert to character\n",
    "print(s)"
   ]
  },
  {
   "cell_type": "code",
   "execution_count": 80,
   "metadata": {},
   "outputs": [
    {
     "data": {
      "text/plain": [
       "1"
      ]
     },
     "execution_count": 80,
     "metadata": {},
     "output_type": "execute_result"
    }
   ],
   "source": [
    "int('5') # 5\n",
    "ord('1') - ord('0') # 5"
   ]
  },
  {
   "cell_type": "code",
   "execution_count": 84,
   "metadata": {},
   "outputs": [
    {
     "data": {
      "text/plain": [
       "3"
      ]
     },
     "execution_count": 84,
     "metadata": {},
     "output_type": "execute_result"
    }
   ],
   "source": [
    "# Converting binary digits to integer with ord()\n",
    "binary = '0011'\n",
    "i = 0\n",
    "\n",
    "while binary != \"\":\n",
    "    i = i * 2 + (ord(binary[0]) - ord('0'))\n",
    "    binary = binary[1:]\n",
    "    \n",
    "# itr1: i = 0 * 2 + (0 - 0) = 0\n",
    "# itr2: i = 0 * 2 + (0 - 0) = 0\n",
    "# itr3: i = 0 * 2 + (1 - 0) = 1\n",
    "# itr4: i = 1 * 2 + (1 - 0) = 3\n",
    "i"
   ]
  },
  {
   "cell_type": "code",
   "execution_count": 85,
   "metadata": {},
   "outputs": [
    {
     "data": {
      "text/plain": [
       "'possible'"
      ]
     },
     "execution_count": 85,
     "metadata": {},
     "output_type": "execute_result"
    }
   ],
   "source": [
    "string = \"impossible\"\n",
    "string.replace(\"im\", \"\")"
   ]
  },
  {
   "cell_type": "code",
   "execution_count": 86,
   "metadata": {},
   "outputs": [
    {
     "data": {
      "text/plain": [
       "'I have 5 apple with me currently'"
      ]
     },
     "execution_count": 86,
     "metadata": {},
     "output_type": "execute_result"
    }
   ],
   "source": [
    "\"I have %d %s with me currently\" % (5, \"apple\")"
   ]
  },
  {
   "cell_type": "code",
   "execution_count": 87,
   "metadata": {},
   "outputs": [
    {
     "data": {
      "text/plain": [
       "'I have 5 banana with me currently'"
      ]
     },
     "execution_count": 87,
     "metadata": {},
     "output_type": "execute_result"
    }
   ],
   "source": [
    "\"I have {0} {1} with me currently\".format(5, \"banana\")"
   ]
  }
 ],
 "metadata": {
  "kernelspec": {
   "display_name": "Python 3",
   "language": "python",
   "name": "python3"
  },
  "language_info": {
   "codemirror_mode": {
    "name": "ipython",
    "version": 3
   },
   "file_extension": ".py",
   "mimetype": "text/x-python",
   "name": "python",
   "nbconvert_exporter": "python",
   "pygments_lexer": "ipython3",
   "version": "3.12.1"
  }
 },
 "nbformat": 4,
 "nbformat_minor": 2
}
