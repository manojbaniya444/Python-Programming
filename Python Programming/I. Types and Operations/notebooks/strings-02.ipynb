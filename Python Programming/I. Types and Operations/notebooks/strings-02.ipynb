{
 "cells": [
  {
   "cell_type": "markdown",
   "metadata": {},
   "source": [
    "## Methods of Strings\n",
    "\n",
    "```python\n",
    "s.capitalize()\n",
    "s.casefold()\n",
    "s.center(width [, fill])\n",
    "s.count(sub [, start [, end]])\n",
    "s.encode([encoding [, errors]])\n",
    "s.endswith(suffix [, start [, end]])\n",
    "s.expandtabs([tabsize])\n",
    "s.find(sub [, start [, end]])\n",
    "s.format(fmtstr, *args, **kwargs)\n",
    "s.index(sub, [,start [, end]])\n",
    "s.isalnum()\n",
    "s.isalpha()\n",
    "s.isdecimal()\n",
    "s.ljsut(width [, fill])\n",
    "s.lower()\n",
    "s.lstrip([chars])\n",
    "s.maketrans(x[, y[, z]])\n",
    "s.partition(sep)\n",
    "s.replace(old, new [, count])\n",
    "s.rfind(sub [, start [, end]])\n",
    "s.rjust(width [, fill])\n",
    "s.rpartition(sep)\n",
    "s.rsplit([sep[, maxsplit]])\n",
    "s.rsplit([chars])\n",
    "s.split([sep [, maxsplit]])\n",
    "s.isdigit()\n",
    "s.isidentifier()\n",
    "s.islower()\n",
    "s.isnumeric()\n",
    "s.isprintable()\n",
    "s.isspace()\n",
    "s.isupper()\n",
    "s.join(iterable)\n",
    "s.istitle()\n",
    "s.splitlines([keepends])\n",
    "s.startswith(prefix [, start [, end]])\n",
    "s.strip([chars])\n",
    "s.swapcase()\n",
    "s.title()\n",
    "s.translate(map)\n",
    "s.upper()\n",
    "s.zfill(width)"
   ]
  },
  {
   "cell_type": "code",
   "execution_count": 2,
   "metadata": {},
   "outputs": [
    {
     "data": {
      "text/plain": [
       "'aaSPAMbbSPAMccSPAMdd'"
      ]
     },
     "execution_count": 2,
     "metadata": {},
     "output_type": "execute_result"
    }
   ],
   "source": [
    "s = 'spammy'\n",
    "s.replace(\"mm\", \"xx\") # replace all mm with xx\n",
    "'aa$bb$cc$dd'.replace('$', 'SPAM') # replace all $ with SPAM"
   ]
  },
  {
   "cell_type": "code",
   "execution_count": 5,
   "metadata": {},
   "outputs": [
    {
     "data": {
      "text/plain": [
       "4"
      ]
     },
     "execution_count": 5,
     "metadata": {},
     "output_type": "execute_result"
    }
   ],
   "source": [
    "a = \"xxxxSPAMxxxxSPAMxxxx\"\n",
    "where = a.find(\"SPAM\") # starting index of the first match position\n",
    "where"
   ]
  },
  {
   "cell_type": "code",
   "execution_count": 13,
   "metadata": {},
   "outputs": [
    {
     "data": {
      "text/plain": [
       "'xxxxHELLOxxxxSPAMxxxx'"
      ]
     },
     "execution_count": 13,
     "metadata": {},
     "output_type": "execute_result"
    }
   ],
   "source": [
    "a[:where] + \"HELLO\" + a[(where+4):]"
   ]
  },
  {
   "cell_type": "code",
   "execution_count": 19,
   "metadata": {},
   "outputs": [
    {
     "data": {
      "text/plain": [
       "(['s', 'p', 'a', 'm', 'm', 'y'], 'spammy')"
      ]
     },
     "execution_count": 19,
     "metadata": {},
     "output_type": "execute_result"
    }
   ],
   "source": [
    "string = \"spammy\"\n",
    "l = list(string)\n",
    "l, \"\".join(l)"
   ]
  },
  {
   "cell_type": "code",
   "execution_count": 26,
   "metadata": {},
   "outputs": [
    {
     "data": {
      "text/plain": [
       "'Sun and  Moon and  Star'"
      ]
     },
     "execution_count": 26,
     "metadata": {},
     "output_type": "execute_result"
    }
   ],
   "source": [
    "\" and  \".join([\"Sun\", \"Moon\", \"Star\"]) # join list of strings with \" and \""
   ]
  },
  {
   "cell_type": "code",
   "execution_count": 30,
   "metadata": {},
   "outputs": [
    {
     "data": {
      "text/plain": [
       "('aaa', 'bbb ', 'ccc')"
      ]
     },
     "execution_count": 30,
     "metadata": {},
     "output_type": "execute_result"
    }
   ],
   "source": [
    "text = 'aaa bbb ccc'\n",
    "text1 = text[0:3]\n",
    "text2 = text[4:8]\n",
    "text3 = text[8:12]\n",
    "\n",
    "text1, text2, text3"
   ]
  },
  {
   "cell_type": "code",
   "execution_count": 31,
   "metadata": {},
   "outputs": [
    {
     "data": {
      "text/plain": [
       "['aaa', 'bbb', 'ccc']"
      ]
     },
     "execution_count": 31,
     "metadata": {},
     "output_type": "execute_result"
    }
   ],
   "source": [
    "text = 'aaa bbb ccc'\n",
    "\n",
    "text.split()"
   ]
  },
  {
   "cell_type": "code",
   "execution_count": 32,
   "metadata": {},
   "outputs": [
    {
     "data": {
      "text/plain": [
       "['john', 'the', 'hacker', 'guy', 'in', 'the', 'town']"
      ]
     },
     "execution_count": 32,
     "metadata": {},
     "output_type": "execute_result"
    }
   ],
   "source": [
    "text = 'john,the,hacker,guy,in,the,town'\n",
    "text.split(\",\")"
   ]
  },
  {
   "cell_type": "code",
   "execution_count": 42,
   "metadata": {},
   "outputs": [
    {
     "name": "stdout",
     "output_type": "stream",
     "text": [
      "The quick brown fox\n",
      "THE QUICK BROWN FOX\n",
      "\n",
      "True\n"
     ]
    }
   ],
   "source": [
    "text = \"The quick brown fox\\n\"\n",
    "text2 = text.rstrip()\n",
    "text3 = text.upper()\n",
    "start = text.startswith(\"The\") # Boolean: True\n",
    "\n",
    "print(text2)\n",
    "print(text3)\n",
    "print(start)"
   ]
  },
  {
   "cell_type": "code",
   "execution_count": 56,
   "metadata": {},
   "outputs": [
    {
     "data": {
      "text/plain": [
       "'o'"
      ]
     },
     "execution_count": 56,
     "metadata": {},
     "output_type": "execute_result"
    }
   ],
   "source": [
    "string = \"Hello\"\n",
    "string[-1]"
   ]
  },
  {
   "cell_type": "code",
   "execution_count": 46,
   "metadata": {},
   "outputs": [
    {
     "data": {
      "text/plain": [
       "True"
      ]
     },
     "execution_count": 46,
     "metadata": {},
     "output_type": "execute_result"
    }
   ],
   "source": [
    "text = \"The quick brown fox\"\n",
    "text.find(\"brown\") != -1 # If not found it return -1\n",
    "\"brown\" in text # True"
   ]
  },
  {
   "cell_type": "markdown",
   "metadata": {},
   "source": [
    "### String Formatting Expressions\n",
    "- '...%s...' % (values)\n",
    "- '...{}...`.format(values)\n"
   ]
  },
  {
   "cell_type": "code",
   "execution_count": 57,
   "metadata": {},
   "outputs": [
    {
     "data": {
      "text/plain": [
       "'1spam4'"
      ]
     },
     "execution_count": 57,
     "metadata": {},
     "output_type": "execute_result"
    }
   ],
   "source": [
    "'%d%s%g' % (1, 'spam', 4.0) # Format string type specific"
   ]
  },
  {
   "cell_type": "code",
   "execution_count": 58,
   "metadata": {},
   "outputs": [
    {
     "data": {
      "text/plain": [
       "'42 -- 3.14 -- [1, 2, 3]'"
      ]
     },
     "execution_count": 58,
     "metadata": {},
     "output_type": "execute_result"
    }
   ],
   "source": [
    "'%s -- %s -- %s' % (42, 3.14, [1, 2, 3]) # Format string all types"
   ]
  },
  {
   "cell_type": "markdown",
   "metadata": {},
   "source": [
    "#### Dictionary based formatting expressions"
   ]
  },
  {
   "cell_type": "code",
   "execution_count": 59,
   "metadata": {},
   "outputs": [
    {
     "data": {
      "text/plain": [
       "'5 more burger for 90'"
      ]
     },
     "execution_count": 59,
     "metadata": {},
     "output_type": "execute_result"
    }
   ],
   "source": [
    "'%(qty)d more %(food)s for %(price)g' % {'qty': 5,\"food\": \"burger\", \"price\": 90.00} "
   ]
  },
  {
   "cell_type": "code",
   "execution_count": 61,
   "metadata": {},
   "outputs": [
    {
     "name": "stdout",
     "output_type": "stream",
     "text": [
      "\n",
      "Greetings...\n",
      "Hello Bob!\n",
      "Your age is 20\n",
      "\n",
      "\n",
      "Greetings...\n",
      "Hello Jane!\n",
      "Your age is 19\n",
      "\n"
     ]
    }
   ],
   "source": [
    "reply = \"\"\"\n",
    "Greetings...\n",
    "Hello %(name)s!\n",
    "Your age is %(age)s\n",
    "\"\"\"\n",
    "values = {'name': 'Bob', 'age': '20'}\n",
    "print(reply % values)\n",
    "print(reply % {'name': 'Jane', 'age': 19})"
   ]
  },
  {
   "cell_type": "code",
   "execution_count": 65,
   "metadata": {},
   "outputs": [
    {
     "data": {
      "text/plain": [
       "'MoMo is good please give me 5'"
      ]
     },
     "execution_count": 65,
     "metadata": {},
     "output_type": "execute_result"
    }
   ],
   "source": [
    "food = 'MoMo'\n",
    "qty = 5\n",
    "vars().values # get dict within the current scope\n",
    "\n",
    "'%(food)s is good please give me %(qty)d' % vars()"
   ]
  },
  {
   "cell_type": "markdown",
   "metadata": {},
   "source": [
    "#### Formatting Method: Basic"
   ]
  },
  {
   "cell_type": "code",
   "execution_count": 66,
   "metadata": {},
   "outputs": [
    {
     "data": {
      "text/plain": [
       "'spam, ham and eggs'"
      ]
     },
     "execution_count": 66,
     "metadata": {},
     "output_type": "execute_result"
    }
   ],
   "source": [
    "template = '{0}, {1} and {2}' # By position\n",
    "template.format('spam', 'ham', 'eggs')"
   ]
  },
  {
   "cell_type": "code",
   "execution_count": 68,
   "metadata": {},
   "outputs": [
    {
     "data": {
      "text/plain": [
       "'spam, ham and eggs'"
      ]
     },
     "execution_count": 68,
     "metadata": {},
     "output_type": "execute_result"
    }
   ],
   "source": [
    "template = '{motto}, {pork} and {food}' # By name\n",
    "template.format(motto='spam', pork='ham', food='eggs')"
   ]
  },
  {
   "cell_type": "code",
   "execution_count": 70,
   "metadata": {},
   "outputs": [
    {
     "data": {
      "text/plain": [
       "'spam, ham and eggs'"
      ]
     },
     "execution_count": 70,
     "metadata": {},
     "output_type": "execute_result"
    }
   ],
   "source": [
    "template = '{motto}, {0} and {1}' # By both name and position\n",
    "template.format('ham', 'eggs', motto='spam')"
   ]
  },
  {
   "cell_type": "code",
   "execution_count": 71,
   "metadata": {},
   "outputs": [
    {
     "data": {
      "text/plain": [
       "'spam, ham and eggs'"
      ]
     },
     "execution_count": 71,
     "metadata": {},
     "output_type": "execute_result"
    }
   ],
   "source": [
    "template = '{}, {} and {}' # By position (relative)\n",
    "template.format(\"spam\", \"ham\", \"eggs\")"
   ]
  },
  {
   "cell_type": "code",
   "execution_count": 73,
   "metadata": {},
   "outputs": [
    {
     "data": {
      "text/plain": [
       "'spam, ham and eggs'"
      ]
     },
     "execution_count": 73,
     "metadata": {},
     "output_type": "execute_result"
    }
   ],
   "source": [
    "template = '%s, %s and %s' # By expression\n",
    "template % (\"spam\", \"ham\", \"eggs\")"
   ]
  },
  {
   "cell_type": "markdown",
   "metadata": {},
   "source": [
    "#### Adding Keys, Attributes and Offsets"
   ]
  },
  {
   "cell_type": "code",
   "execution_count": 82,
   "metadata": {},
   "outputs": [
    {
     "data": {
      "text/plain": [
       "['H', 'e', 'l', 'l', 'o']"
      ]
     },
     "execution_count": 82,
     "metadata": {},
     "output_type": "execute_result"
    }
   ],
   "source": [
    "l = list(\"Hello\")\n",
    "l"
   ]
  },
  {
   "cell_type": "code",
   "execution_count": 85,
   "metadata": {},
   "outputs": [
    {
     "data": {
      "text/plain": [
       "'first=H, third=i'"
      ]
     },
     "execution_count": 85,
     "metadata": {},
     "output_type": "execute_result"
    }
   ],
   "source": [
    "'first={0[0]}, third={1[1]}'.format(l, ['h', 'i'])"
   ]
  },
  {
   "cell_type": "code",
   "execution_count": 89,
   "metadata": {},
   "outputs": [
    {
     "data": {
      "text/plain": [
       "'first=H, last=o, another=x'"
      ]
     },
     "execution_count": 89,
     "metadata": {},
     "output_type": "execute_result"
    }
   ],
   "source": [
    "'first={0}, last={1}, another={2}'.format(l[0], l[-1], \"x\")"
   ]
  },
  {
   "cell_type": "code",
   "execution_count": 90,
   "metadata": {},
   "outputs": [
    {
     "data": {
      "text/plain": [
       "'first=Hi, last=Hey'"
      ]
     },
     "execution_count": 90,
     "metadata": {},
     "output_type": "execute_result"
    }
   ],
   "source": [
    "parts = \"Hi\", \"Hello\", \"Hey\"\n",
    "'first={0}, last={2}'.format(*parts)"
   ]
  },
  {
   "cell_type": "code",
   "execution_count": 99,
   "metadata": {},
   "outputs": [
    {
     "data": {
      "text/plain": [
       "('0.33', '0.33')"
      ]
     },
     "execution_count": 99,
     "metadata": {},
     "output_type": "execute_result"
    }
   ],
   "source": [
    "'{0:.2f}'.format(1/3.0), '%.2f' % (1/3.0) # parameter hardcoded, expression"
   ]
  },
  {
   "cell_type": "code",
   "execution_count": 100,
   "metadata": {},
   "outputs": [
    {
     "data": {
      "text/plain": [
       "'0.333'"
      ]
     },
     "execution_count": 100,
     "metadata": {},
     "output_type": "execute_result"
    }
   ],
   "source": [
    "'{0:.{1}f}'.format(1/3.0, 3) # take value from argument"
   ]
  },
  {
   "cell_type": "code",
   "execution_count": 101,
   "metadata": {},
   "outputs": [
    {
     "data": {
      "text/plain": [
       "'1.2'"
      ]
     },
     "execution_count": 101,
     "metadata": {},
     "output_type": "execute_result"
    }
   ],
   "source": [
    "format(1.23456789, '.1f')"
   ]
  },
  {
   "cell_type": "code",
   "execution_count": 106,
   "metadata": {},
   "outputs": [
    {
     "data": {
      "text/plain": [
       "'3.141592654'"
      ]
     },
     "execution_count": 106,
     "metadata": {},
     "output_type": "execute_result"
    }
   ],
   "source": [
    "import math\n",
    "\n",
    "'%.9f' % math.pi"
   ]
  },
  {
   "cell_type": "code",
   "execution_count": 116,
   "metadata": {},
   "outputs": [
    {
     "data": {
      "text/plain": [
       "'3.141593, 3.14, 000003.14'"
      ]
     },
     "execution_count": 116,
     "metadata": {},
     "output_type": "execute_result"
    }
   ],
   "source": [
    "'%f, %.2f, %09.2f' % (math.pi, math.pi, math.pi)"
   ]
  },
  {
   "cell_type": "code",
   "execution_count": 117,
   "metadata": {},
   "outputs": [
    {
     "data": {
      "text/plain": [
       "'eggs ham spam'"
      ]
     },
     "execution_count": 117,
     "metadata": {},
     "output_type": "execute_result"
    }
   ],
   "source": [
    "def myformat(fmt, args): return fmt % args\n",
    "\n",
    "myformat('%s %s %s', (\"eggs\", \"ham\", \"spam\"))"
   ]
  },
  {
   "cell_type": "code",
   "execution_count": 118,
   "metadata": {},
   "outputs": [
    {
     "data": {
      "text/plain": [
       "'eggs ham spam'"
      ]
     },
     "execution_count": 118,
     "metadata": {},
     "output_type": "execute_result"
    }
   ],
   "source": [
    "str.format(\"{0} {1} {2}\", \"eggs\", \"ham\", \"spam\")"
   ]
  },
  {
   "cell_type": "code",
   "execution_count": 120,
   "metadata": {},
   "outputs": [
    {
     "data": {
      "text/plain": [
       "'10 = Bob'"
      ]
     },
     "execution_count": 120,
     "metadata": {},
     "output_type": "execute_result"
    }
   ],
   "source": [
    "'%(num)i = %(name)s' % {'name': 'Bob', 'num': 10}"
   ]
  },
  {
   "cell_type": "code",
   "execution_count": 121,
   "metadata": {},
   "outputs": [
    {
     "data": {
      "text/plain": [
       "'10 = Bob'"
      ]
     },
     "execution_count": 121,
     "metadata": {},
     "output_type": "execute_result"
    }
   ],
   "source": [
    "'{num:d} = {name:s}'.format(name='Bob', num=10)"
   ]
  },
  {
   "cell_type": "code",
   "execution_count": 129,
   "metadata": {},
   "outputs": [
    {
     "data": {
      "text/plain": [
       "'9 = Bob'"
      ]
     },
     "execution_count": 129,
     "metadata": {},
     "output_type": "execute_result"
    }
   ],
   "source": [
    "import string\n",
    "\n",
    "t = string.Template('$num = $name')\n",
    "t.substitute(name='Bob', num=9)\n",
    "t.substitute({'name': 'Bob', 'num': 9})\n",
    "t.substitute(dict(name=\"Bob\", num=9))"
   ]
  }
 ],
 "metadata": {
  "kernelspec": {
   "display_name": "Python 3",
   "language": "python",
   "name": "python3"
  },
  "language_info": {
   "codemirror_mode": {
    "name": "ipython",
    "version": 3
   },
   "file_extension": ".py",
   "mimetype": "text/x-python",
   "name": "python",
   "nbconvert_exporter": "python",
   "pygments_lexer": "ipython3",
   "version": "3.12.1"
  }
 },
 "nbformat": 4,
 "nbformat_minor": 2
}
