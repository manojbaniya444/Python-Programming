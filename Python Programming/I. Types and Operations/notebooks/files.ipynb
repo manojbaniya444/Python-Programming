{
 "cells": [
  {
   "cell_type": "markdown",
   "metadata": {},
   "source": [
    "## Files\n",
    "\n",
    "## Common file operations\n",
    "```python\n",
    "output = open(r'C:\\spam','w') # Create output file ('w' means write)\n",
    "input = open('data', 'r') # create input file ('r' means read)\\\n",
    "aString = input.read() # Read entire file into a single string\n",
    "aString = input.read(N) # Read upto next N characters or bytes\n",
    "aString = input.readline() # Read next line (including \\n newline) into a string\n",
    "aList = input.readlines() # Read entire file into list of line strings (with \\n)\n",
    "output.write(aString) # Write a string of characters in file\n",
    "output.writeLines(aList) # Write all line strings in a list\n",
    "output.close() # Manual close (done when file is collected)\n",
    "output.flush() # Flush output buffer to disk without closing\n",
    "anyFile.seek(N) # change file position to offset N for next operation\n",
    "for line in open('data'): use line # File iterators read line by line\n",
    "open('f.txt', encoding='latin-1')\n",
    "open('f.bin', 'rb')\n",
    "codecs.open('f.txt', encoding='utf-8')\n",
    "open('f.bin', 'rb')\n",
    "```"
   ]
  },
  {
   "cell_type": "markdown",
   "metadata": {},
   "source": [
    "## Using Files\n",
    "- File iterators are best for reading lines\n",
    "- Content is strings not objects\n",
    "- Files are buffered and seekable\n",
    "- close is often optional: auto close on collection"
   ]
  },
  {
   "cell_type": "code",
   "execution_count": 1,
   "metadata": {},
   "outputs": [],
   "source": [
    "myfile = open('./files/file.txt', 'w') # open file for text output \"write\"\n",
    "myfile.write(\"Hello file\\n\")\n",
    "myfile.write('goodbye text file\\n')\n",
    "myfile.close()"
   ]
  },
  {
   "cell_type": "code",
   "execution_count": 2,
   "metadata": {},
   "outputs": [
    {
     "data": {
      "text/plain": [
       "'Hello file\\n'"
      ]
     },
     "execution_count": 2,
     "metadata": {},
     "output_type": "execute_result"
    }
   ],
   "source": [
    "myfile = open('./files/file.txt', 'r') # open file for read text\n",
    "myfile.readline()"
   ]
  },
  {
   "cell_type": "code",
   "execution_count": 3,
   "metadata": {},
   "outputs": [
    {
     "data": {
      "text/plain": [
       "'goodbye text file\\n'"
      ]
     },
     "execution_count": 3,
     "metadata": {},
     "output_type": "execute_result"
    }
   ],
   "source": [
    "myfile.readline()"
   ]
  },
  {
   "cell_type": "code",
   "execution_count": 4,
   "metadata": {},
   "outputs": [
    {
     "data": {
      "text/plain": [
       "''"
      ]
     },
     "execution_count": 4,
     "metadata": {},
     "output_type": "execute_result"
    }
   ],
   "source": [
    "myfile.readline() # nothing just empty string"
   ]
  },
  {
   "cell_type": "code",
   "execution_count": 5,
   "metadata": {},
   "outputs": [
    {
     "data": {
      "text/plain": [
       "'Hello file\\ngoodbye text file\\n'"
      ]
     },
     "execution_count": 5,
     "metadata": {},
     "output_type": "execute_result"
    }
   ],
   "source": [
    "open('./files/file.txt').read() # read all at a single time"
   ]
  },
  {
   "cell_type": "code",
   "execution_count": 6,
   "metadata": {},
   "outputs": [
    {
     "name": "stdout",
     "output_type": "stream",
     "text": [
      "Hello file\n",
      "goodbye text file\n",
      "\n"
     ]
    }
   ],
   "source": [
    "print(open('./files/file.txt').read())"
   ]
  },
  {
   "cell_type": "code",
   "execution_count": 7,
   "metadata": {},
   "outputs": [
    {
     "name": "stdout",
     "output_type": "stream",
     "text": [
      "Hello file\n",
      "\n",
      "goodbye text file\n",
      "\n"
     ]
    }
   ],
   "source": [
    "myfile = open('./files/file.txt')\n",
    "for line in myfile:\n",
    "    print(line)"
   ]
  },
  {
   "cell_type": "markdown",
   "metadata": {},
   "source": [
    "### Text and Binary Files\n",
    "The file is determined by the second argument to open, the mode string an included 'b' means binary.\n",
    "\n",
    "> Text files represent the text as normal str strings, perfomr Unicode encoding and decoding automatically and perform end of line translation by default.\n",
    "\n",
    "> Binary files represent a special bytes string type and allow programs to access file content unaltered."
   ]
  },
  {
   "cell_type": "code",
   "execution_count": 8,
   "metadata": {},
   "outputs": [
    {
     "data": {
      "text/plain": [
       "b'0b110101010101010010'"
      ]
     },
     "execution_count": 8,
     "metadata": {},
     "output_type": "execute_result"
    }
   ],
   "source": [
    "data = open('./files/file.bin', 'rb').read()\n",
    "data"
   ]
  },
  {
   "cell_type": "markdown",
   "metadata": {},
   "source": [
    "## Storing python objects in files: Conversions\n",
    "writing objects into a text file."
   ]
  },
  {
   "cell_type": "code",
   "execution_count": 13,
   "metadata": {},
   "outputs": [],
   "source": [
    "a, b, c = 1, 2, 1\n",
    "l = \"spam\"\n",
    "e = {'a':1, 'b':0}\n",
    "o = [1,2,3,4,5,6,7,8,9,0]\n",
    "\n",
    "F = open('./files/datafile.txt', 'w')\n",
    "\n",
    "## To write into file file first it must be converted into string\n",
    "\n",
    "F.write(l + '\\n')\n",
    "F.write('%s and %s and %s' % (a, b, c))\n",
    "F.write(\"\\n\")\n",
    "F.write(str(o) + '\\n' + str(e) )\n",
    "F.close()"
   ]
  },
  {
   "cell_type": "code",
   "execution_count": 14,
   "metadata": {},
   "outputs": [
    {
     "data": {
      "text/plain": [
       "\"spam\\n1 and 2 and 1\\n[1, 2, 3, 4, 5, 6, 7, 8, 9, 0]\\n{'a': 1, 'b': 0}\""
      ]
     },
     "execution_count": 14,
     "metadata": {},
     "output_type": "execute_result"
    }
   ],
   "source": [
    "chars = open('./files/datafile.txt').read()\n",
    "chars"
   ]
  },
  {
   "cell_type": "code",
   "execution_count": 16,
   "metadata": {},
   "outputs": [
    {
     "data": {
      "text/plain": [
       "'spam\\n'"
      ]
     },
     "execution_count": 16,
     "metadata": {},
     "output_type": "execute_result"
    }
   ],
   "source": [
    "F = open('./files/datafile.txt')\n",
    "line = F.readline()\n",
    "line"
   ]
  },
  {
   "cell_type": "code",
   "execution_count": 17,
   "metadata": {},
   "outputs": [
    {
     "data": {
      "text/plain": [
       "'spam'"
      ]
     },
     "execution_count": 17,
     "metadata": {},
     "output_type": "execute_result"
    }
   ],
   "source": [
    "line.rstrip()"
   ]
  },
  {
   "cell_type": "code",
   "execution_count": 24,
   "metadata": {},
   "outputs": [],
   "source": [
    "F.close()"
   ]
  },
  {
   "cell_type": "code",
   "execution_count": 23,
   "metadata": {},
   "outputs": [
    {
     "name": "stdout",
     "output_type": "stream",
     "text": [
      "spam\n",
      "+1 and 2 and 1\n",
      "+[1, 2, 3, 4, 5, 6, 7, 8, 9, 0]\n",
      "+{'a': 1, 'b': 0}+"
     ]
    }
   ],
   "source": [
    "for line in open('./files/datafile.txt'):\n",
    "    print(line, end='+')"
   ]
  },
  {
   "cell_type": "markdown",
   "metadata": {},
   "source": [
    "### Eval\n",
    "We can use eval for the case when we want to store object type in file by passing it as a string and then it can be used to convert to any object. However Pickle is suitable."
   ]
  },
  {
   "cell_type": "code",
   "execution_count": 26,
   "metadata": {},
   "outputs": [
    {
     "data": {
      "text/plain": [
       "[1, 2, 3]"
      ]
     },
     "execution_count": 26,
     "metadata": {},
     "output_type": "execute_result"
    }
   ],
   "source": [
    "eval('[1,2,3]') #  convert to any data object type"
   ]
  },
  {
   "cell_type": "code",
   "execution_count": 30,
   "metadata": {},
   "outputs": [
    {
     "data": {
      "text/plain": [
       "{'a': 1, 'b': 2}"
      ]
     },
     "execution_count": 30,
     "metadata": {},
     "output_type": "execute_result"
    }
   ],
   "source": [
    "eval('{\"a\":1,\"b\":2}')"
   ]
  },
  {
   "cell_type": "markdown",
   "metadata": {},
   "source": [
    "## Pickle\n",
    "The pickle module is a more advanced tool that allows us to store almost any python object in a file directory, with no to or from string conversioon requirement on our part. It is like a super general data formatting and parsing utility.\n",
    "\n",
    "This performs `**Object Serialization**` converting objects to and from string to bytes but requires very little work on our part. Pickle internally translates our object to a string form.\n",
    "\n",
    "Also checkout Shelve module."
   ]
  },
  {
   "cell_type": "code",
   "execution_count": 31,
   "metadata": {},
   "outputs": [],
   "source": [
    "dictionary = {\n",
    "    \"name\": \"John\",\n",
    "    \"age\": 20\n",
    "}\n",
    "\n",
    "F = open('./files/datafile.pkl', 'wb') # getting ready pickle file\n",
    "\n",
    "import pickle\n",
    "pickle.dump(dictionary, F) # dump the dictionary into file F that we just open\n",
    "F.close()"
   ]
  },
  {
   "cell_type": "code",
   "execution_count": 33,
   "metadata": {},
   "outputs": [
    {
     "data": {
      "text/plain": [
       "b'\\x80\\x04\\x95\\x1b\\x00\\x00\\x00\\x00\\x00\\x00\\x00}\\x94(\\x8c\\x04name\\x94\\x8c\\x04John\\x94\\x8c\\x03age\\x94K\\x14u.'"
      ]
     },
     "execution_count": 33,
     "metadata": {},
     "output_type": "execute_result"
    }
   ],
   "source": [
    "F = open(\"./files/datafile.pkl\", 'rb') # opening the pickle file as read binary\n",
    "F.read()"
   ]
  },
  {
   "cell_type": "code",
   "execution_count": 36,
   "metadata": {},
   "outputs": [
    {
     "data": {
      "text/plain": [
       "{'name': 'John', 'age': 20}"
      ]
     },
     "execution_count": 36,
     "metadata": {},
     "output_type": "execute_result"
    }
   ],
   "source": [
    "F = open(\"./files/datafile.pkl\", \"rb\")\n",
    "E = pickle.load(F) # load any object frm file\n",
    "E"
   ]
  },
  {
   "cell_type": "markdown",
   "metadata": {},
   "source": [
    "### Storing Objects in JSON Format\n",
    "The prior pickle module translates nearly arbitrary object to a format. \n",
    "JSON doesnot support as broad a range of python object types as pickle but its portability is an advantage in some contexts and it represents another way to serialize a specific category of object for storage and transmission. Moreover JSON is close to python dictionaries and lists in syntax the translation to and from object is trivial and is automated by the json standard library module."
   ]
  },
  {
   "cell_type": "code",
   "execution_count": 37,
   "metadata": {},
   "outputs": [
    {
     "data": {
      "text/plain": [
       "{'name': {'fist': 'Jane', 'last': 'Smith'}, 'job': ['dev', 'mgr'], 'age': 20}"
      ]
     },
     "execution_count": 37,
     "metadata": {},
     "output_type": "execute_result"
    }
   ],
   "source": [
    "name = dict(fist=\"Jane\", last=\"Smith\")\n",
    "rec = dict(name=name, job=['dev', 'mgr'], age=20)\n",
    "rec"
   ]
  },
  {
   "cell_type": "code",
   "execution_count": 38,
   "metadata": {},
   "outputs": [
    {
     "data": {
      "text/plain": [
       "'{\"name\": {\"fist\": \"Jane\", \"last\": \"Smith\"}, \"job\": [\"dev\", \"mgr\"], \"age\": 20}'"
      ]
     },
     "execution_count": 38,
     "metadata": {},
     "output_type": "execute_result"
    }
   ],
   "source": [
    "import json\n",
    "\n",
    "# json dump string method\n",
    "json.dumps(rec)"
   ]
  },
  {
   "cell_type": "code",
   "execution_count": 39,
   "metadata": {},
   "outputs": [
    {
     "data": {
      "text/plain": [
       "'{\"name\": {\"fist\": \"Jane\", \"last\": \"Smith\"}, \"job\": [\"dev\", \"mgr\"], \"age\": 20}'"
      ]
     },
     "execution_count": 39,
     "metadata": {},
     "output_type": "execute_result"
    }
   ],
   "source": [
    "s = json.dumps(rec)\n",
    "s"
   ]
  },
  {
   "cell_type": "code",
   "execution_count": 40,
   "metadata": {},
   "outputs": [
    {
     "data": {
      "text/plain": [
       "{'name': {'fist': 'Jane', 'last': 'Smith'}, 'job': ['dev', 'mgr'], 'age': 20}"
      ]
     },
     "execution_count": 40,
     "metadata": {},
     "output_type": "execute_result"
    }
   ],
   "source": [
    "# JSON load string\n",
    "o = json.loads(s)\n",
    "o"
   ]
  },
  {
   "cell_type": "code",
   "execution_count": 41,
   "metadata": {},
   "outputs": [
    {
     "name": "stdout",
     "output_type": "stream",
     "text": [
      "{\n",
      "       \"name\": {\n",
      "              \"fist\": \"Jane\",\n",
      "              \"last\": \"Smith\"\n",
      "       },\n",
      "       \"job\": [\n",
      "              \"dev\",\n",
      "              \"mgr\"\n",
      "       ],\n",
      "       \"age\": 20\n",
      "}\n"
     ]
    }
   ],
   "source": [
    "# jsom dump file\n",
    "\n",
    "json.dump(rec, fp = open('./files/textjson.txt', 'w'), indent=7)\n",
    "print(open('./files/textjson.txt').read())"
   ]
  },
  {
   "cell_type": "code",
   "execution_count": 43,
   "metadata": {},
   "outputs": [
    {
     "data": {
      "text/plain": [
       "{'name': {'fist': 'Jane', 'last': 'Smith'}, 'job': ['dev', 'mgr'], 'age': 20}"
      ]
     },
     "execution_count": 43,
     "metadata": {},
     "output_type": "execute_result"
    }
   ],
   "source": [
    "# JSON load file\n",
    "\n",
    "dictionary = json.load(open('./files/textjson.txt'))\n",
    "dictionary"
   ]
  },
  {
   "cell_type": "markdown",
   "metadata": {},
   "source": [
    "## Storing Packed Binary Data: struct\n",
    "The struct module knows how to both compose and parse packed binary data. In a sense this is another data conversion tool that interprets strings in files as binary data."
   ]
  },
  {
   "cell_type": "markdown",
   "metadata": {},
   "source": [
    "### Context Manager\n",
    "Ensure that file will be closed and have its output flush to disk if needed automatically on exit instead of relying on the auto close during garbage collection."
   ]
  },
  {
   "cell_type": "code",
   "execution_count": 48,
   "metadata": {},
   "outputs": [
    {
     "name": "stdout",
     "output_type": "stream",
     "text": [
      "Hello file\n",
      "\n",
      "goodbye text file\n",
      "\n"
     ]
    }
   ],
   "source": [
    "with open('./files/file.txt') as myfile:\n",
    "    for line in myfile:\n",
    "        print(line)"
   ]
  },
  {
   "cell_type": "code",
   "execution_count": 50,
   "metadata": {},
   "outputs": [
    {
     "name": "stdout",
     "output_type": "stream",
     "text": [
      "spam\n",
      "\n",
      "1 and 2 and 1\n",
      "\n",
      "[1, 2, 3, 4, 5, 6, 7, 8, 9, 0]\n",
      "\n",
      "{'a': 1, 'b': 0}\n"
     ]
    }
   ],
   "source": [
    "# The try finally statement can provide similar functionality but at cost in extra code to write.\n",
    "\n",
    "myfile = open('./files/datafile.txt')\n",
    "try:\n",
    "    for l in myfile:\n",
    "        print(l)\n",
    "finally:\n",
    "    myfile.close()"
   ]
  }
 ],
 "metadata": {
  "kernelspec": {
   "display_name": "Python 3",
   "language": "python",
   "name": "python3"
  },
  "language_info": {
   "codemirror_mode": {
    "name": "ipython",
    "version": 3
   },
   "file_extension": ".py",
   "mimetype": "text/x-python",
   "name": "python",
   "nbconvert_exporter": "python",
   "pygments_lexer": "ipython3",
   "version": "3.12.1"
  }
 },
 "nbformat": 4,
 "nbformat_minor": 2
}
