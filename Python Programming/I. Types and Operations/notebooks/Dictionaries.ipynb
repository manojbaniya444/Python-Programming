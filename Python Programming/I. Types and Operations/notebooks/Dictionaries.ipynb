{
 "cells": [
  {
   "cell_type": "markdown",
   "metadata": {},
   "source": [
    "## Dictionaries\n",
    "- Unordered collection \n",
    "- Items are fetched by key instead of positional offset\n",
    "- Mutable mapping\n",
    "- Variable length, heteregeneous and arbitrarily nestable\n",
    "- Table of object references (hash table)\n",
    "\n",
    "## Common dictionary literals and operations\n",
    "```python\n",
    "a = {} # Empty dictionary\n",
    "a = {'name':'John','age':20} # Two item dictionary\n",
    "a = {'name':'John','age': {'x':20}} # Nest creation\n",
    "a = dict(name=\"John\", age=20) # another method to create\n",
    "a = dict([('name','Jane'), ('age':20)]) # key/value\n",
    "a = dict(zip(keyslist, valueslist)) # zipped key/value\n",
    "a = dict.fromkeys(['name','age'])\n",
    "a['name'] # indexing by key\n",
    "a['age']['x'] # nested indexing\n",
    "'age' in d # Membership , key present test\n",
    "a.keys() # all keys\n",
    "a.values()\n",
    "a.items() # (key,value) tuple pair at one\n",
    "a.copy() # copy\n",
    "a.clear() # remove all items\n",
    "a.update(a1) # merge by keys\n",
    "a.get(key, default?) # fetch by key if absent default or None\n",
    "a.pop(key, default?)\n",
    "a.setdefault(key, default?)\n",
    "a.popitem() # remove return any key,value pair\n",
    "len(a)\n",
    "a[key] = value\n",
    "del a[key]\n",
    "list(a.keys())\n",
    "a.viewkeys(), a.viewvalues()\n",
    "a = {x: x*2 for x in range(10)}\n",
    "```"
   ]
  },
  {
   "cell_type": "code",
   "execution_count": 2,
   "metadata": {},
   "outputs": [
    {
     "data": {
      "text/plain": [
       "(2, 3)"
      ]
     },
     "execution_count": 2,
     "metadata": {},
     "output_type": "execute_result"
    }
   ],
   "source": [
    "dictionary = {\n",
    "    'spam': 1,\n",
    "    'eggs': 2,\n",
    "    'ham': 3\n",
    "}\n",
    "\n",
    "dictionary[\"eggs\"], len(dictionary)"
   ]
  },
  {
   "cell_type": "code",
   "execution_count": 4,
   "metadata": {},
   "outputs": [
    {
     "data": {
      "text/plain": [
       "(['spam', 'eggs', 'ham'], [1, 2, 3], [('spam', 1), ('eggs', 2), ('ham', 3)])"
      ]
     },
     "execution_count": 4,
     "metadata": {},
     "output_type": "execute_result"
    }
   ],
   "source": [
    "list(dictionary.keys()), list(dictionary.values()), list(dictionary.items())"
   ]
  },
  {
   "cell_type": "code",
   "execution_count": 5,
   "metadata": {},
   "outputs": [
    {
     "data": {
      "text/plain": [
       "{'a': [1, 2, 3], 'b': 2}"
      ]
     },
     "execution_count": 5,
     "metadata": {},
     "output_type": "execute_result"
    }
   ],
   "source": [
    "a = {\n",
    "    'a': 1,\n",
    "    'b': 2\n",
    "}\n",
    "a['a'] = [1, 2, 3]\n",
    "a"
   ]
  },
  {
   "cell_type": "code",
   "execution_count": 9,
   "metadata": {},
   "outputs": [
    {
     "data": {
      "text/plain": [
       "([1, 2, 3], 99)"
      ]
     },
     "execution_count": 9,
     "metadata": {},
     "output_type": "execute_result"
    }
   ],
   "source": [
    "a.get('a'), a.get('x', 99) # if there is x return that otherwise default value return 99"
   ]
  },
  {
   "cell_type": "code",
   "execution_count": 13,
   "metadata": {},
   "outputs": [
    {
     "data": {
      "text/plain": [
       "{'a': [1, 2, 3], 'b': 200, 'c': 300}"
      ]
     },
     "execution_count": 13,
     "metadata": {},
     "output_type": "execute_result"
    }
   ],
   "source": [
    "a.update({'b': 200, 'c': 300}) # merge by key value\n",
    "a"
   ]
  },
  {
   "cell_type": "code",
   "execution_count": 14,
   "metadata": {},
   "outputs": [
    {
     "data": {
      "text/plain": [
       "300"
      ]
     },
     "execution_count": 14,
     "metadata": {},
     "output_type": "execute_result"
    }
   ],
   "source": [
    "a.pop('c')"
   ]
  },
  {
   "cell_type": "code",
   "execution_count": 15,
   "metadata": {},
   "outputs": [
    {
     "data": {
      "text/plain": [
       "[1, 3]"
      ]
     },
     "execution_count": 15,
     "metadata": {},
     "output_type": "execute_result"
    }
   ],
   "source": [
    "l = [1, 2, 3]\n",
    "l.pop(1)\n",
    "l"
   ]
  },
  {
   "cell_type": "code",
   "execution_count": 16,
   "metadata": {},
   "outputs": [
    {
     "data": {
      "text/plain": [
       "'The Meaning of Life'"
      ]
     },
     "execution_count": 16,
     "metadata": {},
     "output_type": "execute_result"
    }
   ],
   "source": [
    "table = {\n",
    "    '1975': 'Holy Grail',\n",
    "    '1979': 'Life of Brian',\n",
    "    '1983': 'The Meaning of Life'\n",
    "}\n",
    "year = '1983'\n",
    "movie = table[year]\n",
    "movie"
   ]
  },
  {
   "cell_type": "code",
   "execution_count": 17,
   "metadata": {},
   "outputs": [
    {
     "name": "stdout",
     "output_type": "stream",
     "text": [
      "1975\tHoly Grail\n",
      "1979\tLife of Brian\n",
      "1983\tThe Meaning of Life\n"
     ]
    }
   ],
   "source": [
    "for year in table:\n",
    "    print(year + '\\t' + table[year])"
   ]
  },
  {
   "cell_type": "code",
   "execution_count": 18,
   "metadata": {},
   "outputs": [
    {
     "data": {
      "text/plain": [
       "['1975', '1979', '1983']"
      ]
     },
     "execution_count": 18,
     "metadata": {},
     "output_type": "execute_result"
    }
   ],
   "source": [
    "list(table.keys())"
   ]
  },
  {
   "cell_type": "code",
   "execution_count": 24,
   "metadata": {},
   "outputs": [
    {
     "data": {
      "text/plain": [
       "['Life of Brian']"
      ]
     },
     "execution_count": 24,
     "metadata": {},
     "output_type": "execute_result"
    }
   ],
   "source": [
    "a = \"1979\"\n",
    "[ value for (key, value) in table.items() if key == a]"
   ]
  },
  {
   "cell_type": "code",
   "execution_count": 25,
   "metadata": {},
   "outputs": [
    {
     "name": "stdout",
     "output_type": "stream",
     "text": [
      "{'name': 'Bob', 'job': 'dev', 'age': 20}\n"
     ]
    }
   ],
   "source": [
    "dictionary = {}\n",
    "dictionary['name'] = 'Bob'\n",
    "dictionary['job'] = 'dev'\n",
    "dictionary['age'] = 20\n",
    "print(dictionary)"
   ]
  },
  {
   "cell_type": "code",
   "execution_count": 26,
   "metadata": {},
   "outputs": [
    {
     "name": "stdout",
     "output_type": "stream",
     "text": [
      "{'name': 'Bob', 'job': 'dev', 'age': 20}\n"
     ]
    }
   ],
   "source": [
    "dictionary = dict(name='Bob', job='dev', age=20)\n",
    "print(dictionary)"
   ]
  },
  {
   "cell_type": "code",
   "execution_count": 27,
   "metadata": {},
   "outputs": [
    {
     "data": {
      "text/plain": [
       "{'a': 0, 'b': 0}"
      ]
     },
     "execution_count": 27,
     "metadata": {},
     "output_type": "execute_result"
    }
   ],
   "source": [
    "dictionary.fromkeys(['a', 'b'], 0)"
   ]
  },
  {
   "cell_type": "code",
   "execution_count": 29,
   "metadata": {},
   "outputs": [
    {
     "data": {
      "text/plain": [
       "{'key1': 'value1', 'key2': 'value2'}"
      ]
     },
     "execution_count": 29,
     "metadata": {},
     "output_type": "execute_result"
    }
   ],
   "source": [
    "dictionary = dict(zip([\"key1\", \"key2\"], [\"value1\", \"value2\"]))\n",
    "dictionary"
   ]
  },
  {
   "cell_type": "code",
   "execution_count": 33,
   "metadata": {},
   "outputs": [
    {
     "data": {
      "text/plain": [
       "{'a': 1, 'b': [1, 2]}"
      ]
     },
     "execution_count": 33,
     "metadata": {},
     "output_type": "execute_result"
    }
   ],
   "source": [
    "{k: v for (k,v) in zip([\"a\", \"b\"], [1, [1,2]])}"
   ]
  },
  {
   "cell_type": "code",
   "execution_count": 34,
   "metadata": {},
   "outputs": [
    {
     "data": {
      "text/plain": [
       "{1: 1, 2: 4, 3: 9, 4: 16, 5: 25, 6: 36, 7: 49, 8: 64, 9: 81}"
      ]
     },
     "execution_count": 34,
     "metadata": {},
     "output_type": "execute_result"
    }
   ],
   "source": [
    "{x: x**2 for x in (1,2,3,4,5,6,7,8,9)}"
   ]
  },
  {
   "cell_type": "code",
   "execution_count": 35,
   "metadata": {},
   "outputs": [
    {
     "data": {
      "text/plain": [
       "{'a': 'aaa', 'p': 'ppp', 'l': 'lll', 'e': 'eee'}"
      ]
     },
     "execution_count": 35,
     "metadata": {},
     "output_type": "execute_result"
    }
   ],
   "source": [
    "{x: x*3 for x in ['a', 'p', 'p', 'l', 'e']}"
   ]
  },
  {
   "cell_type": "code",
   "execution_count": 36,
   "metadata": {},
   "outputs": [
    {
     "data": {
      "text/plain": [
       "{'a': 9, 'p': 9, 'l': 9, 'e': 9}"
      ]
     },
     "execution_count": 36,
     "metadata": {},
     "output_type": "execute_result"
    }
   ],
   "source": [
    "{k: 9 for k in list('apple')}"
   ]
  },
  {
   "cell_type": "code",
   "execution_count": 48,
   "metadata": {},
   "outputs": [
    {
     "data": {
      "text/plain": [
       "{'a': None, 'p': None, 'l': None, 'e': None}"
      ]
     },
     "execution_count": 48,
     "metadata": {},
     "output_type": "execute_result"
    }
   ],
   "source": [
    "dict.fromkeys(list('apple'))"
   ]
  },
  {
   "cell_type": "code",
   "execution_count": 51,
   "metadata": {},
   "outputs": [
    {
     "data": {
      "text/plain": [
       "1"
      ]
     },
     "execution_count": 51,
     "metadata": {},
     "output_type": "execute_result"
    }
   ],
   "source": [
    "{'a': 1, 'p': 2, 'l': 3, 'e': 4}.get('a', 0)"
   ]
  },
  {
   "cell_type": "code",
   "execution_count": 55,
   "metadata": {},
   "outputs": [
    {
     "data": {
      "text/plain": [
       "{'key_1': 'value_1'}"
      ]
     },
     "execution_count": 55,
     "metadata": {},
     "output_type": "execute_result"
    }
   ],
   "source": [
    "nested_dictionary = {\n",
    "    'dictA': {'key_1': 'value_1'},\n",
    "    'dictB': {'key_2': 'value_2'}\n",
    "}\n",
    "nested_dictionary['dictA']"
   ]
  },
  {
   "cell_type": "code",
   "execution_count": 60,
   "metadata": {},
   "outputs": [
    {
     "name": "stdout",
     "output_type": "stream",
     "text": [
      "Present\n"
     ]
    }
   ],
   "source": [
    "if {'a': 1, 'b': 2,'c': 3}.get('a') != None: print(\"Present\")\n"
   ]
  }
 ],
 "metadata": {
  "kernelspec": {
   "display_name": "Python 3",
   "language": "python",
   "name": "python3"
  },
  "language_info": {
   "codemirror_mode": {
    "name": "ipython",
    "version": 3
   },
   "file_extension": ".py",
   "mimetype": "text/x-python",
   "name": "python",
   "nbconvert_exporter": "python",
   "pygments_lexer": "ipython3",
   "version": "3.12.1"
  }
 },
 "nbformat": 4,
 "nbformat_minor": 2
}
