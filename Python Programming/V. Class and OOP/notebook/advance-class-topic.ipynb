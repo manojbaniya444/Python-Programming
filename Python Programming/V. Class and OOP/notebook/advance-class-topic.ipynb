{
 "cells": [
  {
   "cell_type": "markdown",
   "metadata": {},
   "source": [
    "## More OOP"
   ]
  },
  {
   "cell_type": "code",
   "execution_count": 1,
   "metadata": {},
   "outputs": [
    {
     "name": "stdout",
     "output_type": "stream",
     "text": [
      "set: [1, 2, 3, 4, 5, 7]\n",
      "set: [1, 2, 3, 4, 5, 6]\n"
     ]
    }
   ],
   "source": [
    "class Set:\n",
    "    def __init__(self, value = []):\n",
    "        self.data = []\n",
    "        self.concat(value)\n",
    "        \n",
    "    def intersect(self, other):\n",
    "        res = []\n",
    "        for x in self.data:\n",
    "            if x in other:\n",
    "                res.append(x)\n",
    "        return Set(res)\n",
    "    \n",
    "    def  union(self, other):\n",
    "        res = self.data[:]\n",
    "        for x in other:\n",
    "            if not x in res:\n",
    "                res.append(x)\n",
    "        return Set(res)\n",
    "    \n",
    "    def concat(self,value):\n",
    "        for x in value:\n",
    "            if not x in self.data:\n",
    "                self.data.append(x)\n",
    "                \n",
    "    def __len__(self): return len(self.data)\n",
    "    def __getitem__(self, key): return self.data[key]\n",
    "    def __and__(self, other): return self.intersect(other)\n",
    "    def __or__(self, other): return self.union(other)\n",
    "    def __repr__(self): return \"set: \" + repr(self.data)\n",
    "    def __iter__(self): return iter(self.data)\n",
    "    \n",
    "x = Set([1,2,3,4,5])\n",
    "print(x.union(Set([1,4,7]))) # union method/function\n",
    "print(x | Set([1, 4, 6])) # union operator overload or"
   ]
  },
  {
   "cell_type": "code",
   "execution_count": 4,
   "metadata": {},
   "outputs": [
    {
     "data": {
      "text/plain": [
       "20"
      ]
     },
     "execution_count": 4,
     "metadata": {},
     "output_type": "execute_result"
    }
   ],
   "source": [
    "## Slots attribute declarations\n",
    "## use __slots__ variable and attribute at the top level of a class statement: only those names in the __slots__ list can be assigned as instance attributes.\n",
    "\n",
    "class limiter(object):\n",
    "    __slots__ = ['age', 'name', 'job']\n",
    "    \n",
    "x = limiter()\n",
    "\n",
    "x.age = 20\n",
    "x.age"
   ]
  },
  {
   "cell_type": "code",
   "execution_count": 7,
   "metadata": {},
   "outputs": [],
   "source": [
    "# x.hello = 10 # no attribute hello allow"
   ]
  },
  {
   "cell_type": "code",
   "execution_count": 12,
   "metadata": {},
   "outputs": [
    {
     "data": {
      "text/plain": [
       "(2, 1)"
      ]
     },
     "execution_count": 12,
     "metadata": {},
     "output_type": "execute_result"
    }
   ],
   "source": [
    "class Limiter2:\n",
    "    __slots__ = ['a', 'b', '__dict__']\n",
    "    c = 1 # class attribute work normally\n",
    "    \n",
    "    def __init__(self):\n",
    "        self.d = 2 # d stored in __dict__ a is a slot\n",
    "\n",
    "x = Limiter2()\n",
    "x.d, x.c"
   ]
  },
  {
   "cell_type": "code",
   "execution_count": 13,
   "metadata": {},
   "outputs": [
    {
     "data": {
      "text/plain": [
       "{'d': 2}"
      ]
     },
     "execution_count": 13,
     "metadata": {},
     "output_type": "execute_result"
    }
   ],
   "source": [
    "x.__dict__"
   ]
  }
 ],
 "metadata": {
  "kernelspec": {
   "display_name": "Python 3",
   "language": "python",
   "name": "python3"
  },
  "language_info": {
   "codemirror_mode": {
    "name": "ipython",
    "version": 3
   },
   "file_extension": ".py",
   "mimetype": "text/x-python",
   "name": "python",
   "nbconvert_exporter": "python",
   "pygments_lexer": "ipython3",
   "version": "3.12.1"
  }
 },
 "nbformat": 4,
 "nbformat_minor": 2
}
