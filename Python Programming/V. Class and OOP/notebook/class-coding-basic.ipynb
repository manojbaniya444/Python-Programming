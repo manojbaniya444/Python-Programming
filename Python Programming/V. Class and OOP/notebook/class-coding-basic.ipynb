{
 "cells": [
  {
   "cell_type": "markdown",
   "metadata": {},
   "source": [
    "## Class Coding Basic\n",
    "- the class statement creates a class object and assigns it a name\n",
    "- assignments inside class statements make class attriibute\n",
    "- class attribute provide object state and behaviour\n",
    "\n",
    "## Instance objects are concrete items\n",
    "- calling a class object like a function makes a new instance object\n",
    "- Each instance object inherits class attributes and gets its own namespace\n",
    "- Assignments to attributes of self in methods make per instance attribute."
   ]
  },
  {
   "cell_type": "code",
   "execution_count": 1,
   "metadata": {},
   "outputs": [
    {
     "name": "stdout",
     "output_type": "stream",
     "text": [
      "King Arthur\n",
      "3.14159\n"
     ]
    }
   ],
   "source": [
    "class MyClass: # define class\n",
    "    def setdata(self, value): # define class function\n",
    "        self.data = value # self is the instance\n",
    "    def display(self):\n",
    "        print(self.data) # self.data per instance\n",
    "        \n",
    "x = MyClass() # create instance x\n",
    "y = MyClass() # create instance y\n",
    "\n",
    "# each is a new instance\n",
    "\n",
    "x.setdata(\"King Arthur\") # call setdata for x\n",
    "y.setdata(3.14159) # call setdata for y\n",
    "\n",
    "x.display() # call display for x\n",
    "y.display() # call display for y"
   ]
  },
  {
   "cell_type": "code",
   "execution_count": 2,
   "metadata": {},
   "outputs": [
    {
     "name": "stdout",
     "output_type": "stream",
     "text": [
      "New one\n"
     ]
    }
   ],
   "source": [
    "x.data = \"New one\" # can change data directly\n",
    "x.display() # display new data"
   ]
  },
  {
   "cell_type": "code",
   "execution_count": 3,
   "metadata": {},
   "outputs": [
    {
     "name": "stdout",
     "output_type": "stream",
     "text": [
      "spam\n"
     ]
    }
   ],
   "source": [
    "x.anothername = \"spam\" # can create new attributes\n",
    "print(x.anothername) # can access new attributes"
   ]
  },
  {
   "cell_type": "markdown",
   "metadata": {},
   "source": [
    "## Classes are customized by inheritance\n",
    "They also allow us to make changes by introducting new components called subclasses instead of changing existing component in place.\n",
    "\n",
    "We can inherit from other another class opening the door to coding hierarchies of classes that specialize behaviour.\n",
    "\n",
    "- superclass are listed in parentheses in a class header\n",
    "- classes inherit attributes from their superclass\n",
    "- Instance inherit attributes from all accessible class\n",
    "- each object.attr reference invokes a new independent search\n",
    "- logic changes are made by subclassing not by changin superclass"
   ]
  },
  {
   "cell_type": "code",
   "execution_count": 4,
   "metadata": {},
   "outputs": [
    {
     "name": "stdout",
     "output_type": "stream",
     "text": [
      "Current value = 42\n"
     ]
    }
   ],
   "source": [
    "class MyanotherClass(MyClass): # inheritance\n",
    "    def display(self): # override display\n",
    "        print(\"Current value = %s\" % self.data)\n",
    "        \n",
    "z = MyanotherClass() # create instance z\n",
    "z.setdata(42) # call setdata for z\n",
    "z.display() # call overridden display for z"
   ]
  },
  {
   "cell_type": "code",
   "execution_count": 5,
   "metadata": {},
   "outputs": [
    {
     "name": "stdout",
     "output_type": "stream",
     "text": [
      "New one\n"
     ]
    }
   ],
   "source": [
    "x.display() # call original display for x\n",
    "\n",
    "## Rather than changin MyClass we customize it."
   ]
  },
  {
   "cell_type": "markdown",
   "metadata": {},
   "source": [
    "## Classes are attributes in Modules\n",
    "```python\n",
    "# module.py\n",
    "class FirstClass():\n",
    "    def method():\n",
    "        print(\"From first\")\n",
    "# main.py\n",
    "from module import FirstClass\n",
    "class SecondClass(FirstClass):\n",
    "    # methods here\n",
    "\n",
    "## or\n",
    "import module\n",
    "class SecondClass(module.FirstClass):\n",
    "    # methods here"
   ]
  },
  {
   "cell_type": "markdown",
   "metadata": {},
   "source": [
    "## Classes can Intercept python operators\n",
    "`**Operator Overloading**`: In simple terms operator overloading lets objects coded with classes intercept and respond to operations that work on built in types.\n",
    "\n",
    "- Methods named with double underscores __x__ are special hooks\n",
    "- such methods are called automatically when instances appear in built in operations\n",
    "- classes may override most built in type operations\n",
    "- classes may override most built in type operations\n",
    "- there are no defaults for operator overloading methods and none are required\n",
    "- operators allow classes to integrate with python object model."
   ]
  },
  {
   "cell_type": "code",
   "execution_count": 26,
   "metadata": {},
   "outputs": [],
   "source": [
    "# __init__ is run when a new instance object is created: self is the new ThirdClass object\n",
    "# __add__ is run when a ThirdClass instance appears in a + expression\n",
    "# __str__ is run when an object is printed\n",
    "\n",
    "class ThirdClass(MyClass):\n",
    "    def __init__(self, value):\n",
    "        self.data = value\n",
    "    \n",
    "    def __add__(self, other):\n",
    "        return ThirdClass(self.data + other)\n",
    "    \n",
    "    def __str__(self):\n",
    "        return '[ThirdClass: %s]' % self.data\n",
    "    \n",
    "    def mul(self, other):\n",
    "        self.data *= other"
   ]
  },
  {
   "cell_type": "code",
   "execution_count": 12,
   "metadata": {},
   "outputs": [
    {
     "name": "stdout",
     "output_type": "stream",
     "text": [
      "abc\n",
      "[ThirdClass: abc]\n"
     ]
    }
   ],
   "source": [
    "a = ThirdClass(\"abc\")\n",
    "a.display() # method from MyClass by inheritance\n",
    "\n",
    "print(a) # __str__: returns display string"
   ]
  },
  {
   "cell_type": "code",
   "execution_count": 13,
   "metadata": {},
   "outputs": [
    {
     "name": "stdout",
     "output_type": "stream",
     "text": [
      "abcxyz\n"
     ]
    }
   ],
   "source": [
    "b = a + \"xyz\" # __add__: makes a new instance\n",
    "b.display() # b has all ThirdClass methods"
   ]
  },
  {
   "cell_type": "code",
   "execution_count": 14,
   "metadata": {},
   "outputs": [
    {
     "name": "stdout",
     "output_type": "stream",
     "text": [
      "[ThirdClass: abcxyz]\n"
     ]
    }
   ],
   "source": [
    "print(b) # __str__: returns display string"
   ]
  },
  {
   "cell_type": "code",
   "execution_count": 15,
   "metadata": {},
   "outputs": [
    {
     "name": "stdout",
     "output_type": "stream",
     "text": [
      "[ThirdClass: abcabcabc]\n"
     ]
    }
   ],
   "source": [
    "a.mul(3) # mul: changes instance in place\n",
    "print(a)"
   ]
  },
  {
   "cell_type": "markdown",
   "metadata": {},
   "source": [
    "Operator overloading method names are also not built in or reserved words they are just attributes that python looks for when objects appear in various contexts. Python usually calls them automatically but they may occasionally be called by our code as well."
   ]
  },
  {
   "cell_type": "code",
   "execution_count": 16,
   "metadata": {},
   "outputs": [
    {
     "name": "stdout",
     "output_type": "stream",
     "text": [
      "Bob\n"
     ]
    }
   ],
   "source": [
    "class rec: pass # Empty namespace object\n",
    "\n",
    "rec.name = \"Bob\" # Just add attributes\n",
    "rec.age = 40\n",
    "\n",
    "print(rec.name)"
   ]
  },
  {
   "cell_type": "code",
   "execution_count": 17,
   "metadata": {},
   "outputs": [
    {
     "data": {
      "text/plain": [
       "('Bob', 'Bob')"
      ]
     },
     "execution_count": 17,
     "metadata": {},
     "output_type": "execute_result"
    }
   ],
   "source": [
    "x = rec()\n",
    "y = rec()\n",
    "\n",
    "x.name, y.name"
   ]
  },
  {
   "cell_type": "code",
   "execution_count": 18,
   "metadata": {},
   "outputs": [
    {
     "data": {
      "text/plain": [
       "('Bob', 'Sue', 'Bob')"
      ]
     },
     "execution_count": 18,
     "metadata": {},
     "output_type": "execute_result"
    }
   ],
   "source": [
    "x.name = \"Sue\" # Change x only\n",
    "rec.name, x.name, y.name"
   ]
  },
  {
   "cell_type": "code",
   "execution_count": 19,
   "metadata": {},
   "outputs": [
    {
     "data": {
      "text/plain": [
       "['__module__', '__dict__', '__weakref__', '__doc__', 'name', 'age']"
      ]
     },
     "execution_count": 19,
     "metadata": {},
     "output_type": "execute_result"
    }
   ],
   "source": [
    "list(rec.__dict__.keys())"
   ]
  },
  {
   "cell_type": "code",
   "execution_count": 22,
   "metadata": {},
   "outputs": [
    {
     "data": {
      "text/plain": [
       "'Sue'"
      ]
     },
     "execution_count": 22,
     "metadata": {},
     "output_type": "execute_result"
    }
   ],
   "source": [
    "x.__dict__[\"name\"]\n",
    "# x.__dict__[\"age\"] # error because indexing dict does not do inheritance"
   ]
  },
  {
   "cell_type": "code",
   "execution_count": 23,
   "metadata": {},
   "outputs": [
    {
     "name": "stdout",
     "output_type": "stream",
     "text": [
      "Bob Sue\n"
     ]
    }
   ],
   "source": [
    "class rec(): pass\n",
    "\n",
    "p1 = rec()\n",
    "p1.name = \"Bob\"\n",
    "p1.job = \"dev\"\n",
    "p1.age = 40\n",
    "\n",
    "p2 = rec()\n",
    "p2.name = \"Sue\"\n",
    "p2.job = \"dev\"\n",
    "p2.age = 35\n",
    "\n",
    "print(p1.name, p2.name)"
   ]
  },
  {
   "cell_type": "code",
   "execution_count": 25,
   "metadata": {},
   "outputs": [
    {
     "name": "stdout",
     "output_type": "stream",
     "text": [
      "('Bob', 'dev')\n",
      "('Sue', 'dev')\n"
     ]
    }
   ],
   "source": [
    "class Person():\n",
    "    def __init__(self, name, job, age=None):\n",
    "        self.name = name\n",
    "        self.job = job\n",
    "        self.age = age\n",
    "    def info(self):\n",
    "        return (self.name, self.job)\n",
    "    \n",
    "rec1 = Person(\"Bob\", \"dev\", 40)\n",
    "rec2 = Person(\"Sue\", \"dev\", 35)\n",
    "\n",
    "print(rec1.info())\n",
    "print(rec2.info())"
   ]
  }
 ],
 "metadata": {
  "kernelspec": {
   "display_name": "Python 3",
   "language": "python",
   "name": "python3"
  },
  "language_info": {
   "codemirror_mode": {
    "name": "ipython",
    "version": 3
   },
   "file_extension": ".py",
   "mimetype": "text/x-python",
   "name": "python",
   "nbconvert_exporter": "python",
   "pygments_lexer": "ipython3",
   "version": "3.12.1"
  }
 },
 "nbformat": 4,
 "nbformat_minor": 2
}
