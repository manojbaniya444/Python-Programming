{
 "cells": [
  {
   "cell_type": "code",
   "execution_count": 1,
   "metadata": {},
   "outputs": [
    {
     "name": "stdout",
     "output_type": "stream",
     "text": [
      "Bob Smith 100000\n"
     ]
    }
   ],
   "source": [
    "## Coding constructors:\n",
    "\n",
    "class Person:\n",
    "    def __init__(self, name, job, pay=0): # constructor takes three arguments here\n",
    "        self.name = name\n",
    "        self.job = job\n",
    "        self.pay = pay\n",
    "\n",
    "bob = Person('Bob Smith', 'dev', 100000) # bob is a Person\n",
    "sue = Person('Sue Jones', 'dev', 100000) # sue is a Person\n",
    "print(bob.name, sue.pay) # bob's name and sue's pay"
   ]
  },
  {
   "cell_type": "markdown",
   "metadata": {},
   "source": [
    "(example with script.file) ../scripts/class_1.py"
   ]
  },
  {
   "cell_type": "code",
   "execution_count": 7,
   "metadata": {},
   "outputs": [
    {
     "name": "stdout",
     "output_type": "stream",
     "text": [
      "Smith\n"
     ]
    }
   ],
   "source": [
    "name = \"Bob Smith\"\n",
    "name_list = name.split()\n",
    "\n",
    "print(name_list[-1])"
   ]
  },
  {
   "cell_type": "code",
   "execution_count": 10,
   "metadata": {},
   "outputs": [
    {
     "name": "stdout",
     "output_type": "stream",
     "text": [
      "Smith\n",
      "110000\n"
     ]
    }
   ],
   "source": [
    "## Adding method:\n",
    "\n",
    "class Person:\n",
    "    def __init__(self, name, job=None, pay=0):\n",
    "        self.name = name\n",
    "        self.job = job\n",
    "        self.pay = pay\n",
    "    \n",
    "    def lastName(self):\n",
    "        return self.name.split()[-1]\n",
    "    \n",
    "    def giveRaise(self, percent):\n",
    "        self.pay = int(self.pay * (1 + percent))\n",
    "        \n",
    "bob = Person('Bob Smith', 'dev', 100000)\n",
    "print(bob.lastName())\n",
    "\n",
    "# raise pay\n",
    "bob.giveRaise(0.10)\n",
    "print(bob.pay)"
   ]
  },
  {
   "cell_type": "code",
   "execution_count": 15,
   "metadata": {},
   "outputs": [
    {
     "name": "stdout",
     "output_type": "stream",
     "text": [
      "<__main__.Person object at 0x0000027861A66BA0>\n"
     ]
    }
   ],
   "source": [
    "## Operator overloading: coding methods in a class that intercept and proceess built in operations when run on the class instances. The __repr__ method and its twin __str__ are the most common overloading methods we can use.\n",
    "\n",
    "print(bob)"
   ]
  },
  {
   "cell_type": "code",
   "execution_count": 24,
   "metadata": {},
   "outputs": [
    {
     "name": "stdout",
     "output_type": "stream",
     "text": [
      "[Person: Bob Smith 100000]\n"
     ]
    }
   ],
   "source": [
    "## Adding __repr__ overload method for printing objects\n",
    "\n",
    "class Person:\n",
    "    def __init__(self, name, job=None, pay=0):  # Corrected __init___ to __init__\n",
    "        self.name = name\n",
    "        self.job = job\n",
    "        self.pay = pay\n",
    "\n",
    "    def lastName(self):\n",
    "        return self.name.split()[-1]\n",
    "\n",
    "    def giveRaise(self, percent):\n",
    "        self.pay = int(self.pay * (1 + percent))\n",
    "\n",
    "    def __repr__(self):\n",
    "        return \"[Person: %s %s]\" % (self.name, self.pay)\n",
    "\n",
    "bob = Person('Bob Smith', 'dev', 100000)\n",
    "print(bob)"
   ]
  },
  {
   "cell_type": "code",
   "execution_count": 26,
   "metadata": {},
   "outputs": [],
   "source": [
    "## Customizing by adding subclass:\n",
    "\n",
    "class Manager(Person):\n",
    "    def giveRaise(self, percent, bonus=0.10):\n",
    "        # self.pay = int(self.pay * (1 + percent + bonus)) # not good way to do this, but for the sake of example\n",
    "        \n",
    "        # The preferred way\n",
    "        Person.giveRaise(self, percent + bonus)\n",
    "        \n",
    "# Why the preferred way? Because it is more maintainable and less error-prone. If the superclass changes, the subclass will automatically inherit the changes."
   ]
  },
  {
   "cell_type": "code",
   "execution_count": 28,
   "metadata": {},
   "outputs": [
    {
     "name": "stdout",
     "output_type": "stream",
     "text": [
      "110000\n",
      "120000\n"
     ]
    }
   ],
   "source": [
    "a = Person('A', 'dev', 100000)\n",
    "b = Manager('B', 'mgr', 100000)\n",
    "\n",
    "a.giveRaise(0.10)\n",
    "b.giveRaise(0.10)\n",
    "\n",
    "print(a.pay) # bacause a is a person and will only raise by 10% salary\n",
    "print(b.pay) # because b is a manager and will raise 10% salary and another 10% bonus so total 20% more salary added for b pay"
   ]
  },
  {
   "cell_type": "code",
   "execution_count": 31,
   "metadata": {},
   "outputs": [],
   "source": [
    "## Customizing constructor in subclass:\n",
    "# In our code we have to provide job title for manager class but we know that he/she is a manager than why to provide when creating a manager new instance. We can customize the constructor to provide default job title for manager class by adding__init__in manager.\n",
    "\n",
    "class Person:\n",
    "    def __init__(self, name, job=None, pay=0):\n",
    "        self.name = name\n",
    "        self.job = job\n",
    "        self.pay = pay\n",
    "        \n",
    "    def lastName(self):\n",
    "        return self.name.split()[-1]\n",
    "    \n",
    "    def giveRaise(self, percent):\n",
    "        self.pay = int(self.pay * (1 + percent))\n",
    "\n",
    "    def __repr__(self):\n",
    "        return \"[Person: %s %s]\" % (self.name, self.pay)\n",
    "\n",
    "class Manager(Person):\n",
    "    def __init__(self, name):\n",
    "        Person.__init__(self, name, \"mgr\", pay=100000)\n",
    "    \n",
    "    def giveRaise(self, percent, bonus=0.10):\n",
    "        Person.giveRaise(self, percent + bonus)\n",
    "\n",
    "bob = Person('Bob Smith', 'dev', 100000)\n",
    "sue = Person('Sue Jones', 'dev', 100000)\n",
    "\n",
    "tom = Manager(name='Tom Doe') # here we are not providing job title and salary for tom, but it will automatically set to 'mgr' and 100000 respectively."
   ]
  },
  {
   "cell_type": "code",
   "execution_count": 33,
   "metadata": {},
   "outputs": [
    {
     "name": "stdout",
     "output_type": "stream",
     "text": [
      "[Person: Tom Doe 100000]\n"
     ]
    }
   ],
   "source": [
    "print(tom)"
   ]
  },
  {
   "cell_type": "code",
   "execution_count": 34,
   "metadata": {},
   "outputs": [
    {
     "name": "stdout",
     "output_type": "stream",
     "text": [
      "[Person: Tom Doe 120000]\n"
     ]
    }
   ],
   "source": [
    "tom.giveRaise(0.10)\n",
    "print(tom)"
   ]
  },
  {
   "cell_type": "markdown",
   "metadata": {},
   "source": [
    "## Other ways to combine:"
   ]
  },
  {
   "cell_type": "code",
   "execution_count": 36,
   "metadata": {},
   "outputs": [
    {
     "data": {
      "text/plain": [
       "[Person: Tom Doe 100000]"
      ]
     },
     "execution_count": 36,
     "metadata": {},
     "output_type": "execute_result"
    }
   ],
   "source": [
    "class Person:\n",
    "    def __init__(self, name, job=None, pay=0):\n",
    "        self.name = name\n",
    "        self.job = job\n",
    "        self.pay = pay\n",
    "        \n",
    "    def lastName(self):\n",
    "        return self.name.split()[-1]\n",
    "    \n",
    "    def giveRaise(self, percent):\n",
    "        self.pay = int(self.pay * (1 + percent))\n",
    "\n",
    "    def __repr__(self):\n",
    "        return \"[Person: %s %s]\" % (self.name, self.pay)\n",
    "    \n",
    "class Manager:\n",
    "    def __init__(self, name, pay):\n",
    "        self.person = Person(name, \"mgr\", pay) # Embed a person object\n",
    "    \n",
    "    def giveRaise(self, percent, bonus=0.10):\n",
    "        self.person.giveRaise(percent + bonus) # Intercept and delegate\n",
    "    \n",
    "    def __getattr__(self, attr):\n",
    "        return getattr(self.person, attr)\n",
    "    \n",
    "    def __repr__(self):\n",
    "        return str(self.person)\n",
    "    \n",
    "tom = Manager(name='Tom Doe', pay=100000)\n",
    "tom"
   ]
  },
  {
   "cell_type": "code",
   "execution_count": 51,
   "metadata": {},
   "outputs": [
    {
     "name": "stdout",
     "output_type": "stream",
     "text": [
      "[Person: Bob Smith 100000]\n",
      "[Person: Sue Jones 100000]\n"
     ]
    }
   ],
   "source": [
    "class Person:\n",
    "    def __init__(self, name, job=None, pay=0):\n",
    "        self.name = name\n",
    "        self.job = job\n",
    "        self.pay = pay\n",
    "        \n",
    "    def lastName(self):\n",
    "        return self.name.split()[-1]\n",
    "    \n",
    "    def giveRaise(self, percent):\n",
    "        self.pay = int(self.pay * (1 + percent))\n",
    "\n",
    "    def __repr__(self):\n",
    "        return \"[Person: %s %s]\" % (self.name, self.pay)\n",
    "    \n",
    "class Manager(Person):\n",
    "    def __init__(self, name, pay):\n",
    "        Person.__init__(self, name, \"mgr\", pay)\n",
    "    \n",
    "    def giveRaise(self, percent, bonus=0.10):\n",
    "        Person.giveRaise(self, percent + bonus)\n",
    "        \n",
    "class Department:\n",
    "    def __init__(self, *args):\n",
    "        self.members = list(args)\n",
    "    \n",
    "    def addMember(self, person):\n",
    "        self.members.append(person)\n",
    "        \n",
    "    def giveRaises(self, percent):\n",
    "        for person in self.members:\n",
    "            person.giveRaise(percent)\n",
    "    \n",
    "    def showAllPerson(self):\n",
    "        for person in self.members:\n",
    "            print(person)\n",
    "            \n",
    "bob = Person('Bob Smith', 'dev', 100000)\n",
    "sue = Person('Sue Jones', 'dev', 100000)\n",
    "tom = Manager('Tom Doe', 100000)\n",
    "\n",
    "development = Department(bob, sue)  # two person in department\n",
    "development.showAllPerson()"
   ]
  },
  {
   "cell_type": "code",
   "execution_count": 52,
   "metadata": {},
   "outputs": [
    {
     "name": "stdout",
     "output_type": "stream",
     "text": [
      "[Person: Bob Smith 100000]\n",
      "[Person: Sue Jones 100000]\n",
      "[Person: Tom Doe 100000]\n"
     ]
    }
   ],
   "source": [
    "development.addMember(tom) # add tom to the department\n",
    "development.showAllPerson()"
   ]
  },
  {
   "cell_type": "code",
   "execution_count": 53,
   "metadata": {},
   "outputs": [
    {
     "name": "stdout",
     "output_type": "stream",
     "text": [
      "[Person: Bob Smith 110000]\n",
      "[Person: Sue Jones 110000]\n",
      "[Person: Tom Doe 120000]\n"
     ]
    }
   ],
   "source": [
    "development.giveRaises(0.10) # give 10% raise to all members\n",
    "development.showAllPerson()\n",
    "\n",
    "# Person will get 10% raise and will have 110000 salary \n",
    "# manager will get 10% raise with 10% extra bonus and will have 120000 salary"
   ]
  },
  {
   "cell_type": "code",
   "execution_count": 56,
   "metadata": {},
   "outputs": [
    {
     "name": "stdout",
     "output_type": "stream",
     "text": [
      "<class '__main__.Person'>\n",
      "Person\n",
      "{'name': 'Bob Smith', 'job': 'dev', 'pay': 110000}\n",
      "(<class '__main__.Person'>,)\n",
      "(<class 'object'>,)\n"
     ]
    }
   ],
   "source": [
    "## Introspection toos for OOP:\n",
    "\n",
    "# dir() function: It returns a list of all the attributes of an object. It is used to see what is inside an object.\n",
    "# __dict__ attribute: It is a dictionary that maps attribute names (as strings) to their values.\n",
    "# __class__ attribute: It is a reference to the object's class.\n",
    "# __bases__ attribute: It is a tuple of the object's base classes.\n",
    "\n",
    "# example on our class above:\n",
    "print(bob.__class__)\n",
    "print(bob.__class__.__name__)\n",
    "print(bob.__dict__)\n",
    "print(Manager.__bases__)\n",
    "print(Person.__bases__)"
   ]
  },
  {
   "cell_type": "code",
   "execution_count": null,
   "metadata": {},
   "outputs": [],
   "source": []
  }
 ],
 "metadata": {
  "kernelspec": {
   "display_name": "Python 3",
   "language": "python",
   "name": "python3"
  },
  "language_info": {
   "codemirror_mode": {
    "name": "ipython",
    "version": 3
   },
   "file_extension": ".py",
   "mimetype": "text/x-python",
   "name": "python",
   "nbconvert_exporter": "python",
   "pygments_lexer": "ipython3",
   "version": "3.12.1"
  }
 },
 "nbformat": 4,
 "nbformat_minor": 2
}
