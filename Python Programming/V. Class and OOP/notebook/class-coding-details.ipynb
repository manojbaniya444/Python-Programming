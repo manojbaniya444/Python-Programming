{
 "cells": [
  {
   "cell_type": "markdown",
   "metadata": {},
   "source": [
    "## Class coding details\n"
   ]
  },
  {
   "cell_type": "code",
   "execution_count": 1,
   "metadata": {},
   "outputs": [],
   "source": [
    "## calling superclass constructors\n",
    "\n",
    "class Super:\n",
    "    def __init__(self, x):\n",
    "        # default code\n",
    "        self.x = x\n",
    "    \n",
    "class Sub(Super):\n",
    "    def __init__(self, x, y):\n",
    "        Super.__init__(self, x)\n",
    "        # custom code\n",
    "        \n",
    "I = Sub(1,2)"
   ]
  },
  {
   "cell_type": "code",
   "execution_count": 2,
   "metadata": {},
   "outputs": [
    {
     "name": "stdout",
     "output_type": "stream",
     "text": [
      "Starting sub method\n",
      "From super class method\n",
      "Ending sub method\n"
     ]
    }
   ],
   "source": [
    "## Inherited methid\n",
    "\n",
    "class Super:\n",
    "    def method(self):\n",
    "        print(\"From super class method\")\n",
    "        \n",
    "class Sub(Super):\n",
    "    def method(self):\n",
    "        print(\"Starting sub method\")\n",
    "        Super.method(self)\n",
    "        print(\"Ending sub method\")\n",
    "        \n",
    "x = Sub()\n",
    "x.method()"
   ]
  },
  {
   "cell_type": "code",
   "execution_count": 3,
   "metadata": {},
   "outputs": [
    {
     "name": "stdout",
     "output_type": "stream",
     "text": [
      "From super class method\n"
     ]
    }
   ],
   "source": [
    "x = Super()\n",
    "x.method()"
   ]
  },
  {
   "cell_type": "markdown",
   "metadata": {},
   "source": [
    "## for docstring\n",
    "```python\n",
    "import module\n",
    "help(module)\n",
    "\n",
    "module.__doc__\n",
    "```"
   ]
  },
  {
   "cell_type": "markdown",
   "metadata": {},
   "source": [
    "## Operator Overloading\n",
    "Operator Overloading simply means intercepting built in operations in a class's methods. Python automatically invokes our methods when instances of the class appear in built in operations and our methods return value becomes the result of the corresponding operation.\n",
    "\n",
    "- Operator overloading lets classes intercept normal Python operations.\n",
    "- Classes can overload all python expression operators.\n",
    "- Classes can also overload built in operations such as printing, function calls, attribute access, etc.\n",
    "- Overloading makes class instances act more like built in types.\n"
   ]
  },
  {
   "cell_type": "code",
   "execution_count": 4,
   "metadata": {},
   "outputs": [
    {
     "data": {
      "text/plain": [
       "3"
      ]
     },
     "execution_count": 4,
     "metadata": {},
     "output_type": "execute_result"
    }
   ],
   "source": [
    "## Constructors and Expressions: __init__ and __sub__\n",
    "## __init__ : intercept instance construction\n",
    "## __sub__ : intercept subtraction operation\n",
    "\n",
    "class Number:\n",
    "    def __init__(self, start):\n",
    "        self.data = start\n",
    "    def __sub__(self, other):\n",
    "        return Number(self.data - other)\n",
    "    \n",
    "x = Number(5)\n",
    "y = x - 2\n",
    "y.data"
   ]
  },
  {
   "cell_type": "markdown",
   "metadata": {},
   "source": [
    "## Common Operator Overloading\n",
    "\n",
    "```python\n",
    "__init__ # constructor : object creation time x = Class(args)\n",
    "__del__ # Destructor : Object reclamation of X\n",
    "__add__ # Operator +\n",
    "__or__ # Operator |\n",
    "__repr__ # printing\n",
    "__str__ # conversions\n",
    "__call__ # function calls\n",
    "__getattr__ # attribute fetch\n",
    "__setattr__ # attribute assignment\n",
    "__delattr__ # attribute deletion\n",
    "__getattribute__ # attribute fetch\n",
    "__getitem__ # Indexing, slicing and iteration\n",
    "__setitem__ # index and slice assignment\n",
    "__delitem__ # index and slice deletion\n",
    "__len__ # length\n",
    "__bool__ # boolean\n",
    "__lt__, __eq__,__le__,__ge__,__le__,__ne__ # comparisons\n",
    "__radd__ # right side operators\n",
    "__iter__, __next__ # iteration contexts\n",
    "__new__ # Creation"
   ]
  },
  {
   "cell_type": "code",
   "execution_count": 5,
   "metadata": {},
   "outputs": [
    {
     "data": {
      "text/plain": [
       "4"
      ]
     },
     "execution_count": 5,
     "metadata": {},
     "output_type": "execute_result"
    }
   ],
   "source": [
    "## Indexing and slicing\n",
    "\n",
    "class Indexer:\n",
    "    def __getitem__(self, index):\n",
    "        return index ** 2\n",
    "    \n",
    "x = Indexer()\n",
    "x[2]"
   ]
  },
  {
   "cell_type": "code",
   "execution_count": 6,
   "metadata": {},
   "outputs": [
    {
     "data": {
      "text/plain": [
       "'h'"
      ]
     },
     "execution_count": 6,
     "metadata": {},
     "output_type": "execute_result"
    }
   ],
   "source": [
    "class StepperIndex:\n",
    "    def __getitem__(self, i):\n",
    "        return self.list[i]\n",
    "\n",
    "x = StepperIndex()\n",
    "x.list=\"hello\"\n",
    "\n",
    "x[0]"
   ]
  },
  {
   "cell_type": "code",
   "execution_count": 9,
   "metadata": {},
   "outputs": [
    {
     "data": {
      "text/plain": [
       "90"
      ]
     },
     "execution_count": 9,
     "metadata": {},
     "output_type": "execute_result"
    }
   ],
   "source": [
    "class Empty:\n",
    "    def __getattr__(self, attrname):\n",
    "        if attrname == \"age\":\n",
    "            return 90\n",
    "        else:\n",
    "            raise AttributeError(attrname)\n",
    "        \n",
    "x = Empty()\n",
    "x.age\n",
    "# x.anything is attr error"
   ]
  },
  {
   "cell_type": "code",
   "execution_count": 16,
   "metadata": {},
   "outputs": [
    {
     "name": "stdout",
     "output_type": "stream",
     "text": [
      "Add 5 1\n",
      "radd 5 1\n",
      "Add 5 <__main__.RSA object at 0x000001EA4F9D1040>\n",
      "radd 5 5\n"
     ]
    },
    {
     "data": {
      "text/plain": [
       "10"
      ]
     },
     "execution_count": 16,
     "metadata": {},
     "output_type": "execute_result"
    }
   ],
   "source": [
    "## Right side addition\n",
    "\n",
    "class RSA:\n",
    "    def __init__(self, value):\n",
    "        self.data = value\n",
    "    def __add__(self, other):\n",
    "        print(\"Add\", self.data, other)\n",
    "        return self.data + other\n",
    "    def __radd__(self, other):\n",
    "        print(\"radd\", self.data, other)\n",
    "        return other + self.data\n",
    "    \n",
    "x = RSA(5)\n",
    "y = RSA(5)\n",
    "\n",
    "x + 1 # instance + non instance: 6\n",
    "\n",
    "1 + y # non instance + instance : 6\n",
    "\n",
    "x + y # instance + instance : 10"
   ]
  },
  {
   "cell_type": "code",
   "execution_count": 17,
   "metadata": {},
   "outputs": [
    {
     "name": "stdout",
     "output_type": "stream",
     "text": [
      "Called: (9, 8, 7) {}\n"
     ]
    }
   ],
   "source": [
    "## call: __call__ expression\n",
    "\n",
    "class Callee:\n",
    "    def __call__(self, *pargs, **kargs):\n",
    "        print(\"Called:\", pargs, kargs)\n",
    "        \n",
    "c = Callee()\n",
    "c(9,8,7)"
   ]
  },
  {
   "cell_type": "code",
   "execution_count": 21,
   "metadata": {},
   "outputs": [
    {
     "name": "stdout",
     "output_type": "stream",
     "text": [
      "Called: (1, 2) {'a': 9, 'b': 9}\n"
     ]
    }
   ],
   "source": [
    "c = Callee()\n",
    "c(1,2,a=9, b=9)"
   ]
  }
 ],
 "metadata": {
  "kernelspec": {
   "display_name": "Python 3",
   "language": "python",
   "name": "python3"
  },
  "language_info": {
   "codemirror_mode": {
    "name": "ipython",
    "version": 3
   },
   "file_extension": ".py",
   "mimetype": "text/x-python",
   "name": "python",
   "nbconvert_exporter": "python",
   "pygments_lexer": "ipython3",
   "version": "3.12.1"
  }
 },
 "nbformat": 4,
 "nbformat_minor": 2
}
