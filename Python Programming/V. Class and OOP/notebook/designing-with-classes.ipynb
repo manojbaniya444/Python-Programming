{
 "cells": [
  {
   "cell_type": "markdown",
   "metadata": {},
   "source": [
    "## Designing with class OOP\n",
    "How to use classes to model useful objects.\n",
    "Python OOP\n",
    "- Inheritance\n",
    "- Polymorphism\n",
    "- Encapsulation"
   ]
  },
  {
   "cell_type": "code",
   "execution_count": 4,
   "metadata": {},
   "outputs": [
    {
     "name": "stdout",
     "output_type": "stream",
     "text": [
      "<Employee: name=bob, salary=50000>\n",
      "bob Make pizza nice\n",
      "<Employee: name=bob, salary=60000.0>\n",
      "\n",
      "Employee something\n",
      "Chef Make food nice\n",
      "Server Interface with customer\n",
      "PizzaRobot Make pizza nice\n"
     ]
    }
   ],
   "source": [
    "## OOP and InheritanceL Is-a Relationship\n",
    "\n",
    "class Employee:\n",
    "    def __init__(self, name, salary=0):\n",
    "        self.name = name\n",
    "        self.salary = salary\n",
    "    \n",
    "    def giveRaise(self, percent):\n",
    "        self.salary = self.salary + (self.salary * percent)\n",
    "        \n",
    "    def work(self):\n",
    "        print(self.name, \"something\")\n",
    "        \n",
    "    def __repr__(self):\n",
    "        return \"<Employee: name=%s, salary=%s>\" % (self.name, self.salary)\n",
    "    \n",
    "class Chef(Employee):\n",
    "    def __init__(self, name):\n",
    "        Employee.__init__(self, name, 50000)\n",
    "        \n",
    "    def work(self):\n",
    "        print(self.name, \"Make food nice\")\n",
    "        \n",
    "class Server(Employee):\n",
    "    def __init__(self, name):\n",
    "        Employee.__init__(self, name, 40000)\n",
    "    \n",
    "    def work(self):\n",
    "        print(self.name, \"Interface with customer\")\n",
    "        \n",
    "class PizzaRobot(Chef):\n",
    "    def __init__(self, name):\n",
    "        Chef.__init__(self,name)\n",
    "        \n",
    "    def work(self):\n",
    "        print(self.name, \"Make pizza nice\")\n",
    "        \n",
    "bob = PizzaRobot('bob') # make a new robot bob\n",
    "print(bob)\n",
    "\n",
    "bob.work()\n",
    "bob.giveRaise(0.20)\n",
    "print(bob); print()\n",
    "\n",
    "for c in Employee, Chef, Server, PizzaRobot:\n",
    "    obj = c(c.__name__)\n",
    "    obj.work()"
   ]
  },
  {
   "cell_type": "code",
   "execution_count": 6,
   "metadata": {},
   "outputs": [
    {
     "name": "stdout",
     "output_type": "stream",
     "text": [
      "Homer order from <Employee: name=Pat, salary=40000>\n",
      "Bob Make pizza nice\n",
      "Oven bake\n",
      "Homer pays for item to <Employee: name=Pat, salary=40000>\n",
      "\n",
      "\n",
      "Shaggy order from <Employee: name=Pat, salary=40000>\n",
      "Bob Make pizza nice\n",
      "Oven bake\n",
      "Shaggy pays for item to <Employee: name=Pat, salary=40000>\n"
     ]
    }
   ],
   "source": [
    "## OOP and Composition: Has-a Relationship\n",
    "\n",
    "class Customer:\n",
    "    def __init__(self, name):\n",
    "        self.name = name\n",
    "    def order(self, server):\n",
    "        print(self.name, \"order from\", server)\n",
    "        \n",
    "    def pay(self, server):\n",
    "        print(self.name, \"pays for item to\", server)\n",
    "        \n",
    "class Oven:\n",
    "    def bake(self):\n",
    "        print(\"Oven bake\")\n",
    "        \n",
    "class PizzaShop:\n",
    "    def __init__(self):\n",
    "        self.server = Server(\"Pat\")\n",
    "        self.chef = PizzaRobot(\"Bob\")\n",
    "        self.oven = Oven()\n",
    "\n",
    "    def order(self, name):\n",
    "        customer = Customer(name)\n",
    "        customer.order(self.server)\n",
    "        self.chef.work()\n",
    "        self.oven.bake()\n",
    "        customer.pay(self.server)\n",
    "        \n",
    "scene = PizzaShop()\n",
    "scene.order(\"Homer\")\n",
    "print(\"\\n\")\n",
    "scene.order(\"Shaggy\")"
   ]
  },
  {
   "cell_type": "code",
   "execution_count": 11,
   "metadata": {},
   "outputs": [
    {
     "name": "stdout",
     "output_type": "stream",
     "text": [
      "88\n",
      "99\n"
     ]
    }
   ],
   "source": [
    "## Pseudo attribute\n",
    "\n",
    "class C1:\n",
    "    def meth1(self): self.x = 88\n",
    "    def meth2(self): print(self.x)\n",
    "    \n",
    "class C2:\n",
    "    def metha(self): self.x = 99\n",
    "    def methb(self): print(self.x)\n",
    "    \n",
    "class C3(C1, C2):\n",
    "    def __init__(self):\n",
    "        self.a = 1\n",
    "\n",
    "i = C3()\n",
    "i.meth1()\n",
    "i.meth2()\n",
    "\n",
    "i.metha()\n",
    "i.methb()"
   ]
  },
  {
   "cell_type": "code",
   "execution_count": 13,
   "metadata": {},
   "outputs": [
    {
     "name": "stdout",
     "output_type": "stream",
     "text": [
      "88\n",
      "99\n"
     ]
    }
   ],
   "source": [
    "class C1:\n",
    "    def meth1(self): self.__x = 88\n",
    "    def meth2(self): print(self.__x)\n",
    "    \n",
    "class C2:\n",
    "    def metha(self): self.__x = 99\n",
    "    def methb(self): print(self.__x)\n",
    "    \n",
    "class C3(C1, C2):\n",
    "    def __init__(self):\n",
    "        self.a = 1\n",
    "        \n",
    "i = C3()\n",
    "i.meth1()\n",
    "i.meth2()\n",
    "\n",
    "i.metha()\n",
    "i.methb()\n",
    "    "
   ]
  },
  {
   "cell_type": "markdown",
   "metadata": {},
   "source": [
    "## Design Related Topic\n",
    "- Factory pattern\n",
    "- Abstract superclass\n",
    "- Type subclass\n",
    "- Static and Class methods\n",
    "- Managed Attributes\n",
    "- Metaclasses"
   ]
  }
 ],
 "metadata": {
  "kernelspec": {
   "display_name": "Python 3",
   "language": "python",
   "name": "python3"
  },
  "language_info": {
   "codemirror_mode": {
    "name": "ipython",
    "version": 3
   },
   "file_extension": ".py",
   "mimetype": "text/x-python",
   "name": "python",
   "nbconvert_exporter": "python",
   "pygments_lexer": "ipython3",
   "version": "3.12.1"
  }
 },
 "nbformat": 4,
 "nbformat_minor": 2
}
