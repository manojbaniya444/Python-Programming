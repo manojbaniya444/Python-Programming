{
 "cells": [
  {
   "cell_type": "code",
   "execution_count": 1,
   "metadata": {},
   "outputs": [],
   "source": [
    "import requests"
   ]
  },
  {
   "cell_type": "code",
   "execution_count": 2,
   "metadata": {},
   "outputs": [
    {
     "name": "stdout",
     "output_type": "stream",
     "text": [
      "<Response [200]>\n"
     ]
    }
   ],
   "source": [
    "# making get request \n",
    "# requests.get(url, params={key: value}, args)\n",
    "r = requests.get(\"http://api.github.com/events\")\n",
    "print(r)"
   ]
  },
  {
   "cell_type": "code",
   "execution_count": 3,
   "metadata": {},
   "outputs": [
    {
     "data": {
      "text/plain": [
       "<Response [200]>"
      ]
     },
     "execution_count": 3,
     "metadata": {},
     "output_type": "execute_result"
    }
   ],
   "source": [
    "# making post request\n",
    "url = \"http://httpbin.org/post\"\n",
    "data = {\"key1\": \"value1\"}\n",
    "\n",
    "r = requests.post(url, data=data)\n",
    "\n",
    "r"
   ]
  },
  {
   "cell_type": "markdown",
   "metadata": {},
   "source": [
    "## Query vs Parameter\n",
    "Request parameters are used to send data to the server through URL path. `http://localhost:8000/api/users/123`. Here 123 is request parameter.\n",
    "\n",
    "```javascript\n",
    "app.get(\"api/users/:id\", (req, res) => {\n",
    "    const userId = req.params.id // 123\n",
    "})\n",
    "```\n",
    "\n",
    "Query parameters are used to send data to the server through the URL query string. `http://localhost:8000/api/users?id=123`. Here id is the query parameter key and 123 is value.\n",
    "\n",
    "```javascript\n",
    "app.get(\"api/users\", (req, res) => {\n",
    "    const userId = req.query.id // 123\n",
    "})"
   ]
  },
  {
   "cell_type": "code",
   "execution_count": 4,
   "metadata": {},
   "outputs": [
    {
     "data": {
      "text/plain": [
       "<Response [200]>"
      ]
     },
     "execution_count": 4,
     "metadata": {},
     "output_type": "execute_result"
    }
   ],
   "source": [
    "# parameters (/get/:id) (/get/user?id=123&gender=M)\n",
    "url = \"http://httpbin.org/get\"\n",
    "payload = {\"user\": \"123\", \"gender\" : \"M\"}\n",
    "\n",
    "r = requests.get(url, params=payload)\n",
    "\n",
    "r"
   ]
  },
  {
   "cell_type": "code",
   "execution_count": 5,
   "metadata": {},
   "outputs": [
    {
     "name": "stdout",
     "output_type": "stream",
     "text": [
      "http://httpbin.org/get?user=123&gender=M\n"
     ]
    }
   ],
   "source": [
    "print(r.url)"
   ]
  },
  {
   "cell_type": "code",
   "execution_count": 6,
   "metadata": {},
   "outputs": [],
   "source": [
    "# response content\n",
    "import requests\n",
    "\n",
    "r = requests.get(\"https://api.github.com/events\")\n",
    "# r.text"
   ]
  },
  {
   "cell_type": "code",
   "execution_count": 7,
   "metadata": {},
   "outputs": [
    {
     "name": "stdout",
     "output_type": "stream",
     "text": [
      "Encoding is: utf-8\n",
      "Changing the encoding\n",
      "Encoding is: ISO-8859-1\n",
      "Binary data: b'[{\"id\":\"44277243140\",\"type\":\"PushEvent\",\"actor\":{\"id\":41898282,\"login\":\"github-actions[bot]\",\"display_login\":\"github-actions\",\"gravatar_id\":\"\",\"url\":\"https://api.github.com/users/github-actions[bot]\",\"avatar_url\":\"https://avatars.githubusercontent.com/u/41898282?\"},\"repo\":{\"id\":865555692,\"name\":\"heytrgithub/degisiklik-yapan-sistem-4-2\",\"url\":\"https://api.github.com/repos/heytrgithub/degisiklik-yapan-sistem-4-2\"},\"payload\":{\"repository_id\":865555692,\"push_id\":21442816574,\"size\":1,\"distinct_size\":1,\"ref\":\"refs/heads/main\",\"head\":\"1ecf688b0c40a431daa38d4893b05a1965995035\",\"before\":\"6676e601c13de05a8ad7387a6895666ffe78793f\",\"commits\":[{\"sha\":\"1ecf688b0c40a431daa38d4893b05a1965995035\",\"author\":{\"email\":\"heytrgithub@users.noreply.github.com\",\"name\":\"heytrgithub\"},\"message\":\"[\\xe2\\x9e\\x95] G\\xc3\\xbcncelleme\",\"distinct\":true,\"url\":\"https://api.github.com/repos/heytrgithub/degisiklik-yapan-sistem-4-2/commits/1ecf688b0c40a431daa38d4893b05a1965995035\"}]},\"public\":true,\"created_at\":\"2024-11-28T08:24:55Z\"},{\"id\":\"44277243142\",\"type\":\"ReleaseEvent\",\"actor\":{\"id\":9370151,\"login\":\"kamilsa\",\"display_login\":\"kamilsa\",\"gravatar_id\":\"\",\"url\":\"https://api.github.com/users/kamilsa\",\"avatar_url\":\"https://avatars.githubusercontent.com/u/9370151?\"},\"repo\":{\"id\":120749456,\"name\":\"qdrvm/hunter-binary-cache\",\"url\":\"https://api.github.com/repos/qdrvm/hunter-binary-cache\"},\"payload\":{\"action\":\"published\",\"release\":{\"url\":\"https://api.github.com/repos/qdrvm/hunter-binary-cache/releases/187973413\",\"assets_url\":\"https://api.github.com/repos/qdrvm/hunter-binary-cache/releases/187973413/assets\",\"upload_url\":\"https://uploads.github.com/repos/qdrvm/hunter-binary-cache/releases/187973413/assets{?name,label}\",\"html_url\":\"https://github.com/qdrvm/hunter-binary-cache/releases/tag/cache-1b6f9b9\",\"id\":187973413,\"author\":{\"login\":\"kamilsa\",\"id\":9370151,\"node_id\":\"MDQ6VXNlcjkzNzAxNTE=\",\"avatar_url\":\"https://avatars.githubusercontent.com/u/9370151?v=4\",\"gravatar_id\":\"\",\"url\":\"https://api.github.com/users/kamilsa\",\"html_url\":\"https://github.com/kamilsa\",\"followers_url\":\"https://api.github.com/users/kamilsa/followers\",\"following_url\":\"https://api.github.com/users/kamilsa/following{/other_user}\",\"gists_url\":\"https://api.github.com/users/kamilsa/gists{/gist_id}\",\"starred_url\":\"https://api.github.com/users/kamilsa/starred{/owner}{/repo}\",\"subscriptions_url\":\"https://api.github.com/users/kamilsa/subscriptions\",\"organizations_url\":\"https://api.github.com/users/kamilsa/orgs\",\"repos_url\":\"https://api.github.com/users/kamilsa/repos\",\"events_url\":\"https://api.github.com/users/kamilsa/events{/privacy}\",\"received_events_url\":\"https://api.github.com/users/kamilsa/received_events\",\"type\":\"User\",\"user_view_type\":\"public\",\"site_admin\":false},\"node_id\":\"RE_kwDOBzJ9kM4LND8l\",\"tag_name\":\"cache-1b6f9b9\",\"target_commitish\":\"master\",\"name\":null,\"draft\":false,\"prerelease\":false,\"created_at\":\"2024-11-28T07:07:46Z\",\"published_at\":\"2024-11-28T08:24:54Z\",\"assets\":[],\"tarball_url\":\"https://api.github.com/repos/qdrvm/hunter-binary-cache/tarball/cache-1b6f9b9\",\"zipball_url\":\"https://api.github.com/repos/qdrvm/hunter-binary-cache/zipball/cache-1b6f9b9\",\"body\":null,\"short_description_html\":\"\",\"is_short_description_html_truncated\":false}},\"public\":true,\"created_at\":\"2024-11-28T08:24:55Z\",\"org\":{\"id\":142002356,\"login\":\"qdrvm\",\"gravatar_id\":\"\",\"url\":\"https://api.github.com/orgs/qdrvm\",\"avatar_url\":\"https://avatars.githubusercontent.com/u/142002356?\"}},{\"id\":\"44277243120\",\"type\":\"PushEvent\",\"actor\":{\"id\":178544133,\"login\":\"Sindy04\",\"display_login\":\"Sindy04\",\"gravatar_id\":\"\",\"url\":\"https://api.github.com/users/Sindy04\",\"avatar_url\":\"https://avatars.githubusercontent.com/u/178544133?\"},\"repo\":{\"id\":880715383,\"name\":\"Sindy04/Alx_DjangoLearnLab\",\"url\":\"https://api.github.com/repos/Sindy04/Alx_DjangoLearnLab\"},\"payload\":{\"repository_id\":880715383,\"push_id\":21442816591,\"size\":1,\"distinct_size\":1,\"ref\":\"refs/heads/main\",\"head\":\"db583fad4f48f5d330b267fd16fdd7706abae782\",\"before\":\"305361189903478ed883aba47358ebf300712c7a\",\"commits\":[{\"sha\":\"db583fad4f48f5d330b267fd16fdd7706abae782\",\"author\":{\"email\":\"s.ndlovu@lab.clicklearning.org\",\"name\":\"Sindy04\"},\"message\":\"Create urls.py\",\"distinct\":true,\"url\":\"https://api.github.com/repos/Sindy04/Alx_DjangoLearnLab/commits/db583fad4f48f5d330b267fd16fdd7706abae782\"}]},\"public\":true,\"created_at\":\"2024-11-28T08:24:55Z\"},{\"id\":\"44277243135\",\"type\":\"PushEvent\",\"actor\":{\"id\":21143991,\"login\":\"djmurphy32\",\"display_login\":\"djmurphy32\",\"gravatar_id\":\"\",\"url\":\"https://api.github.com/users/djmurphy32\",\"avatar_url\":\"https://avatars.githubusercontent.com/u/21143991?\"},\"repo\":{\"id\":197915739,\"name\":\"djmurphy32/peter-smith\",\"url\":\"https://api.github.com/repos/djmurphy32/peter-smith\"},\"payload\":{\"repository_id\":197915739,\"push_id\":21442816554,\"size\":1,\"distinct_size\":1,\"ref\":\"refs/heads/main\",\"head\":\"e629ff9457479f7c3ef85a6831c6a98714854438\",\"before\":\"a16206ab06ce270a75bde3116bb939ad6fd15de2\",\"commits\":[{\"sha\":\"e629ff9457479f7c3ef85a6831c6a98714854438\",\"author\":{\"email\":\"danjmurphy92@gmail.com\",\"name\":\"Danny Murphy\"},\"message\":\"setting image dimensions (#206)\",\"distinct\":true,\"url\":\"https://api.github.com/repos/djmurphy32/peter-smith/commits/e629ff9457479f7c3ef85a6831c6a98714854438\"}]},\"public\":true,\"created_at\":\"2024-11-28T08:24:55Z\"},{\"id\":\"44277243132\",\"type\":\"PushEvent\",\"actor\":{\"id\":128939170,\"login\":\"CarteSD\",\"display_login\":\"CarteSD\",\"gravatar_id\":\"\",\"url\":\"https://api.github.com/users/CarteSD\",\"avatar_url\":\"https://avatars.githubusercontent.com/u/128939170?\"},\"repo\":{\"id\":852235504,\"name\":\"ValbionGroup/Comus-Party\",\"url\":\"https://api.github.com/repos/ValbionGroup/Comus-Party\"},\"payload\":{\"repository_id\":852235504,\"push_id\":21442816551,\"size\":1,\"distinct_size\":1,\"ref\":\"refs/heads/CP-71-Verification-et-envoi-au-SIB\",\"head\":\"6e242faa74c455194b53d1fca1c8dfe7e000cd7d\",\"before\":\"ef161d08d90bc1ad3ac1610a3add4a9f7227aa21\",\"commits\":[{\"sha\":\"6e242faa74c455194b53d1fca1c8dfe7e000cd7d\",\"author\":{\"email\":\"edesessard@iutbayonne.univ-pau.fr\",\"name\":\"Est\\xc3\\xa9ban DESESSARD\"},\"message\":\":fire: Suppression d\\'un commentaire\",\"distinct\":true,\"url\":\"https://api.github.com/repos/ValbionGroup/Comus-Party/commits/6e242faa74c455194b53d1fca1c8dfe7e000cd7d\"}]},\"public\":true,\"created_at\":\"2024-11-28T08:24:55Z\",\"org\":{\"id\":39492014,\"login\":\"ValbionGroup\",\"gravatar_id\":\"\",\"url\":\"https://api.github.com/orgs/ValbionGroup\",\"avatar_url\":\"https://avatars.githubusercontent.com/u/39492014?\"}},{\"id\":\"44277243115\",\"type\":\"PushEvent\",\"actor\":{\"id\":81906078,\"login\":\"choisunmi00\",\"display_login\":\"choisunmi00\",\"gravatar_id\":\"\",\"url\":\"https://api.github.com/users/choisunmi00\",\"avatar_url\":\"https://avatars.githubusercontent.com/u/81906078?\"},\"repo\":{\"id\":854405166,\"name\":\"choisunmi00/choisunmi00.github.io\",\"url\":\"https://api.github.com/repos/choisunmi00/choisunmi00.github.io\"},\"payload\":{\"repository_id\":854405166,\"push_id\":21442816535,\"size\":1,\"distinct_size\":1,\"ref\":\"refs/heads/gh-pages\",\"head\":\"3365f74f444b69a10a0fd7ea029556ad85d0c532\",\"before\":\"086611f321ab01210d4ad42b2df22cf0465d5f7f\",\"commits\":[{\"sha\":\"3365f74f444b69a10a0fd7ea029556ad85d0c532\",\"author\":{\"email\":\"keunangyung01@naver.com\",\"name\":\"choisunmi00\"},\"message\":\"head\",\"distinct\":true,\"url\":\"https://api.github.com/repos/choisunmi00/choisunmi00.github.io/commits/3365f74f444b69a10a0fd7ea029556ad85d0c532\"}]},\"public\":true,\"created_at\":\"2024-11-28T08:24:55Z\"},{\"id\":\"44277243111\",\"type\":\"PushEvent\",\"actor\":{\"id\":41898282,\"login\":\"github-actions[bot]\",\"display_login\":\"github-actions\",\"gravatar_id\":\"\",\"url\":\"https://api.github.com/users/github-actions[bot]\",\"avatar_url\":\"https://avatars.githubusercontent.com/u/41898282?\"},\"repo\":{\"id\":729698992,\"name\":\"50xxpamvda/freedome\",\"url\":\"https://api.github.com/repos/50xxpamvda/freedome\"},\"payload\":{\"repository_id\":729698992,\"push_id\":21442816565,\"size\":1,\"distinct_size\":1,\"ref\":\"refs/heads/main\",\"head\":\"0f9cdd0da510dfe6426eff0f37f1b4c9aee3801e\",\"before\":\"e14489ba7986deaf89493c60d11f04e263821806\",\"commits\":[{\"sha\":\"0f9cdd0da510dfe6426eff0f37f1b4c9aee3801e\",\"author\":{\"email\":\"pamvda@skiff.com\",\"name\":\"50xxpamvda\"},\"message\":\"a commit a day keeps your girlfriend away\",\"distinct\":true,\"url\":\"https://api.github.com/repos/50xxpamvda/freedome/commits/0f9cdd0da510dfe6426eff0f37f1b4c9aee3801e\"}]},\"public\":true,\"created_at\":\"2024-11-28T08:24:55Z\"},{\"id\":\"44277243131\",\"type\":\"PushEvent\",\"actor\":{\"id\":40918737,\"login\":\"donaldsouza\",\"display_login\":\"donaldsouza\",\"gravatar_id\":\"\",\"url\":\"https://api.github.com/users/donaldsouza\",\"avatar_url\":\"https://avatars.githubusercontent.com/u/40918737?\"},\"repo\":{\"id\":240272766,\"name\":\"donaldsouza/current-date\",\"url\":\"https://api.github.com/repos/donaldsouza/current-date\"},\"payload\":{\"repository_id\":240272766,\"push_id\":21442816545,\"size\":1,\"distinct_size\":1,\"ref\":\"refs/heads/master\",\"head\":\"e524a5fdd2870180d14fa1590733bfe3ad4bca05\",\"before\":\"a63dc28df2e741ce0b0770ae87aef45db2745b9c\",\"commits\":[{\"sha\":\"e524a5fdd2870180d14fa1590733bfe3ad4bca05\",\"author\":{\"email\":\"40918737+donaldsouza@users.noreply.github.com\",\"name\":\"donaldsouza\"},\"message\":\"message_2024-11-28T08:24:53\",\"distinct\":true,\"url\":\"https://api.github.com/repos/donaldsouza/current-date/commits/e524a5fdd2870180d14fa1590733bfe3ad4bca05\"}]},\"public\":true,\"created_at\":\"2024-11-28T08:24:55Z\"},{\"id\":\"44277243117\",\"type\":\"PushEvent\",\"actor\":{\"id\":29139614,\"login\":\"renovate[bot]\",\"display_login\":\"renovate\",\"gravatar_id\":\"\",\"url\":\"https://api.github.com/users/renovate[bot]\",\"avatar_url\":\"https://avatars.githubusercontent.com/u/29139614?\"},\"repo\":{\"id\":471664328,\"name\":\"5ouma/dotfiles\",\"url\":\"https://api.github.com/repos/5ouma/dotfiles\"},\"payload\":{\"repository_id\":471664328,\"push_id\":21442816559,\"size\":1,\"distinct_size\":1,\"ref\":\"refs/heads/main\",\"head\":\"bb56d682e288df0e1ed1fcdce17e9537b130f3ec\",\"before\":\"6de1f11f804356bbe99e51d7c46ff8d6c4a12a48\",\"commits\":[{\"sha\":\"bb56d682e288df0e1ed1fcdce17e9537b130f3ec\",\"author\":{\"email\":\"29139614+renovate[bot]@users.noreply.github.com\",\"name\":\"renovate[bot]\"},\"message\":\"chore(deps): update pre-commit hook renovatebot/pre-commit-hooks to v39.31.4 (#95)\\\\n\\\\nCo-authored-by: renovate[bot] <29139614+renovate[bot]@users.noreply.github.com>\",\"distinct\":true,\"url\":\"https://api.github.com/repos/5ouma/dotfiles/commits/bb56d682e288df0e1ed1fcdce17e9537b130f3ec\"}]},\"public\":true,\"created_at\":\"2024-11-28T08:24:55Z\"},{\"id\":\"44277243113\",\"type\":\"PushEvent\",\"actor\":{\"id\":17269140,\"login\":\"TyeBryant\",\"display_login\":\"TyeBryant\",\"gravatar_id\":\"\",\"url\":\"https://api.github.com/users/TyeBryant\",\"avatar_url\":\"https://avatars.githubusercontent.com/u/17269140?\"},\"repo\":{\"id\":881329624,\"name\":\"njramage/SilenceTheSnitch\",\"url\":\"https://api.github.com/repos/njramage/SilenceTheSnitch\"},\"payload\":{\"repository_id\":881329624,\"push_id\":21442816575,\"size\":3,\"distinct_size\":1,\"ref\":\"refs/heads/main\",\"head\":\"accb0f0a668e143ae69dc8f57d3624971ab6ed39\",\"before\":\"04d856716f85bf563eb7db8dee01de2c017943ca\",\"commits\":[{\"sha\":\"1453d8bbdc61b507584b84c05eeb653172e99c50\",\"author\":{\"email\":\"tye@tyekbryant.com\",\"name\":\"Tye Bryant\"},\"message\":\"Added a sneaky panel for hiding things\",\"distinct\":false,\"url\":\"https://api.github.com/repos/njramage/SilenceTheSnitch/commits/1453d8bbdc61b507584b84c05eeb653172e99c50\"},{\"sha\":\"509925cf13fba5dd76af19d1544a4b94791809ca\",\"author\":{\"email\":\"tye@tyekbryant.com\",\"name\":\"Tye Bryant\"},\"message\":\"Fixed the panel being a raycast target\",\"distinct\":false,\"url\":\"https://api.github.com/repos/njramage/SilenceTheSnitch/commits/509925cf13fba5dd76af19d1544a4b94791809ca\"},{\"sha\":\"accb0f0a668e143ae69dc8f57d3624971ab6ed39\",\"author\":{\"email\":\"tye@tyekbryant.com\",\"name\":\"TyeBryant\"},\"message\":\"Merge pull request #70 from njramage/52-Block-out-the-suspect-background-so-cards-can\\'t-be-seen-behind-it\\\\n\\\\n52 Block out the suspect background so cards can\\'t be seen behind it\",\"distinct\":true,\"url\":\"https://api.github.com/repos/njramage/SilenceTheSnitch/commits/accb0f0a668e143ae69dc8f57d3624971ab6ed39\"}]},\"public\":true,\"created_at\":\"2024-11-28T08:24:55Z\"},{\"id\":\"44277243093\",\"type\":\"PushEvent\",\"actor\":{\"id\":78852789,\"login\":\"andresmgl\",\"display_login\":\"andresmgl\",\"gravatar_id\":\"\",\"url\":\"https://api.github.com/users/andresmgl\",\"avatar_url\":\"https://avatars.githubusercontent.com/u/78852789?\"},\"repo\":{\"id\":895445841,\"name\":\"andresmgl/PHPePub\",\"url\":\"https://api.github.com/repos/andresmgl/PHPePub\"},\"payload\":{\"repository_id\":895445841,\"push_id\":21442816563,\"size\":1,\"distinct_size\":1,\"ref\":\"refs/heads/patch-2\",\"head\":\"157a0da939ae03503e8020116af6b307fe116686\",\"before\":\"ccb501e566358ac19a9fedb6eb8bf96665823452\",\"commits\":[{\"sha\":\"157a0da939ae03503e8020116af6b307fe116686\",\"author\":{\"email\":\"78852789+andresmgl@users.noreply.github.com\",\"name\":\"andresmgl\"},\"message\":\"Update Metadata.php\\\\n\\\\nPHP compatibility bug fixes\",\"distinct\":true,\"url\":\"https://api.github.com/repos/andresmgl/PHPePub/commits/157a0da939ae03503e8020116af6b307fe116686\"}]},\"public\":true,\"created_at\":\"2024-11-28T08:24:55Z\"},{\"id\":\"44277243097\",\"type\":\"CreateEvent\",\"actor\":{\"id\":179822128,\"login\":\"vasildachev-uxify\",\"display_login\":\"vasildachev-uxify\",\"gravatar_id\":\"\",\"url\":\"https://api.github.com/users/vasildachev-uxify\",\"avatar_url\":\"https://avatars.githubusercontent.com/u/179822128?\"},\"repo\":{\"id\":895448338,\"name\":\"vasildachev-uxify/testerino\",\"url\":\"https://api.github.com/repos/vasildachev-uxify/testerino\"},\"payload\":{\"ref\":null,\"ref_type\":\"repository\",\"master_branch\":\"main\",\"description\":null,\"pusher_type\":\"user\"},\"public\":true,\"created_at\":\"2024-11-28T08:24:55Z\"},{\"id\":\"44277243084\",\"type\":\"WatchEvent\",\"actor\":{\"id\":57937569,\"login\":\"monarchzz\",\"display_login\":\"monarchzz\",\"gravatar_id\":\"\",\"url\":\"https://api.github.com/users/monarchzz\",\"avatar_url\":\"https://avatars.githubusercontent.com/u/57937569?\"},\"repo\":{\"id\":572273596,\"name\":\"SimonCropp/Delta\",\"url\":\"https://api.github.com/repos/SimonCropp/Delta\"},\"payload\":{\"action\":\"started\"},\"public\":true,\"created_at\":\"2024-11-28T08:24:55Z\"},{\"id\":\"44277243085\",\"type\":\"DeleteEvent\",\"actor\":{\"id\":29139614,\"login\":\"renovate[bot]\",\"display_login\":\"renovate\",\"gravatar_id\":\"\",\"url\":\"https://api.github.com/users/renovate[bot]\",\"avatar_url\":\"https://avatars.githubusercontent.com/u/29139614?\"},\"repo\":{\"id\":471664328,\"name\":\"5ouma/dotfiles\",\"url\":\"https://api.github.com/repos/5ouma/dotfiles\"},\"payload\":{\"ref\":\"renovate/renovatebot-pre-commit-hooks-39.x\",\"ref_type\":\"branch\",\"pusher_type\":\"user\"},\"public\":true,\"created_at\":\"2024-11-28T08:24:55Z\"},{\"id\":\"44277243075\",\"type\":\"WatchEvent\",\"actor\":{\"id\":89101090,\"login\":\"SunG206\",\"display_login\":\"SunG206\",\"gravatar_id\":\"\",\"url\":\"https://api.github.com/users/SunG206\",\"avatar_url\":\"https://avatars.githubusercontent.com/u/89101090?\"},\"repo\":{\"id\":895447929,\"name\":\"SunG206/supermemory\",\"url\":\"https://api.github.com/repos/SunG206/supermemory\"},\"payload\":{\"action\":\"started\"},\"public\":true,\"created_at\":\"2024-11-28T08:24:55Z\"},{\"id\":\"44277243038\",\"type\":\"PushEvent\",\"actor\":{\"id\":125827207,\"login\":\"Damirinho9\",\"display_login\":\"Damirinho9\",\"gravatar_id\":\"\",\"url\":\"https://api.github.com/users/Damirinho9\",\"avatar_url\":\"https://avatars.githubusercontent.com/u/125827207?\"},\"repo\":{\"id\":846101314,\"name\":\"Damirinho9/New-repository\",\"url\":\"https://api.github.com/repos/Damirinho9/New-repository\"},\"payload\":{\"repository_id\":846101314,\"push_id\":21442816483,\"size\":1,\"distinct_size\":1,\"ref\":\"refs/heads/main\",\"head\":\"60e19889e02940fa8b5597ebe69bbb84d7b7e947\",\"before\":\"46c6023d27b638c54cae3f7e13b44411924dfe6c\",\"commits\":[{\"sha\":\"60e19889e02940fa8b5597ebe69bbb84d7b7e947\",\"author\":{\"email\":\"125827207+Damirinho9@users.noreply.github.com\",\"name\":\"Damirinho9\"},\"message\":\"Updated CSV file\",\"distinct\":true,\"url\":\"https://api.github.com/repos/Damirinho9/New-repository/commits/60e19889e02940fa8b5597ebe69bbb84d7b7e947\"}]},\"public\":true,\"created_at\":\"2024-11-28T08:24:55Z\"},{\"id\":\"44277243052\",\"type\":\"PullRequestEvent\",\"actor\":{\"id\":171402389,\"login\":\"tiyash-dutta24-git\",\"display_login\":\"tiyash-dutta24-git\",\"gravatar_id\":\"\",\"url\":\"https://api.github.com/users/tiyash-dutta24-git\",\"avatar_url\":\"https://avatars.githubusercontent.com/u/171402389?\"},\"repo\":{\"id\":895348667,\"name\":\"tiyash-dutta24-git/Sem4\",\"url\":\"https://api.github.com/repos/tiyash-dutta24-git/Sem4\"},\"payload\":{\"action\":\"opened\",\"number\":3,\"pull_request\":{\"url\":\"https://api.github.com/repos/tiyash-dutta24-git/Sem4/pulls/3\",\"id\":2205175686,\"node_id\":\"PR_kwDONV3vu86DcE-G\",\"html_url\":\"https://github.com/tiyash-dutta24-git/Sem4/pull/3\",\"diff_url\":\"https://github.com/tiyash-dutta24-git/Sem4/pull/3.diff\",\"patch_url\":\"https://github.com/tiyash-dutta24-git/Sem4/pull/3.patch\",\"issue_url\":\"https://api.github.com/repos/tiyash-dutta24-git/Sem4/issues/3\",\"number\":3,\"state\":\"open\",\"locked\":false,\"title\":\"Update README.md\",\"user\":{\"login\":\"tiyash-dutta24-git\",\"id\":171402389,\"node_id\":\"U_kgDOCjdklQ\",\"avatar_url\":\"https://avatars.githubusercontent.com/u/171402389?v=4\",\"gravatar_id\":\"\",\"url\":\"https://api.github.com/users/tiyash-dutta24-git\",\"html_url\":\"https://github.com/tiyash-dutta24-git\",\"followers_url\":\"https://api.github.com/users/tiyash-dutta24-git/followers\",\"following_url\":\"https://api.github.com/users/tiyash-dutta24-git/following{/other_user}\",\"gists_url\":\"https://api.github.com/users/tiyash-dutta24-git/gists{/gist_id}\",\"starred_url\":\"https://api.github.com/users/tiyash-dutta24-git/starred{/owner}{/repo}\",\"subscriptions_url\":\"https://api.github.com/users/tiyash-dutta24-git/subscriptions\",\"organizations_url\":\"https://api.github.com/users/tiyash-dutta24-git/orgs\",\"repos_url\":\"https://api.github.com/users/tiyash-dutta24-git/repos\",\"events_url\":\"https://api.github.com/users/tiyash-dutta24-git/events{/privacy}\",\"received_events_url\":\"https://api.github.com/users/tiyash-dutta24-git/received_events\",\"type\":\"User\",\"user_view_type\":\"public\",\"site_admin\":false},\"body\":null,\"created_at\":\"2024-11-28T08:24:53Z\",\"updated_at\":\"2024-11-28T08:24:53Z\",\"closed_at\":null,\"merged_at\":null,\"merge_commit_sha\":null,\"assignee\":null,\"assignees\":[],\"requested_reviewers\":[],\"requested_teams\":[],\"labels\":[],\"milestone\":null,\"draft\":false,\"commits_url\":\"https://api.github.com/repos/tiyash-dutta24-git/Sem4/pulls/3/commits\",\"review_comments_url\":\"https://api.github.com/repos/tiyash-dutta24-git/Sem4/pulls/3/comments\",\"review_comment_url\":\"https://api.github.com/repos/tiyash-dutta24-git/Sem4/pulls/comments{/number}\",\"comments_url\":\"https://api.github.com/repos/tiyash-dutta24-git/Sem4/issues/3/comments\",\"statuses_url\":\"https://api.github.com/repos/tiyash-dutta24-git/Sem4/statuses/566a0aad02a2e2492735309785829801c93b4d10\",\"head\":{\"label\":\"tiyash-dutta24-git:EN220-Ref-Books\",\"ref\":\"EN220-Ref-Books\",\"sha\":\"566a0aad02a2e2492735309785829801c93b4d10\",\"user\":{\"login\":\"tiyash-dutta24-git\",\"id\":171402389,\"node_id\":\"U_kgDOCjdklQ\",\"avatar_url\":\"https://avatars.githubusercontent.com/u/171402389?v=4\",\"gravatar_id\":\"\",\"url\":\"https://api.github.com/users/tiyash-dutta24-git\",\"html_url\":\"https://github.com/tiyash-dutta24-git\",\"followers_url\":\"https://api.github.com/users/tiyash-dutta24-git/followers\",\"following_url\":\"https://api.github.com/users/tiyash-dutta24-git/following{/other_user}\",\"gists_url\":\"https://api.github.com/users/tiyash-dutta24-git/gists{/gist_id}\",\"starred_url\":\"https://api.github.com/users/tiyash-dutta24-git/starred{/owner}{/repo}\",\"subscriptions_url\":\"https://api.github.com/users/tiyash-dutta24-git/subscriptions\",\"organizations_url\":\"https://api.github.com/users/tiyash-dutta24-git/orgs\",\"repos_url\":\"https://api.github.com/users/tiyash-dutta24-git/repos\",\"events_url\":\"https://api.github.com/users/tiyash-dutta24-git/events{/privacy}\",\"received_events_url\":\"https://api.github.com/users/tiyash-dutta24-git/received_events\",\"type\":\"User\",\"user_view_type\":\"public\",\"site_admin\":false},\"repo\":{\"id\":895348667,\"node_id\":\"R_kgDONV3vuw\",\"name\":\"Sem4\",\"full_name\":\"tiyash-dutta24-git/Sem4\",\"private\":false,\"owner\":{\"login\":\"tiyash-dutta24-git\",\"id\":171402389,\"node_id\":\"U_kgDOCjdklQ\",\"avatar_url\":\"https://avatars.githubusercontent.com/u/171402389?v=4\",\"gravatar_id\":\"\",\"url\":\"https://api.github.com/users/tiyash-dutta24-git\",\"html_url\":\"https://github.com/tiyash-dutta24-git\",\"followers_url\":\"https://api.github.com/users/tiyash-dutta24-git/followers\",\"following_url\":\"https://api.github.com/users/tiyash-dutta24-git/following{/other_user}\",\"gists_url\":\"https://api.github.com/users/tiyash-dutta24-git/gists{/gist_id}\",\"starred_url\":\"https://api.github.com/users/tiyash-dutta24-git/starred{/owner}{/repo}\",\"subscriptions_url\":\"https://api.github.com/users/tiyash-dutta24-git/subscriptions\",\"organizations_url\":\"https://api.github.com/users/tiyash-dutta24-git/orgs\",\"repos_url\":\"https://api.github.com/users/tiyash-dutta24-git/repos\",\"events_url\":\"https://api.github.com/users/tiyash-dutta24-git/events{/privacy}\",\"received_events_url\":\"https://api.github.com/users/tiyash-dutta24-git/received_events\",\"type\":\"User\",\"user_view_type\":\"public\",\"site_admin\":false},\"html_url\":\"https://github.com/tiyash-dutta24-git/Sem4\",\"description\":null,\"fork\":false,\"url\":\"https://api.github.com/repos/tiyash-dutta24-git/Sem4\",\"forks_url\":\"https://api.github.com/repos/tiyash-dutta24-git/Sem4/forks\",\"keys_url\":\"https://api.github.com/repos/tiyash-dutta24-git/Sem4/keys{/key_id}\",\"collaborators_url\":\"https://api.github.com/repos/tiyash-dutta24-git/Sem4/collaborators{/collaborator}\",\"teams_url\":\"https://api.github.com/repos/tiyash-dutta24-git/Sem4/teams\",\"hooks_url\":\"https://api.github.com/repos/tiyash-dutta24-git/Sem4/hooks\",\"issue_events_url\":\"https://api.github.com/repos/tiyash-dutta24-git/Sem4/issues/events{/number}\",\"events_url\":\"https://api.github.com/repos/tiyash-dutta24-git/Sem4/events\",\"assignees_url\":\"https://api.github.com/repos/tiyash-dutta24-git/Sem4/assignees{/user}\",\"branches_url\":\"https://api.github.com/repos/tiyash-dutta24-git/Sem4/branches{/branch}\",\"tags_url\":\"https://api.github.com/repos/tiyash-dutta24-git/Sem4/tags\",\"blobs_url\":\"https://api.github.com/repos/tiyash-dutta24-git/Sem4/git/blobs{/sha}\",\"git_tags_url\":\"https://api.github.com/repos/tiyash-dutta24-git/Sem4/git/tags{/sha}\",\"git_refs_url\":\"https://api.github.com/repos/tiyash-dutta24-git/Sem4/git/refs{/sha}\",\"trees_url\":\"https://api.github.com/repos/tiyash-dutta24-git/Sem4/git/trees{/sha}\",\"statuses_url\":\"https://api.github.com/repos/tiyash-dutta24-git/Sem4/statuses/{sha}\",\"languages_url\":\"https://api.github.com/repos/tiyash-dutta24-git/Sem4/languages\",\"stargazers_url\":\"https://api.github.com/repos/tiyash-dutta24-git/Sem4/stargazers\",\"contributors_url\":\"https://api.github.com/repos/tiyash-dutta24-git/Sem4/contributors\",\"subscribers_url\":\"https://api.github.com/repos/tiyash-dutta24-git/Sem4/subscribers\",\"subscription_url\":\"https://api.github.com/repos/tiyash-dutta24-git/Sem4/subscription\",\"commits_url\":\"https://api.github.com/repos/tiyash-dutta24-git/Sem4/commits{/sha}\",\"git_commits_url\":\"https://api.github.com/repos/tiyash-dutta24-git/Sem4/git/commits{/sha}\",\"comments_url\":\"https://api.github.com/repos/tiyash-dutta24-git/Sem4/comments{/number}\",\"issue_comment_url\":\"https://api.github.com/repos/tiyash-dutta24-git/Sem4/issues/comments{/number}\",\"contents_url\":\"https://api.github.com/repos/tiyash-dutta24-git/Sem4/contents/{+path}\",\"compare_url\":\"https://api.github.com/repos/tiyash-dutta24-git/Sem4/compare/{base}...{head}\",\"merges_url\":\"https://api.github.com/repos/tiyash-dutta24-git/Sem4/merges\",\"archive_url\":\"https://api.github.com/repos/tiyash-dutta24-git/Sem4/{archive_format}{/ref}\",\"downloads_url\":\"https://api.github.com/repos/tiyash-dutta24-git/Sem4/downloads\",\"issues_url\":\"https://api.github.com/repos/tiyash-dutta24-git/Sem4/issues{/number}\",\"pulls_url\":\"https://api.github.com/repos/tiyash-dutta24-git/Sem4/pulls{/number}\",\"milestones_url\":\"https://api.github.com/repos/tiyash-dutta24-git/Sem4/milestones{/number}\",\"notifications_url\":\"https://api.github.com/repos/tiyash-dutta24-git/Sem4/notifications{?since,all,participating}\",\"labels_url\":\"https://api.github.com/repos/tiyash-dutta24-git/Sem4/labels{/name}\",\"releases_url\":\"https://api.github.com/repos/tiyash-dutta24-git/Sem4/releases{/id}\",\"deployments_url\":\"https://api.github.com/repos/tiyash-dutta24-git/Sem4/deployments\",\"created_at\":\"2024-11-28T03:25:34Z\",\"updated_at\":\"2024-11-28T08:24:18Z\",\"pushed_at\":\"2024-11-28T08:24:44Z\",\"git_url\":\"git://github.com/tiyash-dutta24-git/Sem4.git\",\"ssh_url\":\"git@github.com:tiyash-dutta24-git/Sem4.git\",\"clone_url\":\"https://github.com/tiyash-dutta24-git/Sem4.git\",\"svn_url\":\"https://github.com/tiyash-dutta24-git/Sem4\",\"homepage\":null,\"size\":0,\"stargazers_count\":0,\"watchers_count\":0,\"language\":null,\"has_issues\":true,\"has_projects\":true,\"has_downloads\":true,\"has_wiki\":true,\"has_pages\":false,\"has_discussions\":false,\"forks_count\":0,\"mirror_url\":null,\"archived\":false,\"disabled\":false,\"open_issues_count\":3,\"license\":null,\"allow_forking\":true,\"is_template\":false,\"web_commit_signoff_required\":false,\"topics\":[],\"visibility\":\"public\",\"forks\":0,\"open_issues\":3,\"watchers\":0,\"default_branch\":\"main\"}},\"base\":{\"label\":\"tiyash-dutta24-git:main\",\"ref\":\"main\",\"sha\":\"c1079b61821c168283ac468b68e63488bebfc167\",\"user\":{\"login\":\"tiyash-dutta24-git\",\"id\":171402389,\"node_id\":\"U_kgDOCjdklQ\",\"avatar_url\":\"https://avatars.githubusercontent.com/u/171402389?v=4\",\"gravatar_id\":\"\",\"url\":\"https://api.github.com/users/tiyash-dutta24-git\",\"html_url\":\"https://github.com/tiyash-dutta24-git\",\"followers_url\":\"https://api.github.com/users/tiyash-dutta24-git/followers\",\"following_url\":\"https://api.github.com/users/tiyash-dutta24-git/following{/other_user}\",\"gists_url\":\"https://api.github.com/users/tiyash-dutta24-git/gists{/gist_id}\",\"starred_url\":\"https://api.github.com/users/tiyash-dutta24-git/starred{/owner}{/repo}\",\"subscriptions_url\":\"https://api.github.com/users/tiyash-dutta24-git/subscriptions\",\"organizations_url\":\"https://api.github.com/users/tiyash-dutta24-git/orgs\",\"repos_url\":\"https://api.github.com/users/tiyash-dutta24-git/repos\",\"events_url\":\"https://api.github.com/users/tiyash-dutta24-git/events{/privacy}\",\"received_events_url\":\"https://api.github.com/users/tiyash-dutta24-git/received_events\",\"type\":\"User\",\"user_view_type\":\"public\",\"site_admin\":false},\"repo\":{\"id\":895348667,\"node_id\":\"R_kgDONV3vuw\",\"name\":\"Sem4\",\"full_name\":\"tiyash-dutta24-git/Sem4\",\"private\":false,\"owner\":{\"login\":\"tiyash-dutta24-git\",\"id\":171402389,\"node_id\":\"U_kgDOCjdklQ\",\"avatar_url\":\"https://avatars.githubusercontent.com/u/171402389?v=4\",\"gravatar_id\":\"\",\"url\":\"https://api.github.com/users/tiyash-dutta24-git\",\"html_url\":\"https://github.com/tiyash-dutta24-git\",\"followers_url\":\"https://api.github.com/users/tiyash-dutta24-git/followers\",\"following_url\":\"https://api.github.com/users/tiyash-dutta24-git/following{/other_user}\",\"gists_url\":\"https://api.github.com/users/tiyash-dutta24-git/gists{/gist_id}\",\"starred_url\":\"https://api.github.com/users/tiyash-dutta24-git/starred{/owner}{/repo}\",\"subscriptions_url\":\"https://api.github.com/users/tiyash-dutta24-git/subscriptions\",\"organizations_url\":\"https://api.github.com/users/tiyash-dutta24-git/orgs\",\"repos_url\":\"https://api.github.com/users/tiyash-dutta24-git/repos\",\"events_url\":\"https://api.github.com/users/tiyash-dutta24-git/events{/privacy}\",\"received_events_url\":\"https://api.github.com/users/tiyash-dutta24-git/received_events\",\"type\":\"User\",\"user_view_type\":\"public\",\"site_admin\":false},\"html_url\":\"https://github.com/tiyash-dutta24-git/Sem4\",\"description\":null,\"fork\":false,\"url\":\"https://api.github.com/repos/tiyash-dutta24-git/Sem4\",\"forks_url\":\"https://api.github.com/repos/tiyash-dutta24-git/Sem4/forks\",\"keys_url\":\"https://api.github.com/repos/tiyash-dutta24-git/Sem4/keys{/key_id}\",\"collaborators_url\":\"https://api.github.com/repos/tiyash-dutta24-git/Sem4/collaborators{/collaborator}\",\"teams_url\":\"https://api.github.com/repos/tiyash-dutta24-git/Sem4/teams\",\"hooks_url\":\"https://api.github.com/repos/tiyash-dutta24-git/Sem4/hooks\",\"issue_events_url\":\"https://api.github.com/repos/tiyash-dutta24-git/Sem4/issues/events{/number}\",\"events_url\":\"https://api.github.com/repos/tiyash-dutta24-git/Sem4/events\",\"assignees_url\":\"https://api.github.com/repos/tiyash-dutta24-git/Sem4/assignees{/user}\",\"branches_url\":\"https://api.github.com/repos/tiyash-dutta24-git/Sem4/branches{/branch}\",\"tags_url\":\"https://api.github.com/repos/tiyash-dutta24-git/Sem4/tags\",\"blobs_url\":\"https://api.github.com/repos/tiyash-dutta24-git/Sem4/git/blobs{/sha}\",\"git_tags_url\":\"https://api.github.com/repos/tiyash-dutta24-git/Sem4/git/tags{/sha}\",\"git_refs_url\":\"https://api.github.com/repos/tiyash-dutta24-git/Sem4/git/refs{/sha}\",\"trees_url\":\"https://api.github.com/repos/tiyash-dutta24-git/Sem4/git/trees{/sha}\",\"statuses_url\":\"https://api.github.com/repos/tiyash-dutta24-git/Sem4/statuses/{sha}\",\"languages_url\":\"https://api.github.com/repos/tiyash-dutta24-git/Sem4/languages\",\"stargazers_url\":\"https://api.github.com/repos/tiyash-dutta24-git/Sem4/stargazers\",\"contributors_url\":\"https://api.github.com/repos/tiyash-dutta24-git/Sem4/contributors\",\"subscribers_url\":\"https://api.github.com/repos/tiyash-dutta24-git/Sem4/subscribers\",\"subscription_url\":\"https://api.github.com/repos/tiyash-dutta24-git/Sem4/subscription\",\"commits_url\":\"https://api.github.com/repos/tiyash-dutta24-git/Sem4/commits{/sha}\",\"git_commits_url\":\"https://api.github.com/repos/tiyash-dutta24-git/Sem4/git/commits{/sha}\",\"comments_url\":\"https://api.github.com/repos/tiyash-dutta24-git/Sem4/comments{/number}\",\"issue_comment_url\":\"https://api.github.com/repos/tiyash-dutta24-git/Sem4/issues/comments{/number}\",\"contents_url\":\"https://api.github.com/repos/tiyash-dutta24-git/Sem4/contents/{+path}\",\"compare_url\":\"https://api.github.com/repos/tiyash-dutta24-git/Sem4/compare/{base}...{head}\",\"merges_url\":\"https://api.github.com/repos/tiyash-dutta24-git/Sem4/merges\",\"archive_url\":\"https://api.github.com/repos/tiyash-dutta24-git/Sem4/{archive_format}{/ref}\",\"downloads_url\":\"https://api.github.com/repos/tiyash-dutta24-git/Sem4/downloads\",\"issues_url\":\"https://api.github.com/repos/tiyash-dutta24-git/Sem4/issues{/number}\",\"pulls_url\":\"https://api.github.com/repos/tiyash-dutta24-git/Sem4/pulls{/number}\",\"milestones_url\":\"https://api.github.com/repos/tiyash-dutta24-git/Sem4/milestones{/number}\",\"notifications_url\":\"https://api.github.com/repos/tiyash-dutta24-git/Sem4/notifications{?since,all,participating}\",\"labels_url\":\"https://api.github.com/repos/tiyash-dutta24-git/Sem4/labels{/name}\",\"releases_url\":\"https://api.github.com/repos/tiyash-dutta24-git/Sem4/releases{/id}\",\"deployments_url\":\"https://api.github.com/repos/tiyash-dutta24-git/Sem4/deployments\",\"created_at\":\"2024-11-28T03:25:34Z\",\"updated_at\":\"2024-11-28T08:24:18Z\",\"pushed_at\":\"2024-11-28T08:24:44Z\",\"git_url\":\"git://github.com/tiyash-dutta24-git/Sem4.git\",\"ssh_url\":\"git@github.com:tiyash-dutta24-git/Sem4.git\",\"clone_url\":\"https://github.com/tiyash-dutta24-git/Sem4.git\",\"svn_url\":\"https://github.com/tiyash-dutta24-git/Sem4\",\"homepage\":null,\"size\":0,\"stargazers_count\":0,\"watchers_count\":0,\"language\":null,\"has_issues\":true,\"has_projects\":true,\"has_downloads\":true,\"has_wiki\":true,\"has_pages\":false,\"has_discussions\":false,\"forks_count\":0,\"mirror_url\":null,\"archived\":false,\"disabled\":false,\"open_issues_count\":3,\"license\":null,\"allow_forking\":true,\"is_template\":false,\"web_commit_signoff_required\":false,\"topics\":[],\"visibility\":\"public\",\"forks\":0,\"open_issues\":3,\"watchers\":0,\"default_branch\":\"main\"}},\"_links\":{\"self\":{\"href\":\"https://api.github.com/repos/tiyash-dutta24-git/Sem4/pulls/3\"},\"html\":{\"href\":\"https://github.com/tiyash-dutta24-git/Sem4/pull/3\"},\"issue\":{\"href\":\"https://api.github.com/repos/tiyash-dutta24-git/Sem4/issues/3\"},\"comments\":{\"href\":\"https://api.github.com/repos/tiyash-dutta24-git/Sem4/issues/3/comments\"},\"review_comments\":{\"href\":\"https://api.github.com/repos/tiyash-dutta24-git/Sem4/pulls/3/comments\"},\"review_comment\":{\"href\":\"https://api.github.com/repos/tiyash-dutta24-git/Sem4/pulls/comments{/number}\"},\"commits\":{\"href\":\"https://api.github.com/repos/tiyash-dutta24-git/Sem4/pulls/3/commits\"},\"statuses\":{\"href\":\"https://api.github.com/repos/tiyash-dutta24-git/Sem4/statuses/566a0aad02a2e2492735309785829801c93b4d10\"}},\"author_association\":\"OWNER\",\"auto_merge\":null,\"active_lock_reason\":null,\"merged\":false,\"mergeable\":null,\"rebaseable\":null,\"mergeable_state\":\"unknown\",\"merged_by\":null,\"comments\":0,\"review_comments\":0,\"maintainer_can_modify\":false,\"commits\":1,\"additions\":1,\"deletions\":1,\"changed_files\":1}},\"public\":true,\"created_at\":\"2024-11-28T08:24:55Z\"},{\"id\":\"44277243041\",\"type\":\"PushEvent\",\"actor\":{\"id\":189572189,\"login\":\"wrkwak\",\"display_login\":\"wrkwak\",\"gravatar_id\":\"\",\"url\":\"https://api.github.com/users/wrkwak\",\"avatar_url\":\"https://avatars.githubusercontent.com/u/189572189?\"},\"repo\":{\"id\":893683664,\"name\":\"wrkwak/class8\",\"url\":\"https://api.github.com/repos/wrkwak/class8\"},\"payload\":{\"repository_id\":893683664,\"push_id\":21442816507,\"size\":1,\"distinct_size\":1,\"ref\":\"refs/heads/main\",\"head\":\"cf349db4b8e6c707beca945bfec361d417873d87\",\"before\":\"f9ab5b50f3561acf79e477a51349c4b3cd68d4f1\",\"commits\":[{\"sha\":\"cf349db4b8e6c707beca945bfec361d417873d87\",\"author\":{\"email\":\"dlwpekfms@gmail.com\",\"name\":\"\\xea\\xb3\\xbd\\xec\\x9a\\xb0\\xeb\\xa6\\xbc\"},\"message\":\"11/28\",\"distinct\":true,\"url\":\"https://api.github.com/repos/wrkwak/class8/commits/cf349db4b8e6c707beca945bfec361d417873d87\"}]},\"public\":true,\"created_at\":\"2024-11-28T08:24:55Z\"},{\"id\":\"44277243035\",\"type\":\"PushEvent\",\"actor\":{\"id\":149560339,\"login\":\"ItxUzair1\",\"display_login\":\"ItxUzair1\",\"gravatar_id\":\"\",\"url\":\"https://api.github.com/users/ItxUzair1\",\"avatar_url\":\"https://avatars.githubusercontent.com/u/149560339?\"},\"repo\":{\"id\":895434094,\"name\":\"ItxUzair1/AI-Trip-Planner\",\"url\":\"https://api.github.com/repos/ItxUzair1/AI-Trip-Planner\"},\"payload\":{\"repository_id\":895434094,\"push_id\":21442816477,\"size\":1,\"distinct_size\":1,\"ref\":\"refs/heads/main\",\"head\":\"7c1cccdf25f411af83e85643bef901c2d3f02f3c\",\"before\":\"2a959a02368eb2e7c9b43ab554d1d69ba82d8cf9\",\"commits\":[{\"sha\":\"7c1cccdf25f411af83e85643bef901c2d3f02f3c\",\"author\":{\"email\":\"149560339+ItxUzair1@users.noreply.github.com\",\"name\":\"Muhammad Uzair\"},\"message\":\"Rename layout.jsx to Layout.jsx\",\"distinct\":true,\"url\":\"https://api.github.com/repos/ItxUzair1/AI-Trip-Planner/commits/7c1cccdf25f411af83e85643bef901c2d3f02f3c\"}]},\"public\":true,\"created_at\":\"2024-11-28T08:24:55Z\"},{\"id\":\"44277243036\",\"type\":\"CreateEvent\",\"actor\":{\"id\":189949185,\"login\":\"oshockley\",\"display_login\":\"oshockley\",\"gravatar_id\":\"\",\"url\":\"https://api.github.com/users/oshockley\",\"avatar_url\":\"https://avatars.githubusercontent.com/u/189949185?\"},\"repo\":{\"id\":895387866,\"name\":\"oshockley/prework-study-guide\",\"url\":\"https://api.github.com/repos/oshockley/prework-study-guide\"},\"payload\":{\"ref\":\"feature/project-README\",\"ref_type\":\"branch\",\"master_branch\":\"main\",\"description\":\"A study guide for course pre-work.\",\"pusher_type\":\"user\"},\"public\":true,\"created_at\":\"2024-11-28T08:24:55Z\"},{\"id\":\"44277243045\",\"type\":\"PublicEvent\",\"actor\":{\"id\":75030204,\"login\":\"SajadRahimi1\",\"display_login\":\"SajadRahimi1\",\"gravatar_id\":\"\",\"url\":\"https://api.github.com/users/SajadRahimi1\",\"avatar_url\":\"https://avatars.githubusercontent.com/u/75030204?\"},\"repo\":{\"id\":845948205,\"name\":\"SajadRahimi1/QMan\",\"url\":\"https://api.github.com/repos/SajadRahimi1/QMan\"},\"payload\":{},\"public\":true,\"created_at\":\"2024-11-28T08:24:55Z\"},{\"id\":\"44277243022\",\"type\":\"PushEvent\",\"actor\":{\"id\":5403925,\"login\":\"cagostino\",\"display_login\":\"cagostino\",\"gravatar_id\":\"\",\"url\":\"https://api.github.com/users/cagostino\",\"avatar_url\":\"https://avatars.githubusercontent.com/u/5403925?\"},\"repo\":{\"id\":863930645,\"name\":\"cagostino/npcsh\",\"url\":\"https://api.github.com/repos/cagostino/npcsh\"},\"payload\":{\"repository_id\":863930645,\"push_id\":21442816508,\"size\":1,\"distinct_size\":1,\"ref\":\"refs/heads/chris/documentation_refactoring\",\"head\":\"db7cf4289058742114f1f04a9ab6fa984a03aac1\",\"before\":\"113df9f895bbf28cc4be7e8e5fd50107db84f702\",\"commits\":[{\"sha\":\"db7cf4289058742114f1f04a9ab6fa984a03aac1\",\"author\":{\"email\":\"cjp.agostino@gmail.com\",\"name\":\"Chris Agostino\"},\"message\":\"successfully tested all main cli components. some fringe ones still need to be checked but sample, spool, whisper, data all work. fixed finally the issue with the code blocks rendering with an extra space so they can be copied and pasted more easily. there are some redundant markdown renderings still. next will add critical test coverage for llm funcs, helpers, etc. hthings moving along!\",\"distinct\":true,\"url\":\"https://api.github.com/repos/cagostino/npcsh/commits/db7cf4289058742114f1f04a9ab6fa984a03aac1\"}]},\"public\":true,\"created_at\":\"2024-11-28T08:24:55Z\"},{\"id\":\"44277242994\",\"type\":\"PushEvent\",\"actor\":{\"id\":133210060,\"login\":\"ExCatalyst\",\"display_login\":\"ExCatalyst\",\"gravatar_id\":\"\",\"url\":\"https://api.github.com/users/ExCatalyst\",\"avatar_url\":\"https://avatars.githubusercontent.com/u/133210060?\"},\"repo\":{\"id\":786011749,\"name\":\"ExCatalyst/generative-ai-for-beginners\",\"url\":\"https://api.github.com/repos/ExCatalyst/generative-ai-for-beginners\"},\"payload\":{\"repository_id\":786011749,\"push_id\":21442816449,\"size\":242,\"distinct_size\":242,\"ref\":\"refs/heads/main\",\"head\":\"b762d3cbbc60909ba2c229883ab84c168e4e6f8b\",\"before\":\"66b3cf42d56b8c0262f1fc47204532e44260f8e0\",\"commits\":[{\"sha\":\"30c202381464dbea24683dcf3263c06e09c62037\",\"author\":{\"email\":\"joao42lbatista@gmail.com\",\"name\":\"Jo\\xc3\\xa3o Batista\"},\"message\":\"Update README.md, RESOURCES.md, and SETUP.md\",\"distinct\":true,\"url\":\"https://api.github.com/repos/ExCatalyst/generative-ai-for-beginners/commits/30c202381464dbea24683dcf3263c06e09c62037\"},{\"sha\":\"a70cd2119708f89acf39684702dc9fe2b2c59fd4\",\"author\":{\"email\":\"korey.pace@gmail.com\",\"name\":\"Korey Stegared-Pace\"},\"message\":\"Merge pull request #354 from ryuuzaki42/ryuuzaki42_patch1\\\\n\\\\n Fix typo and rm white spaces\",\"distinct\":true,\"url\":\"https://api.github.com/repos/ExCatalyst/generative-ai-for-beginners/commits/a70cd2119708f89acf39684702dc9fe2b2c59fd4\"},{\"sha\":\"8c03d71e094e4b1fcbf34e9983d8209e4022c84b\",\"author\":{\"email\":\"37964707+MorrisMuuoMulitu@users.noreply.github.com\",\"name\":\"Morris Mulitu\"},\"message\":\"added a terminating note to line 72 of 09-building-image-applications/README.md\",\"distinct\":true,\"url\":\"https://api.github.com/repos/ExCatalyst/generative-ai-for-beginners/commits/8c03d71e094e4b1fcbf34e9983d8209e4022c84b\"},{\"sha\":\"01b230371bb85bcc5b575b9c8c969750bd8dada3\",\"author\":{\"email\":\"wangshenwei@qq.com\",\"name\":\"Shenwei Wang\"},\"message\":\"Fix the link to lesson 15 in lesson 14\",\"distinct\":true,\"url\":\"https://api.github.com/repos/ExCatalyst/generative-ai-for-beginners/commits/01b230371bb85bcc5b575b9c8c969750bd8dada3\"},{\"sha\":\"61cca239d179fbff9b121017584de0265d6757c0\",\"author\":{\"email\":\"wangshenwei@qq.com\",\"name\":\"Shenwei Wang\"},\"message\":\"Fix the link to lesson 15 in lesson 14 in translations/cn\",\"distinct\":true,\"url\":\"https://api.github.com/repos/ExCatalyst/generative-ai-for-beginners/commits/61cca239d179fbff9b121017584de0265d6757c0\"},{\"sha\":\"1c796765882cc3b12c09605b19e63df41f07cb76\",\"author\":{\"email\":\"korey.pace@gmail.com\",\"name\":\"Korey Stegared-Pace\"},\"message\":\"Merge pull request #367 from weareoutman/patch-1\\\\n\\\\nFix the link to lesson 15 in lesson 14\",\"distinct\":true,\"url\":\"https://api.github.com/repos/ExCatalyst/generative-ai-for-beginners/commits/1c796765882cc3b12c09605b19e63df41f07cb76\"},{\"sha\":\"71063c298d9ffe3892546edec496fafcf49307f5\",\"author\":{\"email\":\"40815708+hyoshioka0128@users.noreply.github.com\",\"name\":\"Hiroshi Yoshioka\"},\"message\":\"Update README.md (Typo \\\\\"Azure Open AI\\\\\"\\xe2\\x86\\x92\\\\\"Azure OpenAI\\\\\")\\\\n\\\\nhttps://github.com/microsoft/generative-ai-for-beginners/blob/main/11-integrating-with-function-calling/README.md\\\\r\\\\n#PingMSFTDocs\",\"distinct\":true,\"url\":\"https://api.github.com/repos/ExCatalyst/generative-ai-for-beginners/commits/71063c298d9ffe3892546edec496fafcf49307f5\"},{\"sha\":\"4f3aa800bccf9bb7d37ab0b33d2c5174574faef1\",\"author\":{\"email\":\"nitya@users.noreply.github.com\",\"name\":\"Nitya Narasimhan\"},\"message\":\"refactor setup, ch4, ch18 - for consistency in assignments\",\"distinct\":true,\"url\":\"https://api.github.com/repos/ExCatalyst/generative-ai-for-beginners/commits/4f3aa800bccf9bb7d37ab0b33d2c5174574faef1\"},{\"sha\":\"d7b23081bbfbda9ab4925af07716aaed48439e3f\",\"author\":{\"email\":\"nitya@users.noreply.github.com\",\"name\":\"Nitya Narasimhan\"},\"message\":\"fix/ missing links, tracking, locale issues\",\"distinct\":true,\"url\":\"https://api.github.com/repos/ExCatalyst/generative-ai-for-beginners/commits/d7b23081bbfbda9ab4925af07716aaed48439e3f\"},{\"sha\":\"d466975bd65b11cb574cb8fc04b087a20ed5f094\",\"author\":{\"email\":\"nitya@users.noreply.github.com\",\"name\":\"Nitya Narasimhan\"},\"message\":\"fix/missing tracking\",\"distinct\":true,\"url\":\"https://api.github.com/repos/ExCatalyst/generative-ai-for-beginners/commits/d466975bd65b11cb574cb8fc04b087a20ed5f094\"},{\"sha\":\"87727c0b2e41b3765bfdf8323f784d0b9e4cafbd\",\"author\":{\"email\":\"leestott@microsoft.com\",\"name\":\"Lee Stott\"},\"message\":\"Merge pull request #369 from nitya/refresh/pre-recording\\\\n\\\\nrefactor setup, ch4, ch18 - for consistency in assignments\",\"distinct\":true,\"url\":\"https://api.github.com/repos/ExCatalyst/generative-ai-for-beginners/commits/87727c0b2e41b3765bfdf8323f784d0b9e4cafbd\"},{\"sha\":\"d94c8e73d12d1c01f39bfb9e08d28ff467534e6a\",\"author\":{\"email\":\"leestott@microsoft.com\",\"name\":\"Lee Stott\"},\"message\":\"Fixes\",\"distinct\":true,\"url\":\"https://api.github.com/repos/ExCatalyst/generative-ai-for-beginners/commits/d94c8e73d12d1c01f39bfb9e08d28ff467534e6a\"},{\"sha\":\"beb2b018bd1542a8cada7f5027bbf4a3cb47e353\",\"author\":{\"email\":\"leestott@microsoft.com\",\"name\":\"Lee Stott\"},\"message\":\"Fixes\",\"distinct\":true,\"url\":\"https://api.github.com/repos/ExCatalyst/generative-ai-for-beginners/commits/beb2b018bd1542a8cada7f5027bbf4a3cb47e353\"},{\"sha\":\"41917ec35a57634ed852bbdc6eaf290317dafaca\",\"author\":{\"email\":\"korey.pace@gmail.com\",\"name\":\"Korey Stegared-Pace\"},\"message\":\"Merge pull request #371 from microsoft/leestott-patch-6\\\\n\\\\nFixes\",\"distinct\":true,\"url\":\"https://api.github.com/repos/ExCatalyst/generative-ai-for-beginners/commits/41917ec35a57634ed852bbdc6eaf290317dafaca\"},{\"sha\":\"1e7d06ad8f7574f0a3d602000fc2de8b21ee59fc\",\"author\":{\"email\":\"younglina0409@outlook.com\",\"name\":\"Younglina\"},\"message\":\"docs: Add zero-shot translation and Fix some translation\",\"distinct\":true,\"url\":\"https://api.github.com/repos/ExCatalyst/generative-ai-for-beginners/commits/1e7d06ad8f7574f0a3d602000fc2de8b21ee59fc\"},{\"sha\":\"53c4d02e6a21b5f152f10165b04bb88b2063152e\",\"author\":{\"email\":\"younglina0409@outlook.com\",\"name\":\"Younglina\"},\"message\":\"docs: delete\\xe3\\x80\\x81fix and add some translation\",\"distinct\":true,\"url\":\"https://api.github.com/repos/ExCatalyst/generative-ai-for-beginners/commits/53c4d02e6a21b5f152f10165b04bb88b2063152e\"},{\"sha\":\"b5ff7e4c9e8b147f7561a62f8220f646aba58d95\",\"author\":{\"email\":\"korey.pace@gmail.com\",\"name\":\"Korey Stegared-Pace\"},\"message\":\"Merge pull request #372 from Younglina/main\\\\n\\\\nAdd zero-shot translation and Fix some translation\",\"distinct\":true,\"url\":\"https://api.github.com/repos/ExCatalyst/generative-ai-for-beginners/commits/b5ff7e4c9e8b147f7561a62f8220f646aba58d95\"},{\"sha\":\"d5e5e7065f1ea223e3c93e49cfb57b3bf617ccc1\",\"author\":{\"email\":\"korey.pace@gmail.com\",\"name\":\"Korey Stegared-Pace\"},\"message\":\"Merge pull request #366 from MorrisMuuoMulitu/broken_text\\\\n\\\\nTerminating note added.\",\"distinct\":true,\"url\":\"https://api.github.com/repos/ExCatalyst/generative-ai-for-beginners/commits/d5e5e7065f1ea223e3c93e49cfb57b3bf617ccc1\"},{\"sha\":\"0cd80f183add2ffe6282e3601dc2d387770d5367\",\"author\":{\"email\":\"korey.pace@gmail.com\",\"name\":\"Korey Stegared-Pace\"},\"message\":\"Merge pull request #368 from hyoshioka0128/patch-6\\\\n\\\\nUpdate README.md (Typo \\\\\"Azure Open AI\\\\\"\\xe2\\x86\\x92\\\\\"Azure OpenAI\\\\\")\",\"distinct\":true,\"url\":\"https://api.github.com/repos/ExCatalyst/generative-ai-for-beginners/commits/0cd80f183add2ffe6282e3601dc2d387770d5367\"},{\"sha\":\"bf2f3995be6295cd7605ae57d2a13b9dcead6e7f\",\"author\":{\"email\":\"40815708+hyoshioka0128@users.noreply.github.com\",\"name\":\"Hiroshi Yoshioka\"},\"message\":\"Update README.md (Typo \\\\\"Azure Open AI\\\\\"\\xe2\\x86\\x92\\\\\"Azure OpenAI\\\\\") \\\\n\\\\nhttps://github.com/microsoft/generative-ai-for-beginners/blob/main/06-text-generation-apps/README.md\\\\r\\\\n#PingMSFTDocs\\\\r\\\\n\\\\r\\\\nrelated #368\",\"distinct\":true,\"url\":\"https://api.github.com/repos/ExCatalyst/generative-ai-for-beginners/commits/bf2f3995be6295cd7605ae57d2a13b9dcead6e7f\"}]},\"public\":true,\"created_at\":\"2024-11-28T08:24:55Z\"},{\"id\":\"44277243027\",\"type\":\"CreateEvent\",\"actor\":{\"id\":164827025,\"login\":\"PrincessAmade\",\"display_login\":\"PrincessAmade\",\"gravatar_id\":\"\",\"url\":\"https://api.github.com/users/PrincessAmade\",\"avatar_url\":\"https://avatars.githubusercontent.com/u/164827025?\"},\"repo\":{\"id\":895447649,\"name\":\"PrincessAmade/PrincessAmade-Module3Lists-and-Functions-github\",\"url\":\"https://api.github.com/repos/PrincessAmade/PrincessAmade-Module3Lists-and-Functions-github\"},\"payload\":{\"ref\":\"main\",\"ref_type\":\"branch\",\"master_branch\":\"main\",\"description\":null,\"pusher_type\":\"user\"},\"public\":true,\"created_at\":\"2024-11-28T08:24:55Z\"},{\"id\":\"44277243019\",\"type\":\"PushEvent\",\"actor\":{\"id\":167852488,\"login\":\"KaiPow1206\",\"display_login\":\"KaiPow1206\",\"gravatar_id\":\"\",\"url\":\"https://api.github.com/users/KaiPow1206\",\"avatar_url\":\"https://avatars.githubusercontent.com/u/167852488?\"},\"repo\":{\"id\":895434387,\"name\":\"KaiPow1206/KaiPow1206\",\"url\":\"https://api.github.com/repos/KaiPow1206/KaiPow1206\"},\"payload\":{\"repository_id\":895434387,\"push_id\":21442816527,\"size\":1,\"distinct_size\":1,\"ref\":\"refs/heads/main\",\"head\":\"8c7a4358d5269680088871663f4e107cab4fa4d2\",\"before\":\"75adb8c2fa4aca287aec68a952b9ea4bda5e6fa0\",\"commits\":[{\"sha\":\"8c7a4358d5269680088871663f4e107cab4fa4d2\",\"author\":{\"email\":\"167852488+KaiPow1206@users.noreply.github.com\",\"name\":\"KaiPow\"},\"message\":\"README.md\",\"distinct\":true,\"url\":\"https://api.github.com/repos/KaiPow1206/KaiPow1206/commits/8c7a4358d5269680088871663f4e107cab4fa4d2\"}]},\"public\":true,\"created_at\":\"2024-11-28T08:24:55Z\"},{\"id\":\"44277243014\",\"type\":\"PushEvent\",\"actor\":{\"id\":2562087,\"login\":\"funnyzak\",\"display_login\":\"funnyzak\",\"gravatar_id\":\"\",\"url\":\"https://api.github.com/users/funnyzak\",\"avatar_url\":\"https://avatars.githubusercontent.com/u/2562087?\"},\"repo\":{\"id\":894788084,\"name\":\"funnyzak/docker-release\",\"url\":\"https://api.github.com/repos/funnyzak/docker-release\"},\"payload\":{\"repository_id\":894788084,\"push_id\":21442816516,\"size\":1,\"distinct_size\":1,\"ref\":\"refs/heads/refactor\",\"head\":\"e56f59ac13a1899f0e47b6bea5806c81b6fe8867\",\"before\":\"055941f238a15f1b7225dd5b7124ecbb436f7e34\",\"commits\":[{\"sha\":\"e56f59ac13a1899f0e47b6bea5806c81b6fe8867\",\"author\":{\"email\":\"silenceace@gmail.com\",\"name\":\"Leon\"},\"message\":\"chore:update\",\"distinct\":true,\"url\":\"https://api.github.com/repos/funnyzak/docker-release/commits/e56f59ac13a1899f0e47b6bea5806c81b6fe8867\"}]},\"public\":true,\"created_at\":\"2024-11-28T08:24:55Z\"},{\"id\":\"44277243006\",\"type\":\"CreateEvent\",\"actor\":{\"id\":86620992,\"login\":\"MichelKukresh\",\"display_login\":\"MichelKukresh\",\"gravatar_id\":\"\",\"url\":\"https://api.github.com/users/MichelKukresh\",\"avatar_url\":\"https://avatars.githubusercontent.com/u/86620992?\"},\"repo\":{\"id\":895448337,\"name\":\"MichelKukresh/test.sber.analysis\",\"url\":\"https://api.github.com/repos/MichelKukresh/test.sber.analysis\"},\"payload\":{\"ref\":null,\"ref_type\":\"repository\",\"master_branch\":\"main\",\"description\":\"\\xd0\\xa2\\xd0\\xb5\\xd1\\x81\\xd1\\x82\\xd0\\xbe\\xd0\\xb2\\xd0\\xbe\\xd0\\xb5 \\xd0\\xb7\\xd0\\xb0\\xd0\\xb4\\xd0\\xb0\\xd0\\xbd\\xd0\\xb8\\xd0\\xb5 \\xd0\\xa1\\xd0\\xb1\\xd0\\xb5\\xd1\\x80 \\xd0\\x90\\xd0\\xbd\\xd0\\xb0\\xd0\\xbb\\xd0\\xb8\\xd1\\x82\\xd0\\xb8\\xd0\\xba\\xd0\\xb0\",\"pusher_type\":\"user\"},\"public\":true,\"created_at\":\"2024-11-28T08:24:55Z\"},{\"id\":\"44277242966\",\"type\":\"PushEvent\",\"actor\":{\"id\":32262985,\"login\":\"AmosHuKe\",\"display_login\":\"AmosHuKe\",\"gravatar_id\":\"\",\"url\":\"https://api.github.com/users/AmosHuKe\",\"avatar_url\":\"https://avatars.githubusercontent.com/u/32262985?\"},\"repo\":{\"id\":712334596,\"name\":\"fluttercandies/packages\",\"url\":\"https://api.github.com/repos/fluttercandies/packages\"},\"payload\":{\"repository_id\":712334596,\"push_id\":21442816496,\"size\":1,\"distinct_size\":1,\"ref\":\"refs/heads/main\",\"head\":\"40d9d4b3f6b0725873565026c6f914af8e8fa43a\",\"before\":\"436799f46f7a8226126b6f6977520d0d0ea13a0d\",\"commits\":[{\"sha\":\"40d9d4b3f6b0725873565026c6f914af8e8fa43a\",\"author\":{\"email\":\"41898282+github-actions[bot]@users.noreply.github.com\",\"name\":\"github-actions[bot]\"},\"message\":\"docs(pub-dashboard): pub-dashboard has updated readme\",\"distinct\":true,\"url\":\"https://api.github.com/repos/fluttercandies/packages/commits/40d9d4b3f6b0725873565026c6f914af8e8fa43a\"}]},\"public\":true,\"created_at\":\"2024-11-28T08:24:55Z\",\"org\":{\"id\":47586449,\"login\":\"fluttercandies\",\"gravatar_id\":\"\",\"url\":\"https://api.github.com/orgs/fluttercandies\",\"avatar_url\":\"https://avatars.githubusercontent.com/u/47586449?\"}},{\"id\":\"44277243000\",\"type\":\"PullRequestReviewCommentEvent\",\"actor\":{\"id\":83698580,\"login\":\"DominikaLos\",\"display_login\":\"DominikaLos\",\"gravatar_id\":\"\",\"url\":\"https://api.github.com/users/DominikaLos\",\"avatar_url\":\"https://avatars.githubusercontent.com/u/83698580?\"},\"repo\":{\"id\":298320244,\"name\":\"arup-group/GSA-Grasshopper\",\"url\":\"https://api.github.com/repos/arup-group/GSA-Grasshopper\"},\"payload\":{\"action\":\"created\",\"comment\":{\"url\":\"https://api.github.com/repos/arup-group/GSA-Grasshopper/pulls/comments/1861717232\",\"pull_request_review_id\":2467093147,\"id\":1861717232,\"node_id\":\"PRRC_kwDOEcgBdM5u94zw\",\"diff_hunk\":\"@@ -0,0 +1,56 @@\\\\n+\\xef\\xbb\\xbfusing GsaGH.Components;\\\\n+using GsaGH.Parameters;\\\\n+\\\\n+using Xunit;\\\\n+\\\\n+namespace GsaGHTests.Helpers.Assemble {\\\\n+  [Collection(\\\\\"GrasshopperFixture collection\\\\\")]\\\\n+  public class AssembleModelLists {\\\\n+    private static readonly int DefaultId = 1;\\\\n+    private static readonly string DefaultName = \\\\\"create list test\\\\\";\\\\n+    private static readonly string DefaultDefinition = \\\\\"1 2 3\\\\\";\\\\n+\\\\n+    [Theory]\\\\n+    [InlineData(true)]\\\\n+    [InlineData(false)]\\\\n+    public void ListShouldReturnDefinitionWhenIdIsSet(bool withId) {\\\\n+      GsaList gsaList = GsaList(withId);\\\\n+\\\\n+      Assert.Equal(DefaultId, gsaList.Id);\",\"path\":\"GsaGHTests/Helpers/Assemble/AssembleModelLists.cs\",\"commit_id\":\"51d7292c7938e4a680a531632091e040876e1509\",\"original_commit_id\":\"51d7292c7938e4a680a531632091e040876e1509\",\"user\":{\"login\":\"DominikaLos\",\"id\":83698580,\"node_id\":\"MDQ6VXNlcjgzNjk4NTgw\",\"avatar_url\":\"https://avatars.githubusercontent.com/u/83698580?v=4\",\"gravatar_id\":\"\",\"url\":\"https://api.github.com/users/DominikaLos\",\"html_url\":\"https://github.com/DominikaLos\",\"followers_url\":\"https://api.github.com/users/DominikaLos/followers\",\"following_url\":\"https://api.github.com/users/DominikaLos/following{/other_user}\",\"gists_url\":\"https://api.github.com/users/DominikaLos/gists{/gist_id}\",\"starred_url\":\"https://api.github.com/users/DominikaLos/starred{/owner}{/repo}\",\"subscriptions_url\":\"https://api.github.com/users/DominikaLos/subscriptions\",\"organizations_url\":\"https://api.github.com/users/DominikaLos/orgs\",\"repos_url\":\"https://api.github.com/users/DominikaLos/repos\",\"events_url\":\"https://api.github.com/users/DominikaLos/events{/privacy}\",\"received_events_url\":\"https://api.github.com/users/DominikaLos/received_events\",\"type\":\"User\",\"user_view_type\":\"public\",\"site_admin\":false},\"body\":\"will rename variable.\\\\r\\\\nabout splitting them - the only difference is that boolean. Don\\'t see the need of separate tests. \",\"created_at\":\"2024-11-28T08:24:53Z\",\"updated_at\":\"2024-11-28T08:24:54Z\",\"html_url\":\"https://github.com/arup-group/GSA-Grasshopper/pull/731#discussion_r1861717232\",\"pull_request_url\":\"https://api.github.com/repos/arup-group/GSA-Grasshopper/pulls/731\",\"author_association\":\"COLLABORATOR\",\"_links\":{\"self\":{\"href\":\"https://api.github.com/repos/arup-group/GSA-Grasshopper/pulls/comments/1861717232\"},\"html\":{\"href\":\"https://github.com/arup-group/GSA-Grasshopper/pull/731#discussion_r1861717232\"},\"pull_request\":{\"href\":\"https://api.github.com/repos/arup-group/GSA-Grasshopper/pulls/731\"}},\"reactions\":{\"url\":\"https://api.github.com/repos/arup-group/GSA-Grasshopper/pulls/comments/1861717232/reactions\",\"total_count\":0,\"+1\":0,\"-1\":0,\"laugh\":0,\"hooray\":0,\"confused\":0,\"heart\":0,\"rocket\":0,\"eyes\":0},\"start_line\":null,\"original_start_line\":null,\"start_side\":null,\"line\":19,\"original_line\":19,\"side\":\"RIGHT\",\"in_reply_to_id\":1861009214,\"original_position\":19,\"position\":19,\"subject_type\":\"line\"},\"pull_request\":{\"url\":\"https://api.github.com/repos/arup-group/GSA-Grasshopper/pulls/731\",\"id\":2200455856,\"node_id\":\"PR_kwDOEcgBdM6DKEqw\",\"html_url\":\"https://github.com/arup-group/GSA-Grasshopper/pull/731\",\"diff_url\":\"https://github.com/arup-group/GSA-Grasshopper/pull/731.diff\",\"patch_url\":\"https://github.com/arup-group/GSA-Grasshopper/pull/731.patch\",\"issue_url\":\"https://api.github.com/repos/arup-group/GSA-Grasshopper/issues/731\",\"number\":731,\"state\":\"open\",\"locked\":false,\"title\":\"GSAGH-505: Node list definition is blank if index is feed to a \\'Create List\\'-node component\",\"user\":{\"login\":\"DominikaLos\",\"id\":83698580,\"node_id\":\"MDQ6VXNlcjgzNjk4NTgw\",\"avatar_url\":\"https://avatars.githubusercontent.com/u/83698580?v=4\",\"gravatar_id\":\"\",\"url\":\"https://api.github.com/users/DominikaLos\",\"html_url\":\"https://github.com/DominikaLos\",\"followers_url\":\"https://api.github.com/users/DominikaLos/followers\",\"following_url\":\"https://api.github.com/users/DominikaLos/following{/other_user}\",\"gists_url\":\"https://api.github.com/users/DominikaLos/gists{/gist_id}\",\"starred_url\":\"https://api.github.com/users/DominikaLos/starred{/owner}{/repo}\",\"subscriptions_url\":\"https://api.github.com/users/DominikaLos/subscriptions\",\"organizations_url\":\"https://api.github.com/users/DominikaLos/orgs\",\"repos_url\":\"https://api.github.com/users/DominikaLos/repos\",\"events_url\":\"https://api.github.com/users/DominikaLos/events{/privacy}\",\"received_events_url\":\"https://api.github.com/users/DominikaLos/received_events\",\"type\":\"User\",\"user_view_type\":\"public\",\"site_admin\":false},\"body\":null,\"created_at\":\"2024-11-26T09:35:41Z\",\"updated_at\":\"2024-11-28T08:24:54Z\",\"closed_at\":null,\"merged_at\":null,\"merge_commit_sha\":\"20defb49fcab5334bd1f5d9cdcf7b8f43c45f3ef\",\"assignee\":null,\"assignees\":[],\"requested_reviewers\":[],\"requested_teams\":[],\"labels\":[],\"milestone\":null,\"draft\":false,\"commits_url\":\"https://api.github.com/repos/arup-group/GSA-Grasshopper/pulls/731/commits\",\"review_comments_url\":\"https://api.github.com/repos/arup-group/GSA-Grasshopper/pulls/731/comments\",\"review_comment_url\":\"https://api.github.com/repos/arup-group/GSA-Grasshopper/pulls/comments{/number}\",\"comments_url\":\"https://api.github.com/repos/arup-group/GSA-Grasshopper/issues/731/comments\",\"statuses_url\":\"https://api.github.com/repos/arup-group/GSA-Grasshopper/statuses/51d7292c7938e4a680a531632091e040876e1509\",\"head\":{\"label\":\"arup-group:bugfix/GSAGH-505-Node-list-definition-is-blank-if-index-is-feed-to-a-\\'Create-List\\'-node-component\",\"ref\":\"bugfix/GSAGH-505-Node-list-definition-is-blank-if-index-is-feed-to-a-\\'Create-List\\'-node-component\",\"sha\":\"51d7292c7938e4a680a531632091e040876e1509\",\"user\":{\"login\":\"arup-group\",\"id\":59966781,\"node_id\":\"MDEyOk9yZ2FuaXphdGlvbjU5OTY2Nzgx\",\"avatar_url\":\"https://avatars.githubusercontent.com/u/59966781?v=4\",\"gravatar_id\":\"\",\"url\":\"https://api.github.com/users/arup-group\",\"html_url\":\"https://github.com/arup-group\",\"followers_url\":\"https://api.github.com/users/arup-group/followers\",\"following_url\":\"https://api.github.com/users/arup-group/following{/other_user}\",\"gists_url\":\"https://api.github.com/users/arup-group/gists{/gist_id}\",\"starred_url\":\"https://api.github.com/users/arup-group/starred{/owner}{/repo}\",\"subscriptions_url\":\"https://api.github.com/users/arup-group/subscriptions\",\"organizations_url\":\"https://api.github.com/users/arup-group/orgs\",\"repos_url\":\"https://api.github.com/users/arup-group/repos\",\"events_url\":\"https://api.github.com/users/arup-group/events{/privacy}\",\"received_events_url\":\"https://api.github.com/users/arup-group/received_events\",\"type\":\"Organization\",\"user_view_type\":\"public\",\"site_admin\":false},\"repo\":{\"id\":298320244,\"node_id\":\"MDEwOlJlcG9zaXRvcnkyOTgzMjAyNDQ=\",\"name\":\"GSA-Grasshopper\",\"full_name\":\"arup-group/GSA-Grasshopper\",\"private\":false,\"owner\":{\"login\":\"arup-group\",\"id\":59966781,\"node_id\":\"MDEyOk9yZ2FuaXphdGlvbjU5OTY2Nzgx\",\"avatar_url\":\"https://avatars.githubusercontent.com/u/59966781?v=4\",\"gravatar_id\":\"\",\"url\":\"https://api.github.com/users/arup-group\",\"html_url\":\"https://github.com/arup-group\",\"followers_url\":\"https://api.github.com/users/arup-group/followers\",\"following_url\":\"https://api.github.com/users/arup-group/following{/other_user}\",\"gists_url\":\"https://api.github.com/users/arup-group/gists{/gist_id}\",\"starred_url\":\"https://api.github.com/users/arup-group/starred{/owner}{/repo}\",\"subscriptions_url\":\"https://api.github.com/users/arup-group/subscriptions\",\"organizations_url\":\"https://api.github.com/users/arup-group/orgs\",\"repos_url\":\"https://api.github.com/users/arup-group/repos\",\"events_url\":\"https://api.github.com/users/arup-group/events{/privacy}\",\"received_events_url\":\"https://api.github.com/users/arup-group/received_events\",\"type\":\"Organization\",\"user_view_type\":\"public\",\"site_admin\":false},\"html_url\":\"https://github.com/arup-group/GSA-Grasshopper\",\"description\":\"Oasys GSA Grasshopper plugin\",\"fork\":false,\"url\":\"https://api.github.com/repos/arup-group/GSA-Grasshopper\",\"forks_url\":\"https://api.github.com/repos/arup-group/GSA-Grasshopper/forks\",\"keys_url\":\"https://api.github.com/repos/arup-group/GSA-Grasshopper/keys{/key_id}\",\"collaborators_url\":\"https://api.github.com/repos/arup-group/GSA-Grasshopper/collaborators{/collaborator}\",\"teams_url\":\"https://api.github.com/repos/arup-group/GSA-Grasshopper/teams\",\"hooks_url\":\"https://api.github.com/repos/arup-group/GSA-Grasshopper/hooks\",\"issue_events_url\":\"https://api.github.com/repos/arup-group/GSA-Grasshopper/issues/events{/number}\",\"events_url\":\"https://api.github.com/repos/arup-group/GSA-Grasshopper/events\",\"assignees_url\":\"https://api.github.com/repos/arup-group/GSA-Grasshopper/assignees{/user}\",\"branches_url\":\"https://api.github.com/repos/arup-group/GSA-Grasshopper/branches{/branch}\",\"tags_url\":\"https://api.github.com/repos/arup-group/GSA-Grasshopper/tags\",\"blobs_url\":\"https://api.github.com/repos/arup-group/GSA-Grasshopper/git/blobs{/sha}\",\"git_tags_url\":\"https://api.github.com/repos/arup-group/GSA-Grasshopper/git/tags{/sha}\",\"git_refs_url\":\"https://api.github.com/repos/arup-group/GSA-Grasshopper/git/refs{/sha}\",\"trees_url\":\"https://api.github.com/repos/arup-group/GSA-Grasshopper/git/trees{/sha}\",\"statuses_url\":\"https://api.github.com/repos/arup-group/GSA-Grasshopper/statuses/{sha}\",\"languages_url\":\"https://api.github.com/repos/arup-group/GSA-Grasshopper/languages\",\"stargazers_url\":\"https://api.github.com/repos/arup-group/GSA-Grasshopper/stargazers\",\"contributors_url\":\"https://api.github.com/repos/arup-group/GSA-Grasshopper/contributors\",\"subscribers_url\":\"https://api.github.com/repos/arup-group/GSA-Grasshopper/subscribers\",\"subscription_url\":\"https://api.github.com/repos/arup-group/GSA-Grasshopper/subscription\",\"commits_url\":\"https://api.github.com/repos/arup-group/GSA-Grasshopper/commits{/sha}\",\"git_commits_url\":\"https://api.github.com/repos/arup-group/GSA-Grasshopper/git/commits{/sha}\",\"comments_url\":\"https://api.github.com/repos/arup-group/GSA-Grasshopper/comments{/number}\",\"issue_comment_url\":\"https://api.github.com/repos/arup-group/GSA-Grasshopper/issues/comments{/number}\",\"contents_url\":\"https://api.github.com/repos/arup-group/GSA-Grasshopper/contents/{+path}\",\"compare_url\":\"https://api.github.com/repos/arup-group/GSA-Grasshopper/compare/{base}...{head}\",\"merges_url\":\"https://api.github.com/repos/arup-group/GSA-Grasshopper/merges\",\"archive_url\":\"https://api.github.com/repos/arup-group/GSA-Grasshopper/{archive_format}{/ref}\",\"downloads_url\":\"https://api.github.com/repos/arup-group/GSA-Grasshopper/downloads\",\"issues_url\":\"https://api.github.com/repos/arup-group/GSA-Grasshopper/issues{/number}\",\"pulls_url\":\"https://api.github.com/repos/arup-group/GSA-Grasshopper/pulls{/number}\",\"milestones_url\":\"https://api.github.com/repos/arup-group/GSA-Grasshopper/milestones{/number}\",\"notifications_url\":\"https://api.github.com/repos/arup-group/GSA-Grasshopper/notifications{?since,all,participating}\",\"labels_url\":\"https://api.github.com/repos/arup-group/GSA-Grasshopper/labels{/name}\",\"releases_url\":\"https://api.github.com/repos/arup-group/GSA-Grasshopper/releases{/id}\",\"deployments_url\":\"https://api.github.com/repos/arup-group/GSA-Grasshopper/deployments\",\"created_at\":\"2020-09-24T15:30:26Z\",\"updated_at\":\"2024-11-27T09:49:52Z\",\"pushed_at\":\"2024-11-28T07:50:14Z\",\"git_url\":\"git://github.com/arup-group/GSA-Grasshopper.git\",\"ssh_url\":\"git@github.com:arup-group/GSA-Grasshopper.git\",\"clone_url\":\"https://github.com/arup-group/GSA-Grasshopper.git\",\"svn_url\":\"https://github.com/arup-group/GSA-Grasshopper\",\"homepage\":\"https://docs.oasys-software.com/structural/gsa/explanations/gsagh-introduction.html\",\"size\":432552,\"stargazers_count\":28,\"watchers_count\":28,\"language\":\"C#\",\"has_issues\":true,\"has_projects\":false,\"has_downloads\":true,\"has_wiki\":false,\"has_pages\":false,\"has_discussions\":false,\"forks_count\":11,\"mirror_url\":null,\"archived\":false,\"disabled\":false,\"open_issues_count\":7,\"license\":{\"key\":\"mit\",\"name\":\"MIT License\",\"spdx_id\":\"MIT\",\"url\":\"https://api.github.com/licenses/mit\",\"node_id\":\"MDc6TGljZW5zZTEz\"},\"allow_forking\":true,\"is_template\":false,\"web_commit_signoff_required\":false,\"topics\":[\"grasshopper\",\"grasshopper-plugin\",\"grasshopper3d\",\"gsa\",\"oasys\"],\"visibility\":\"public\",\"forks\":11,\"open_issues\":7,\"watchers\":28,\"default_branch\":\"main\"}},\"base\":{\"label\":\"arup-group:main\",\"ref\":\"main\",\"sha\":\"15077dbae46031498ec904bbf1a19dd3dcaebc37\",\"user\":{\"login\":\"arup-group\",\"id\":59966781,\"node_id\":\"MDEyOk9yZ2FuaXphdGlvbjU5OTY2Nzgx\",\"avatar_url\":\"https://avatars.githubusercontent.com/u/59966781?v=4\",\"gravatar_id\":\"\",\"url\":\"https://api.github.com/users/arup-group\",\"html_url\":\"https://github.com/arup-group\",\"followers_url\":\"https://api.github.com/users/arup-group/followers\",\"following_url\":\"https://api.github.com/users/arup-group/following{/other_user}\",\"gists_url\":\"https://api.github.com/users/arup-group/gists{/gist_id}\",\"starred_url\":\"https://api.github.com/users/arup-group/starred{/owner}{/repo}\",\"subscriptions_url\":\"https://api.github.com/users/arup-group/subscriptions\",\"organizations_url\":\"https://api.github.com/users/arup-group/orgs\",\"repos_url\":\"https://api.github.com/users/arup-group/repos\",\"events_url\":\"https://api.github.com/users/arup-group/events{/privacy}\",\"received_events_url\":\"https://api.github.com/users/arup-group/received_events\",\"type\":\"Organization\",\"user_view_type\":\"public\",\"site_admin\":false},\"repo\":{\"id\":298320244,\"node_id\":\"MDEwOlJlcG9zaXRvcnkyOTgzMjAyNDQ=\",\"name\":\"GSA-Grasshopper\",\"full_name\":\"arup-group/GSA-Grasshopper\",\"private\":false,\"owner\":{\"login\":\"arup-group\",\"id\":59966781,\"node_id\":\"MDEyOk9yZ2FuaXphdGlvbjU5OTY2Nzgx\",\"avatar_url\":\"https://avatars.githubusercontent.com/u/59966781?v=4\",\"gravatar_id\":\"\",\"url\":\"https://api.github.com/users/arup-group\",\"html_url\":\"https://github.com/arup-group\",\"followers_url\":\"https://api.github.com/users/arup-group/followers\",\"following_url\":\"https://api.github.com/users/arup-group/following{/other_user}\",\"gists_url\":\"https://api.github.com/users/arup-group/gists{/gist_id}\",\"starred_url\":\"https://api.github.com/users/arup-group/starred{/owner}{/repo}\",\"subscriptions_url\":\"https://api.github.com/users/arup-group/subscriptions\",\"organizations_url\":\"https://api.github.com/users/arup-group/orgs\",\"repos_url\":\"https://api.github.com/users/arup-group/repos\",\"events_url\":\"https://api.github.com/users/arup-group/events{/privacy}\",\"received_events_url\":\"https://api.github.com/users/arup-group/received_events\",\"type\":\"Organization\",\"user_view_type\":\"public\",\"site_admin\":false},\"html_url\":\"https://github.com/arup-group/GSA-Grasshopper\",\"description\":\"Oasys GSA Grasshopper plugin\",\"fork\":false,\"url\":\"https://api.github.com/repos/arup-group/GSA-Grasshopper\",\"forks_url\":\"https://api.github.com/repos/arup-group/GSA-Grasshopper/forks\",\"keys_url\":\"https://api.github.com/repos/arup-group/GSA-Grasshopper/keys{/key_id}\",\"collaborators_url\":\"https://api.github.com/repos/arup-group/GSA-Grasshopper/collaborators{/collaborator}\",\"teams_url\":\"https://api.github.com/repos/arup-group/GSA-Grasshopper/teams\",\"hooks_url\":\"https://api.github.com/repos/arup-group/GSA-Grasshopper/hooks\",\"issue_events_url\":\"https://api.github.com/repos/arup-group/GSA-Grasshopper/issues/events{/number}\",\"events_url\":\"https://api.github.com/repos/arup-group/GSA-Grasshopper/events\",\"assignees_url\":\"https://api.github.com/repos/arup-group/GSA-Grasshopper/assignees{/user}\",\"branches_url\":\"https://api.github.com/repos/arup-group/GSA-Grasshopper/branches{/branch}\",\"tags_url\":\"https://api.github.com/repos/arup-group/GSA-Grasshopper/tags\",\"blobs_url\":\"https://api.github.com/repos/arup-group/GSA-Grasshopper/git/blobs{/sha}\",\"git_tags_url\":\"https://api.github.com/repos/arup-group/GSA-Grasshopper/git/tags{/sha}\",\"git_refs_url\":\"https://api.github.com/repos/arup-group/GSA-Grasshopper/git/refs{/sha}\",\"trees_url\":\"https://api.github.com/repos/arup-group/GSA-Grasshopper/git/trees{/sha}\",\"statuses_url\":\"https://api.github.com/repos/arup-group/GSA-Grasshopper/statuses/{sha}\",\"languages_url\":\"https://api.github.com/repos/arup-group/GSA-Grasshopper/languages\",\"stargazers_url\":\"https://api.github.com/repos/arup-group/GSA-Grasshopper/stargazers\",\"contributors_url\":\"https://api.github.com/repos/arup-group/GSA-Grasshopper/contributors\",\"subscribers_url\":\"https://api.github.com/repos/arup-group/GSA-Grasshopper/subscribers\",\"subscription_url\":\"https://api.github.com/repos/arup-group/GSA-Grasshopper/subscription\",\"commits_url\":\"https://api.github.com/repos/arup-group/GSA-Grasshopper/commits{/sha}\",\"git_commits_url\":\"https://api.github.com/repos/arup-group/GSA-Grasshopper/git/commits{/sha}\",\"comments_url\":\"https://api.github.com/repos/arup-group/GSA-Grasshopper/comments{/number}\",\"issue_comment_url\":\"https://api.github.com/repos/arup-group/GSA-Grasshopper/issues/comments{/number}\",\"contents_url\":\"https://api.github.com/repos/arup-group/GSA-Grasshopper/contents/{+path}\",\"compare_url\":\"https://api.github.com/repos/arup-group/GSA-Grasshopper/compare/{base}...{head}\",\"merges_url\":\"https://api.github.com/repos/arup-group/GSA-Grasshopper/merges\",\"archive_url\":\"https://api.github.com/repos/arup-group/GSA-Grasshopper/{archive_format}{/ref}\",\"downloads_url\":\"https://api.github.com/repos/arup-group/GSA-Grasshopper/downloads\",\"issues_url\":\"https://api.github.com/repos/arup-group/GSA-Grasshopper/issues{/number}\",\"pulls_url\":\"https://api.github.com/repos/arup-group/GSA-Grasshopper/pulls{/number}\",\"milestones_url\":\"https://api.github.com/repos/arup-group/GSA-Grasshopper/milestones{/number}\",\"notifications_url\":\"https://api.github.com/repos/arup-group/GSA-Grasshopper/notifications{?since,all,participating}\",\"labels_url\":\"https://api.github.com/repos/arup-group/GSA-Grasshopper/labels{/name}\",\"releases_url\":\"https://api.github.com/repos/arup-group/GSA-Grasshopper/releases{/id}\",\"deployments_url\":\"https://api.github.com/repos/arup-group/GSA-Grasshopper/deployments\",\"created_at\":\"2020-09-24T15:30:26Z\",\"updated_at\":\"2024-11-27T09:49:52Z\",\"pushed_at\":\"2024-11-28T07:50:14Z\",\"git_url\":\"git://github.com/arup-group/GSA-Grasshopper.git\",\"ssh_url\":\"git@github.com:arup-group/GSA-Grasshopper.git\",\"clone_url\":\"https://github.com/arup-group/GSA-Grasshopper.git\",\"svn_url\":\"https://github.com/arup-group/GSA-Grasshopper\",\"homepage\":\"https://docs.oasys-software.com/structural/gsa/explanations/gsagh-introduction.html\",\"size\":432552,\"stargazers_count\":28,\"watchers_count\":28,\"language\":\"C#\",\"has_issues\":true,\"has_projects\":false,\"has_downloads\":true,\"has_wiki\":false,\"has_pages\":false,\"has_discussions\":false,\"forks_count\":11,\"mirror_url\":null,\"archived\":false,\"disabled\":false,\"open_issues_count\":7,\"license\":{\"key\":\"mit\",\"name\":\"MIT License\",\"spdx_id\":\"MIT\",\"url\":\"https://api.github.com/licenses/mit\",\"node_id\":\"MDc6TGljZW5zZTEz\"},\"allow_forking\":true,\"is_template\":false,\"web_commit_signoff_required\":false,\"topics\":[\"grasshopper\",\"grasshopper-plugin\",\"grasshopper3d\",\"gsa\",\"oasys\"],\"visibility\":\"public\",\"forks\":11,\"open_issues\":7,\"watchers\":28,\"default_branch\":\"main\"}},\"_links\":{\"self\":{\"href\":\"https://api.github.com/repos/arup-group/GSA-Grasshopper/pulls/731\"},\"html\":{\"href\":\"https://github.com/arup-group/GSA-Grasshopper/pull/731\"},\"issue\":{\"href\":\"https://api.github.com/repos/arup-group/GSA-Grasshopper/issues/731\"},\"comments\":{\"href\":\"https://api.github.com/repos/arup-group/GSA-Grasshopper/issues/731/comments\"},\"review_comments\":{\"href\":\"https://api.github.com/repos/arup-group/GSA-Grasshopper/pulls/731/comments\"},\"review_comment\":{\"href\":\"https://api.github.com/repos/arup-group/GSA-Grasshopper/pulls/comments{/number}\"},\"commits\":{\"href\":\"https://api.github.com/repos/arup-group/GSA-Grasshopper/pulls/731/commits\"},\"statuses\":{\"href\":\"https://api.github.com/repos/arup-group/GSA-Grasshopper/statuses/51d7292c7938e4a680a531632091e040876e1509\"}},\"author_association\":\"COLLABORATOR\",\"auto_merge\":null,\"active_lock_reason\":null}},\"public\":true,\"created_at\":\"2024-11-28T08:24:53Z\",\"org\":{\"id\":59966781,\"login\":\"arup-group\",\"gravatar_id\":\"\",\"url\":\"https://api.github.com/orgs/arup-group\",\"avatar_url\":\"https://avatars.githubusercontent.com/u/59966781?\"}},{\"id\":\"44277242987\",\"type\":\"PushEvent\",\"actor\":{\"id\":23169079,\"login\":\"myarmenia\",\"display_login\":\"myarmenia\",\"gravatar_id\":\"\",\"url\":\"https://api.github.com/users/myarmenia\",\"avatar_url\":\"https://avatars.githubusercontent.com/u/23169079?\"},\"repo\":{\"id\":845937699,\"name\":\"myarmenia/Museums\",\"url\":\"https://api.github.com/repos/myarmenia/Museums\"},\"payload\":{\"repository_id\":845937699,\"push_id\":21442816510,\"size\":2,\"distinct_size\":1,\"ref\":\"refs/heads/dev\",\"head\":\"01d3963065e9c64eff9dc485246404c5de90a0e9\",\"before\":\"87bf160858ef38dca9e6a23f23ae79d9a2851961\",\"commits\":[{\"sha\":\"3888ec8e7de27669be26fdc15a22c100ce3e3d3c\",\"author\":{\"email\":\"naromisho87@gmail.com\",\"name\":\"NarineHay\"},\"message\":\"28.11\",\"distinct\":false,\"url\":\"https://api.github.com/repos/myarmenia/Museums/commits/3888ec8e7de27669be26fdc15a22c100ce3e3d3c\"},{\"sha\":\"01d3963065e9c64eff9dc485246404c5de90a0e9\",\"author\":{\"email\":\"info@webex.am\",\"name\":\"Hayk Arakelyan\"},\"message\":\"Merge pull request #248 from myarmenia/report_change\\\\n\\\\n28.11\",\"distinct\":true,\"url\":\"https://api.github.com/repos/myarmenia/Museums/commits/01d3963065e9c64eff9dc485246404c5de90a0e9\"}]},\"public\":true,\"created_at\":\"2024-11-28T08:24:55Z\"}]'\n"
     ]
    }
   ],
   "source": [
    "encoding_original = r.encoding\n",
    "print(f\"Encoding is: {encoding_original}\")\n",
    "\n",
    "print(f\"Changing the encoding\")\n",
    "r.encoding = \"ISO-8859-1\"\n",
    "\n",
    "new_encoding = r.encoding\n",
    "print(f\"Encoding is: {new_encoding}\")\n",
    "\n",
    "binary_content = r.content\n",
    "print(f\"Binary data: {binary_content}\")"
   ]
  },
  {
   "cell_type": "code",
   "execution_count": 8,
   "metadata": {},
   "outputs": [],
   "source": [
    "# JSON response content\n",
    "import requests\n",
    "\n",
    "r = requests.get(\"https://api.github.com/events\")\n",
    "json_response = r.json()\n",
    "\n",
    "# print(f\"The json response is : \\n{json_response}\")"
   ]
  },
  {
   "cell_type": "markdown",
   "metadata": {},
   "source": [
    "## Try Catch"
   ]
  },
  {
   "cell_type": "code",
   "execution_count": 9,
   "metadata": {},
   "outputs": [
    {
     "name": "stdout",
     "output_type": "stream",
     "text": [
      "Error: 404 Client Error: Not Found for url: https://api.github.com/event\n",
      "404 status code.\n"
     ]
    }
   ],
   "source": [
    "# for failed request use raise_for_status() or check status_code\n",
    "\n",
    "r = requests.get(\"https://api.github.com/event\")\n",
    "\n",
    "try:\n",
    "    r.raise_for_status()\n",
    "except requests.exceptions.HTTPError as err:\n",
    "    print(f\"Error: {err}\")\n",
    "    print(f\"{r.status_code} status code.\")"
   ]
  },
  {
   "cell_type": "code",
   "execution_count": 10,
   "metadata": {},
   "outputs": [
    {
     "name": "stdout",
     "output_type": "stream",
     "text": [
      "Success\n"
     ]
    }
   ],
   "source": [
    "# checking status code before processing the response\n",
    "url = \"https://api.github.com/events\"\n",
    "req = requests.get(url)\n",
    "\n",
    "if req.status_code == 200:\n",
    "    print(\"Success\")\n",
    "    json_data = req.json()\n",
    "    # print(f\"\\n{json_data}\")\n",
    "else:\n",
    "    print(f\"Error with status {req.status_code}\")"
   ]
  },
  {
   "cell_type": "markdown",
   "metadata": {},
   "source": [
    "## Streaming Response"
   ]
  },
  {
   "cell_type": "code",
   "execution_count": 11,
   "metadata": {},
   "outputs": [
    {
     "name": "stdout",
     "output_type": "stream",
     "text": [
      "Total percent completed: 3.12% written: b'[{\"id\":\"44277243140\",\"type\":\"Pus'\n",
      "Total percent completed: 6.25% written: b'hEvent\",\"actor\":{\"id\":41898282,\"'\n",
      "Total percent completed: 9.38% written: b'login\":\"github-actions[bot]\",\"di'\n",
      "Total percent completed: 12.50% written: b'splay_login\":\"github-actions\",\"g'\n",
      "Total percent completed: 15.62% written: b'ravatar_id\":\"\",\"url\":\"https://ap'\n",
      "Total percent completed: 18.75% written: b'i.github.com/users/github-action'\n",
      "Total percent completed: 21.88% written: b's[bot]\",\"avatar_url\":\"https://av'\n",
      "Total percent completed: 25.00% written: b'atars.githubusercontent.com/u/41'\n",
      "Total percent completed: 28.12% written: b'898282?\"},\"repo\":{\"id\":865555692'\n",
      "Total percent completed: 31.25% written: b',\"name\":\"heytrgithub/degisiklik-'\n",
      "Total percent completed: 34.38% written: b'yapan-sistem-4-2\",\"url\":\"https:/'\n",
      "Total percent completed: 37.50% written: b'/api.github.com/repos/heytrgithu'\n",
      "Total percent completed: 40.62% written: b'b/degisiklik-yapan-sistem-4-2\"},'\n",
      "Total percent completed: 43.75% written: b'\"payload\":{\"repository_id\":86555'\n",
      "Total percent completed: 46.88% written: b'5692,\"push_id\":21442816574,\"size'\n",
      "Total percent completed: 50.00% written: b'\":1,\"distinct_size\":1,\"ref\":\"ref'\n",
      "Total percent completed: 53.12% written: b's/heads/main\",\"head\":\"1ecf688b0c'\n",
      "Total percent completed: 56.25% written: b'40a431daa38d4893b05a1965995035\",'\n",
      "Total percent completed: 59.38% written: b'\"before\":\"6676e601c13de05a8ad738'\n",
      "Total percent completed: 62.50% written: b'7a6895666ffe78793f\",\"commits\":[{'\n",
      "Total percent completed: 65.62% written: b'\"sha\":\"1ecf688b0c40a431daa38d489'\n",
      "Total percent completed: 68.75% written: b'3b05a1965995035\",\"author\":{\"emai'\n",
      "Total percent completed: 71.88% written: b'l\":\"heytrgithub@users.noreply.gi'\n",
      "Total percent completed: 75.00% written: b'thub.com\",\"name\":\"heytrgithub\"},'\n",
      "Total percent completed: 78.12% written: b'\"message\":\"[\\xe2\\x9e\\x95] G\\xc3\\xbcncelleme\",\"d'\n",
      "Total percent completed: 81.25% written: b'istinct\":true,\"url\":\"https://api'\n",
      "Total percent completed: 84.38% written: b'.github.com/repos/heytrgithub/de'\n",
      "Total percent completed: 87.50% written: b'gisiklik-yapan-sistem-4-2/commit'\n",
      "Total percent completed: 90.62% written: b's/1ecf688b0c40a431daa38d4893b05a'\n",
      "Total percent completed: 93.75% written: b'1965995035\"}]},\"public\":true,\"cr'\n",
      "Total percent completed: 96.88% written: b'eated_at\":\"2024-11-28T08:24:55Z\"'\n",
      "Total percent completed: 100.00% written: b'},{\"id\":\"44277243142\",\"type\":\"Re'\n",
      "File size limit reached.\n"
     ]
    }
   ],
   "source": [
    "raw_response = requests.get(\"http://api.github.com/events\", stream=True)\n",
    "\n",
    "BYTE_COUNT = 0\n",
    "MAX_BYTE = 1024\n",
    "CHUNK_SIZE = 32\n",
    "\n",
    "with open(\"raw_response\", \"wb\") as fd:\n",
    "    for chunk in raw_response.iter_content(chunk_size=CHUNK_SIZE):\n",
    "        BYTE_COUNT += len(chunk)\n",
    "        \n",
    "        if BYTE_COUNT > MAX_BYTE:\n",
    "            print(f\"File size limit reached.\")\n",
    "            break\n",
    "        fd.write(chunk)\n",
    "        percent_written = (BYTE_COUNT / MAX_BYTE) * 100\n",
    "        print(f\"Total percent completed: {percent_written:.2f}% written: {chunk}\")"
   ]
  },
  {
   "cell_type": "markdown",
   "metadata": {},
   "source": [
    "## Custom Headers"
   ]
  },
  {
   "cell_type": "code",
   "execution_count": 12,
   "metadata": {},
   "outputs": [],
   "source": [
    "url = \"https://api.github.com/some/endpoint\""
   ]
  },
  {
   "cell_type": "code",
   "execution_count": 13,
   "metadata": {},
   "outputs": [
    {
     "data": {
      "text/plain": [
       "'https://api.github.com/some/endpoint'"
      ]
     },
     "execution_count": 13,
     "metadata": {},
     "output_type": "execute_result"
    }
   ],
   "source": [
    "headers = {\n",
    "    \"user-agent\": \"my-app/0.0.1\",\n",
    "    \"sender-name\" : \"XXXXXXXX\"\n",
    "}\n",
    "\n",
    "response = requests.get(url, headers=headers)\n",
    "response.url"
   ]
  },
  {
   "cell_type": "markdown",
   "metadata": {},
   "source": [
    "### Request Header"
   ]
  },
  {
   "cell_type": "code",
   "execution_count": 14,
   "metadata": {},
   "outputs": [
    {
     "name": "stdout",
     "output_type": "stream",
     "text": [
      "user-agent : my-app/0.0.1\n",
      "Accept-Encoding : gzip, deflate\n",
      "Accept : */*\n",
      "Connection : keep-alive\n",
      "sender-name : XXXXXXXX\n"
     ]
    }
   ],
   "source": [
    "for key, value in response.request.headers.items():\n",
    "    print(f\"{key} : {value}\")"
   ]
  },
  {
   "cell_type": "markdown",
   "metadata": {},
   "source": [
    "### Response Header"
   ]
  },
  {
   "cell_type": "code",
   "execution_count": 15,
   "metadata": {},
   "outputs": [
    {
     "name": "stdout",
     "output_type": "stream",
     "text": [
      "Date : Thu, 28 Nov 2024 08:29:42 GMT\n",
      "Content-Type : application/json; charset=utf-8\n",
      "X-GitHub-Media-Type : github.v3; format=json\n",
      "x-github-api-version-selected : 2022-11-28\n",
      "Access-Control-Expose-Headers : ETag, Link, Location, Retry-After, X-GitHub-OTP, X-RateLimit-Limit, X-RateLimit-Remaining, X-RateLimit-Used, X-RateLimit-Resource, X-RateLimit-Reset, X-OAuth-Scopes, X-Accepted-OAuth-Scopes, X-Poll-Interval, X-GitHub-Media-Type, X-GitHub-SSO, X-GitHub-Request-Id, Deprecation, Sunset\n",
      "Access-Control-Allow-Origin : *\n",
      "Strict-Transport-Security : max-age=31536000; includeSubdomains; preload\n",
      "X-Frame-Options : deny\n",
      "X-Content-Type-Options : nosniff\n",
      "X-XSS-Protection : 0\n",
      "Referrer-Policy : origin-when-cross-origin, strict-origin-when-cross-origin\n",
      "Content-Security-Policy : default-src 'none'\n",
      "Vary : Accept-Encoding, Accept, X-Requested-With\n",
      "Content-Encoding : gzip\n",
      "Server : github.com\n",
      "X-RateLimit-Limit : 60\n",
      "X-RateLimit-Remaining : 32\n",
      "X-RateLimit-Reset : 1732783753\n",
      "X-RateLimit-Resource : core\n",
      "X-RateLimit-Used : 28\n",
      "Content-Length : 101\n",
      "X-GitHub-Request-Id : 8AAE:267A86:A903CF:BFF4E5:67482A08\n"
     ]
    }
   ],
   "source": [
    "for header_key, header_value in response.headers.items():\n",
    "    print(f\"{header_key} : {header_value}\")"
   ]
  },
  {
   "cell_type": "markdown",
   "metadata": {},
   "source": [
    "## More Complicated POST request"
   ]
  },
  {
   "cell_type": "code",
   "execution_count": 16,
   "metadata": {},
   "outputs": [
    {
     "data": {
      "text/plain": [
       "<Response [200]>"
      ]
     },
     "execution_count": 16,
     "metadata": {},
     "output_type": "execute_result"
    }
   ],
   "source": [
    "payload = {\n",
    "    \"id\": 123,\n",
    "    \"user\": \"John Doe\",\n",
    "    \"description\": \"A simple request with payload.\"\n",
    "}\n",
    "url = \"http://httpbin.org/post\"\n",
    "\n",
    "response = requests.post(url, data=payload)\n",
    "\n",
    "response"
   ]
  },
  {
   "cell_type": "code",
   "execution_count": 17,
   "metadata": {},
   "outputs": [
    {
     "name": "stdout",
     "output_type": "stream",
     "text": [
      "{\n",
      "  \"args\": {}, \n",
      "  \"data\": \"\", \n",
      "  \"files\": {}, \n",
      "  \"form\": {\n",
      "    \"description\": \"A simple request with payload.\", \n",
      "    \"id\": \"123\", \n",
      "    \"user\": \"John Doe\"\n",
      "  }, \n",
      "  \"headers\": {\n",
      "    \"Accept\": \"*/*\", \n",
      "    \"Accept-Encoding\": \"gzip, deflate\", \n",
      "    \"Content-Length\": \"63\", \n",
      "    \"Content-Type\": \"application/x-www-form-urlencoded\", \n",
      "    \"Host\": \"httpbin.org\", \n",
      "    \"User-Agent\": \"python-requests/2.31.0\", \n",
      "    \"X-Amzn-Trace-Id\": \"Root=1-67482a09-52de07d14fa2134c5b858570\"\n",
      "  }, \n",
      "  \"json\": null, \n",
      "  \"origin\": \"27.34.68.163\", \n",
      "  \"url\": \"http://httpbin.org/post\"\n",
      "}\n",
      "\n"
     ]
    }
   ],
   "source": [
    "print(response.text)"
   ]
  },
  {
   "cell_type": "code",
   "execution_count": 18,
   "metadata": {},
   "outputs": [
    {
     "name": "stdout",
     "output_type": "stream",
     "text": [
      "Response: \n",
      "{\n",
      "  \"args\": {}, \n",
      "  \"data\": \"\", \n",
      "  \"files\": {}, \n",
      "  \"form\": {\n",
      "    \"description\": \"a simple request with payload.\", \n",
      "    \"id\": [\n",
      "      \"123\", \n",
      "      \"000\"\n",
      "    ], \n",
      "    \"user\": \"John Doe\"\n",
      "  }, \n",
      "  \"headers\": {\n",
      "    \"Accept\": \"*/*\", \n",
      "    \"Accept-Encoding\": \"gzip, deflate\", \n",
      "    \"Content-Length\": \"70\", \n",
      "    \"Content-Type\": \"application/x-www-form-urlencoded\", \n",
      "    \"Host\": \"httpbin.org\", \n",
      "    \"User-Agent\": \"python-requests/2.31.0\", \n",
      "    \"X-Amzn-Trace-Id\": \"Root=1-67482a0b-14dde7240cedc1b76068a6ca\"\n",
      "  }, \n",
      "  \"json\": null, \n",
      "  \"origin\": \"27.34.68.163\", \n",
      "  \"url\": \"https://httpbin.org/post\"\n",
      "}\n",
      "\n"
     ]
    }
   ],
   "source": [
    "payload_as_tuple = [(\"id\", \"123\"), (\"id\", \"000\"),(\"user\", \"John Doe\"), (\"description\", \"a simple request with payload.\")] # same key tuple will have array of value in form id.\n",
    "response = requests.post(\"https://httpbin.org/post\", data=payload_as_tuple)\n",
    "\n",
    "if response.status_code == 200:\n",
    "    print(f\"Response: \\n{response.text}\")"
   ]
  },
  {
   "cell_type": "code",
   "execution_count": 19,
   "metadata": {},
   "outputs": [
    {
     "data": {
      "text/plain": [
       "'{\"key\": \"value\"}'"
      ]
     },
     "execution_count": 19,
     "metadata": {},
     "output_type": "execute_result"
    }
   ],
   "source": [
    "import json\n",
    "\n",
    "json.dumps({\"key\":\"value\"})"
   ]
  },
  {
   "cell_type": "code",
   "execution_count": 20,
   "metadata": {},
   "outputs": [
    {
     "name": "stdout",
     "output_type": "stream",
     "text": [
      "{\n",
      "  \"args\": {}, \n",
      "  \"data\": \"This is a raw string\", \n",
      "  \"files\": {}, \n",
      "  \"form\": {}, \n",
      "  \"headers\": {\n",
      "    \"Accept\": \"*/*\", \n",
      "    \"Accept-Encoding\": \"gzip, deflate\", \n",
      "    \"Content-Length\": \"20\", \n",
      "    \"Host\": \"httpbin.org\", \n",
      "    \"User-Agent\": \"python-requests/2.31.0\", \n",
      "    \"X-Amzn-Trace-Id\": \"Root=1-67482a0e-4ab4251a6b1fbaf55a19d439\"\n",
      "  }, \n",
      "  \"json\": null, \n",
      "  \"origin\": \"27.34.68.163\", \n",
      "  \"url\": \"https://httpbin.org/post\"\n",
      "}\n",
      "\n"
     ]
    }
   ],
   "source": [
    "r = requests.post(\"https://httpbin.org/post\", data=\"This is a raw string\")\n",
    "\n",
    "print(r.text)"
   ]
  },
  {
   "cell_type": "code",
   "execution_count": 21,
   "metadata": {},
   "outputs": [
    {
     "name": "stdout",
     "output_type": "stream",
     "text": [
      "{\n",
      "  \"args\": {}, \n",
      "  \"data\": \"{\\\"some\\\": \\\"data\\\"}\", \n",
      "  \"files\": {}, \n",
      "  \"form\": {}, \n",
      "  \"headers\": {\n",
      "    \"Accept\": \"*/*\", \n",
      "    \"Accept-Encoding\": \"gzip, deflate\", \n",
      "    \"Content-Length\": \"16\", \n",
      "    \"Content-Type\": \"application/json\", \n",
      "    \"Host\": \"httpbin.org\", \n",
      "    \"User-Agent\": \"python-requests/2.31.0\", \n",
      "    \"X-Amzn-Trace-Id\": \"Root=1-67482a0f-1bae919a71fb26444b950a6e\"\n",
      "  }, \n",
      "  \"json\": {\n",
      "    \"some\": \"data\"\n",
      "  }, \n",
      "  \"origin\": \"27.34.68.163\", \n",
      "  \"url\": \"https://httpbin.org/post\"\n",
      "}\n",
      "\n"
     ]
    }
   ],
   "source": [
    "payload = {\"some\": \"data\"}\n",
    "\n",
    "response_content = requests.post(\n",
    "    \"https://httpbin.org/post\",\n",
    "    json=payload # content type application/json\n",
    ")\n",
    "\n",
    "print(response_content.text)"
   ]
  },
  {
   "cell_type": "markdown",
   "metadata": {},
   "source": [
    "## Headers"
   ]
  },
  {
   "cell_type": "code",
   "execution_count": 22,
   "metadata": {},
   "outputs": [
    {
     "name": "stdout",
     "output_type": "stream",
     "text": [
      "{'Date': 'Thu, 28 Nov 2024 08:30:04 GMT', 'Content-Type': 'application/json', 'Content-Length': '583', 'Connection': 'keep-alive', 'Server': 'gunicorn/19.9.0', 'Access-Control-Allow-Origin': '*', 'Access-Control-Allow-Credentials': 'true'}\n"
     ]
    }
   ],
   "source": [
    "print(response.headers)"
   ]
  },
  {
   "cell_type": "code",
   "execution_count": 23,
   "metadata": {},
   "outputs": [
    {
     "data": {
      "text/plain": [
       "'application/json'"
      ]
     },
     "execution_count": 23,
     "metadata": {},
     "output_type": "execute_result"
    }
   ],
   "source": [
    "response.headers[\"Content-Type\"]"
   ]
  },
  {
   "cell_type": "code",
   "execution_count": 24,
   "metadata": {},
   "outputs": [
    {
     "data": {
      "text/plain": [
       "'application/json'"
      ]
     },
     "execution_count": 24,
     "metadata": {},
     "output_type": "execute_result"
    }
   ],
   "source": [
    "response.headers.get(\"Content-Type\")"
   ]
  },
  {
   "cell_type": "markdown",
   "metadata": {},
   "source": [
    "## Cookies"
   ]
  },
  {
   "cell_type": "code",
   "execution_count": 25,
   "metadata": {},
   "outputs": [],
   "source": [
    "# url = \"http://example.com/some/cookie/setting/url\"\n",
    "\n",
    "# r = requests.get(url)\n",
    "# r.cookies[\"example_cookie_name\"]"
   ]
  },
  {
   "cell_type": "code",
   "execution_count": 26,
   "metadata": {},
   "outputs": [
    {
     "data": {
      "text/plain": [
       "{0: 'a', 1: 'b', 2: 'c'}"
      ]
     },
     "execution_count": 26,
     "metadata": {},
     "output_type": "execute_result"
    }
   ],
   "source": [
    "dict((k, v) for k, v in enumerate(\"abc\"))"
   ]
  },
  {
   "cell_type": "code",
   "execution_count": 27,
   "metadata": {},
   "outputs": [
    {
     "data": {
      "text/plain": [
       "{'key': 'value'}"
      ]
     },
     "execution_count": 27,
     "metadata": {},
     "output_type": "execute_result"
    }
   ],
   "source": [
    "dict(key=\"value\")"
   ]
  },
  {
   "cell_type": "code",
   "execution_count": 28,
   "metadata": {},
   "outputs": [
    {
     "name": "stdout",
     "output_type": "stream",
     "text": [
      "{\n",
      "  \"cookies\": {\n",
      "    \"cookies_are\": \"working\"\n",
      "  }\n",
      "}\n",
      "\n"
     ]
    }
   ],
   "source": [
    "url = \"https://httpbin.org/cookies\"\n",
    "cookies = dict(cookies_are=\"working\")\n",
    "\n",
    "r = requests.get(url, cookies=cookies)\n",
    "print(r.text)"
   ]
  },
  {
   "cell_type": "code",
   "execution_count": 29,
   "metadata": {},
   "outputs": [
    {
     "data": {
      "text/plain": [
       "'{\\n  \"cookies\": {\\n    \"tasty_cookie\": \"yum\"\\n  }\\n}\\n'"
      ]
     },
     "execution_count": 29,
     "metadata": {},
     "output_type": "execute_result"
    }
   ],
   "source": [
    "jar = requests.cookies.RequestsCookieJar()\n",
    "jar.set('tasty_cookie', 'yum', domain='httpbin.org', path='/cookies')\n",
    "jar.set('gross_cookie', 'blech', domain='httpbin.org', path='/elsewhere')\n",
    "url = 'https://httpbin.org/cookies'\n",
    "r = requests.get(url, cookies=jar)\n",
    "r.text"
   ]
  },
  {
   "cell_type": "code",
   "execution_count": 30,
   "metadata": {},
   "outputs": [
    {
     "name": "stdout",
     "output_type": "stream",
     "text": [
      "Error: HTTPSConnectionPool(host='github.com', port=443): Max retries exceeded with url: / (Caused by ConnectTimeoutError(<urllib3.connection.HTTPSConnection object at 0x000001B679ECD790>, 'Connection to github.com timed out. (connect timeout=0.001)'))\n"
     ]
    }
   ],
   "source": [
    "try:\n",
    "    requests.get(\"https://github.com\", timeout=0.001)\n",
    "except Exception as e:\n",
    "    print(f\"Error: {e}\")"
   ]
  }
 ],
 "metadata": {
  "kernelspec": {
   "display_name": "Python 3",
   "language": "python",
   "name": "python3"
  },
  "language_info": {
   "codemirror_mode": {
    "name": "ipython",
    "version": 3
   },
   "file_extension": ".py",
   "mimetype": "text/x-python",
   "name": "python",
   "nbconvert_exporter": "python",
   "pygments_lexer": "ipython3",
   "version": "3.12.1"
  }
 },
 "nbformat": 4,
 "nbformat_minor": 2
}
