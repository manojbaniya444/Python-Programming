{
 "cells": [
  {
   "cell_type": "markdown",
   "metadata": {},
   "source": [
    "## If statements\n",
    "```python\n",
    "if test1:\n",
    "    statement1\n",
    "elif test2:\n",
    "    statement2\n",
    "```\n",
    "\n"
   ]
  },
  {
   "cell_type": "code",
   "execution_count": 2,
   "metadata": {},
   "outputs": [
    {
     "name": "stdout",
     "output_type": "stream",
     "text": [
      "false\n"
     ]
    }
   ],
   "source": [
    "if not 1:\n",
    "    print(\"true\")\n",
    "else:\n",
    "    print(\"false\")"
   ]
  },
  {
   "cell_type": "code",
   "execution_count": 3,
   "metadata": {},
   "outputs": [
    {
     "name": "stdout",
     "output_type": "stream",
     "text": [
      "a is not 3 or 4\n"
     ]
    }
   ],
   "source": [
    "a = 7\n",
    "if a == 3:\n",
    "    print(\"a is 3\")\n",
    "elif a == 4:\n",
    "    print(\"a is 4\")\n",
    "elif a == 5:\n",
    "    print(\"a is 5\")\n",
    "else:\n",
    "    print(\"I dont know the number\")\n",
    "    "
   ]
  },
  {
   "cell_type": "code",
   "execution_count": 6,
   "metadata": {},
   "outputs": [
    {
     "name": "stdout",
     "output_type": "stream",
     "text": [
      "1\n"
     ]
    }
   ],
   "source": [
    "dictionary = {\n",
    "    \"a\": 1,\n",
    "    \"b\": 2\n",
    "}\n",
    "\n",
    "choice = \"a\"\n",
    "if choice in dictionary:\n",
    "    print(dictionary[choice])\n",
    "else:\n",
    "    print(\"Bad choice\")"
   ]
  },
  {
   "cell_type": "code",
   "execution_count": 7,
   "metadata": {},
   "outputs": [
    {
     "name": "stdout",
     "output_type": "stream",
     "text": [
      "1\n"
     ]
    }
   ],
   "source": [
    "try:\n",
    "    print(dictionary[choice])\n",
    "except keyError:\n",
    "    print(\"Bad choice\")"
   ]
  },
  {
   "cell_type": "code",
   "execution_count": 8,
   "metadata": {},
   "outputs": [],
   "source": [
    "# Open pair span\n",
    "list = [1,\n",
    "        2,\n",
    "        3,\n",
    "        4,\n",
    "        5]"
   ]
  },
  {
   "cell_type": "code",
   "execution_count": 9,
   "metadata": {},
   "outputs": [
    {
     "name": "stdout",
     "output_type": "stream",
     "text": [
      "Nice\n"
     ]
    }
   ],
   "source": [
    "# Backslash allow continuation\n",
    "\n",
    "a = b = c = d = 1\n",
    "e = True\n",
    "\n",
    "if a == b and c == d and \\\n",
    "    d ==e:\n",
    "        print(\"Nice\")"
   ]
  },
  {
   "cell_type": "code",
   "execution_count": 10,
   "metadata": {},
   "outputs": [
    {
     "name": "stdout",
     "output_type": "stream",
     "text": [
      "Nice\n"
     ]
    }
   ],
   "source": [
    "# But parentheses do too\n",
    "if (a == b and b == c and\n",
    "    c == d and d == e):\n",
    "    print(\"Nice\")"
   ]
  },
  {
   "cell_type": "code",
   "execution_count": 12,
   "metadata": {},
   "outputs": [],
   "source": [
    "long_string = \"\"\"\n",
    "Hey how are you # comments are not ignored here\n",
    "I am fine # another comment not ignore here\n",
    "\"\"\"\n",
    "\n",
    "long_string2 = (\n",
    "    \"Hey how are you\" # comments are ignore here\n",
    "    \"I am fine\" # another comment also ignore here\n",
    ")"
   ]
  },
  {
   "cell_type": "code",
   "execution_count": 13,
   "metadata": {},
   "outputs": [
    {
     "name": "stdout",
     "output_type": "stream",
     "text": [
      "Hurray\n"
     ]
    }
   ],
   "source": [
    "if 1: print(\"Hurray\") # simple statement on header"
   ]
  },
  {
   "cell_type": "code",
   "execution_count": 14,
   "metadata": {},
   "outputs": [
    {
     "data": {
      "text/plain": [
       "False"
      ]
     },
     "execution_count": 14,
     "metadata": {},
     "output_type": "execute_result"
    }
   ],
   "source": [
    "x = y = z = 1\n",
    "\n",
    "x and y # is true if x and y are true\n",
    "x or y # is true if x or y is true any one\n",
    "not x # if true false if false true"
   ]
  },
  {
   "cell_type": "markdown",
   "metadata": {},
   "source": [
    "For or test python evaluates the operand object from left to right and return the first one that is true. It stop at the first true operand it find and is usually called short circuit evaluation."
   ]
  },
  {
   "cell_type": "code",
   "execution_count": 22,
   "metadata": {},
   "outputs": [
    {
     "data": {
      "text/plain": [
       "(2, 3)"
      ]
     },
     "execution_count": 22,
     "metadata": {},
     "output_type": "execute_result"
    }
   ],
   "source": [
    "# True or True so first true\n",
    "\n",
    "2 or 3, 3 or 2"
   ]
  },
  {
   "cell_type": "code",
   "execution_count": 16,
   "metadata": {},
   "outputs": [
    {
     "data": {
      "text/plain": [
       "3"
      ]
     },
     "execution_count": 16,
     "metadata": {},
     "output_type": "execute_result"
    }
   ],
   "source": [
    "[] or 3 # empty object is false or 3 is true"
   ]
  },
  {
   "cell_type": "code",
   "execution_count": 21,
   "metadata": {},
   "outputs": [
    {
     "data": {
      "text/plain": [
       "{}"
      ]
     },
     "execution_count": 21,
     "metadata": {},
     "output_type": "execute_result"
    }
   ],
   "source": [
    "# Both false so right value\n",
    "\n",
    "[] or {}"
   ]
  },
  {
   "cell_type": "code",
   "execution_count": 20,
   "metadata": {},
   "outputs": [
    {
     "data": {
      "text/plain": [
       "({}, [], False, False)"
      ]
     },
     "execution_count": 20,
     "metadata": {},
     "output_type": "execute_result"
    }
   ],
   "source": [
    "# Here it return the right operand if both false\n",
    "\n",
    "False or {}, False or [], {} or False, [] or False"
   ]
  },
  {
   "cell_type": "code",
   "execution_count": 23,
   "metadata": {},
   "outputs": [],
   "source": [
    "# If else ternary\n",
    "\n",
    "if x:\n",
    "    y = 1\n",
    "else:\n",
    "    y = 2\n",
    "    \n",
    "y = 1 if x else 2"
   ]
  },
  {
   "cell_type": "code",
   "execution_count": 26,
   "metadata": {},
   "outputs": [
    {
     "data": {
      "text/plain": [
       "'Jane'"
      ]
     },
     "execution_count": 26,
     "metadata": {},
     "output_type": "execute_result"
    }
   ],
   "source": [
    "male = False\n",
    "\n",
    "name = \"Jeremy\" if male else \"Jane\"\n",
    "name"
   ]
  }
 ],
 "metadata": {
  "kernelspec": {
   "display_name": "Python 3",
   "language": "python",
   "name": "python3"
  },
  "language_info": {
   "codemirror_mode": {
    "name": "ipython",
    "version": 3
   },
   "file_extension": ".py",
   "mimetype": "text/x-python",
   "name": "python",
   "nbconvert_exporter": "python",
   "pygments_lexer": "ipython3",
   "version": "3.12.1"
  }
 },
 "nbformat": 4,
 "nbformat_minor": 2
}
