{
 "cells": [
  {
   "cell_type": "markdown",
   "metadata": {},
   "source": [
    "## Assignment Statement\n",
    "- Assignment create object references\n",
    "- Names are created when first assigned ( no need to predeclare name )\n",
    "- Names must be assigned before being referenced\n",
    "- Some operation perform assignment implicitly\n",
    "\n",
    "## some form of assignment\n",
    "\n",
    "```python\n",
    "spam = \"Spam\"\n",
    "spam, ham = \"Yum\", \"Yo\"\n",
    "[spam, ham] = [\"yum\", \"ham\"]\n",
    "a,b,c,d = 'spam'\n",
    "spam = ham = 'spam'\n",
    "spams += 10\n"
   ]
  },
  {
   "cell_type": "code",
   "execution_count": 1,
   "metadata": {},
   "outputs": [
    {
     "name": "stdout",
     "output_type": "stream",
     "text": [
      "a b c\n"
     ]
    }
   ],
   "source": [
    "# Unpacking\n",
    "seq = [\"a\",\"b\",\"c\"]\n",
    "a,b,c = seq\n",
    "print(a,b,c)"
   ]
  },
  {
   "cell_type": "code",
   "execution_count": 8,
   "metadata": {},
   "outputs": [
    {
     "data": {
      "text/plain": [
       "(1, [2, 3, 4, 5, 6, 7, 8, 9, 0])"
      ]
     },
     "execution_count": 8,
     "metadata": {},
     "output_type": "execute_result"
    }
   ],
   "source": [
    "seq = [1,2,3,4,5,6,7,8,9,0]\n",
    "\n",
    "a, *b = seq # a matches first and b mataches the rest\n",
    "a, b"
   ]
  },
  {
   "cell_type": "code",
   "execution_count": 13,
   "metadata": {},
   "outputs": [
    {
     "name": "stdout",
     "output_type": "stream",
     "text": [
      "[1, 2, 3, 4, 5, 6, 7, 8, 9] 0\n"
     ]
    }
   ],
   "source": [
    "*a, b = seq # b match last and a match other\n",
    "print(a,b)"
   ]
  },
  {
   "cell_type": "code",
   "execution_count": 14,
   "metadata": {},
   "outputs": [
    {
     "data": {
      "text/plain": [
       "('h', ['e', 'l', 'l'], 'o')"
      ]
     },
     "execution_count": 14,
     "metadata": {},
     "output_type": "execute_result"
    }
   ],
   "source": [
    "a, *b, c = 'hello'\n",
    "a, b, c"
   ]
  },
  {
   "cell_type": "code",
   "execution_count": 18,
   "metadata": {},
   "outputs": [
    {
     "name": "stdout",
     "output_type": "stream",
     "text": [
      "1 [2, 3, 4, 5, 6, 7]\n",
      "2 [3, 4, 5, 6, 7]\n",
      "3 [4, 5, 6, 7]\n",
      "4 [5, 6, 7]\n",
      "5 [6, 7]\n",
      "6 [7]\n",
      "7 []\n"
     ]
    }
   ],
   "source": [
    "l = [1,2,3,4,5,6,7]\n",
    "while l:\n",
    "    first, *l = l # each iteration l = [1:]\n",
    "    print(first, l)"
   ]
  },
  {
   "cell_type": "code",
   "execution_count": 19,
   "metadata": {},
   "outputs": [
    {
     "name": "stdout",
     "output_type": "stream",
     "text": [
      "1 [2, 3, 4] 0\n",
      "5 [6, 7, 8] 9\n"
     ]
    }
   ],
   "source": [
    "for (a, *b, c) in [(1,2,3,4,0),(5,6,7,8,9)]:\n",
    "    print(a,b,c)"
   ]
  },
  {
   "cell_type": "code",
   "execution_count": 20,
   "metadata": {},
   "outputs": [
    {
     "data": {
      "text/plain": [
       "([10], [10])"
      ]
     },
     "execution_count": 20,
     "metadata": {},
     "output_type": "execute_result"
    }
   ],
   "source": [
    "a = b = []\n",
    "b.append(10)\n",
    "a,b"
   ]
  },
  {
   "cell_type": "code",
   "execution_count": 21,
   "metadata": {},
   "outputs": [
    {
     "data": {
      "text/plain": [
       "([], [10])"
      ]
     },
     "execution_count": 21,
     "metadata": {},
     "output_type": "execute_result"
    }
   ],
   "source": [
    "a = []\n",
    "b = []\n",
    "b.append(10)\n",
    "a, b"
   ]
  },
  {
   "cell_type": "code",
   "execution_count": 23,
   "metadata": {},
   "outputs": [],
   "source": [
    "x = 1\n",
    "y = 2\n",
    "x = x + y\n",
    "x += y"
   ]
  },
  {
   "cell_type": "code",
   "execution_count": 24,
   "metadata": {},
   "outputs": [],
   "source": [
    "# Other Augmented Assignment\n",
    "\n",
    "x &= y\n",
    "x *= y\n",
    "x ^= y\n",
    "x /= y\n",
    "x -= y\n",
    "# and so on"
   ]
  },
  {
   "cell_type": "markdown",
   "metadata": {},
   "source": [
    "## Variable Name Rule\n",
    "- Syntax: (underscore or letter) + (any number of letters digits and symbol or underscore)\n",
    "- Case matter\n",
    "- Reserve word are not available\n",
    "\n",
    "## Some reserved words\n",
    "`False True None and as assert break class continue def del elig else finally for from global if import in is lambda not or raise return try with etc`\n",
    "\n",
    "## Naming convention to use\n",
    "- Names that begin with a single undercore (_x) are not imported by a from module import *\n",
    "- Names that have two leading and training undercores (__x__) are system defined names that have special meaning to the interpreter e.g __pycache__\n",
    "- Names that begin with two underscore __x are localized mangled to enclosing classes.\n",
    "- The name that is just a single underscore (_) retains the result of the last expression when we are working interactively."
   ]
  },
  {
   "cell_type": "markdown",
   "metadata": {},
   "source": [
    "## Print function"
   ]
  },
  {
   "cell_type": "code",
   "execution_count": 25,
   "metadata": {},
   "outputs": [
    {
     "name": "stdout",
     "output_type": "stream",
     "text": [
      "apple 10 0.12\n"
     ]
    }
   ],
   "source": [
    "a = \"apple\"\n",
    "b = 10\n",
    "c = 0.12\n",
    "print(a,b,c)"
   ]
  },
  {
   "cell_type": "code",
   "execution_count": 26,
   "metadata": {},
   "outputs": [
    {
     "name": "stdout",
     "output_type": "stream",
     "text": [
      "apple100.12\n"
     ]
    }
   ],
   "source": [
    "print(a, b, c, sep=\"\") # supress separator"
   ]
  },
  {
   "cell_type": "code",
   "execution_count": 27,
   "metadata": {},
   "outputs": [
    {
     "name": "stdout",
     "output_type": "stream",
     "text": [
      "apple, 10, 0.12\n"
     ]
    }
   ],
   "source": [
    "print(a, b, c, sep=\", \")"
   ]
  },
  {
   "cell_type": "code",
   "execution_count": 30,
   "metadata": {},
   "outputs": [
    {
     "name": "stdout",
     "output_type": "stream",
     "text": [
      "apple 10 0.12 Hey\n",
      " Hi"
     ]
    }
   ],
   "source": [
    "print(a, b, c, \"Hey\\n\", \"Hi\", end=\"\") # supress newline"
   ]
  },
  {
   "cell_type": "code",
   "execution_count": 31,
   "metadata": {},
   "outputs": [
    {
     "name": "stdout",
     "output_type": "stream",
     "text": [
      "Jane\n",
      "Diana\n"
     ]
    }
   ],
   "source": [
    "print(\"Jane\"); print(\"Diana\")"
   ]
  },
  {
   "cell_type": "code",
   "execution_count": 33,
   "metadata": {},
   "outputs": [
    {
     "name": "stdout",
     "output_type": "stream",
     "text": [
      "apple 10 0.12......\n"
     ]
    }
   ],
   "source": [
    "print(a, b, c, end=\"......\\n\") # custom"
   ]
  },
  {
   "cell_type": "code",
   "execution_count": 36,
   "metadata": {},
   "outputs": [
    {
     "name": "stdout",
     "output_type": "stream",
     "text": [
      "apple.....10.....0.12|"
     ]
    }
   ],
   "source": [
    "print(a, b, c, sep=\".....\", end=\"|\")"
   ]
  },
  {
   "cell_type": "code",
   "execution_count": 37,
   "metadata": {},
   "outputs": [],
   "source": [
    "# print(a,b,c,sep=\"..\", file = open(\"test.txt\", \"w\"))"
   ]
  },
  {
   "cell_type": "code",
   "execution_count": 40,
   "metadata": {},
   "outputs": [
    {
     "data": {
      "text/plain": [
       "'Hello and 10 and 0.1'"
      ]
     },
     "execution_count": 40,
     "metadata": {},
     "output_type": "execute_result"
    }
   ],
   "source": [
    "text = '%s and %d and %g' % (\"Hello\", 10, 0.10)\n",
    "text"
   ]
  },
  {
   "cell_type": "code",
   "execution_count": 44,
   "metadata": {},
   "outputs": [
    {
     "name": "stdout",
     "output_type": "stream",
     "text": [
      "Hello\n",
      "Hello\n"
     ]
    }
   ],
   "source": [
    "print(\"Hello\"); print(\"Hello\")"
   ]
  },
  {
   "cell_type": "code",
   "execution_count": 46,
   "metadata": {},
   "outputs": [
    {
     "name": "stdout",
     "output_type": "stream",
     "text": [
      "life is chill\n"
     ]
    }
   ],
   "source": [
    "print(\"%s %s %s\" % (\"life\", \"is\", \"chill\"))\n"
   ]
  },
  {
   "cell_type": "code",
   "execution_count": 49,
   "metadata": {},
   "outputs": [
    {
     "name": "stdout",
     "output_type": "stream",
     "text": [
      "life and is and happy\n"
     ]
    }
   ],
   "source": [
    "print(\"{0} and {1} and {2}\".format(\"life\", \"is\", \"happy\"))"
   ]
  }
 ],
 "metadata": {
  "kernelspec": {
   "display_name": "Python 3",
   "language": "python",
   "name": "python3"
  },
  "language_info": {
   "codemirror_mode": {
    "name": "ipython",
    "version": 3
   },
   "file_extension": ".py",
   "mimetype": "text/x-python",
   "name": "python",
   "nbconvert_exporter": "python",
   "pygments_lexer": "ipython3",
   "version": "3.12.1"
  }
 },
 "nbformat": 4,
 "nbformat_minor": 2
}
