{
 "cells": [
  {
   "cell_type": "markdown",
   "metadata": {},
   "source": [
    "## Introduction to Python Statements\n",
    "Statements are the things we write to tell python what our program should do or perform.\n",
    "\n",
    "## Python statements\n",
    "\n",
    "```python\n",
    "Assignment # for creating references\n",
    "a,b = 'good', 'bad'\n",
    "\n",
    "# Calls and other expressions for running functions\n",
    "log.write(\"spam, ham\")\n",
    "\n",
    "# print calls for printing objects\n",
    "print(\"The Killer\", Joke)\n",
    "\n",
    "# if/elif/else for selecting actions\n",
    "if 'python' in text:\n",
    "    print(text)\n",
    "\n",
    "# for/else for Iteration\n",
    "for x in mylist:\n",
    "    dosomething\n",
    "\n",
    "# while/else for general loops\n",
    "while x > y:\n",
    "    dosomething\n",
    "\n",
    "# pass as empty placeholder\n",
    "while True:\n",
    "    pass # for now\n",
    "\n",
    "# break to loop exit\n",
    "while True:\n",
    "    if a == 5: break\n",
    "\n",
    "# continue to skip loop\n",
    "for x in numlist:\n",
    "    if x == 1:\n",
    "        continue\n",
    "\n",
    "# def to create function\n",
    "def func(a,b):\n",
    "    pass\n",
    "\n",
    "# return to return function result\n",
    "def sum(a,b):\n",
    "    return a + b\n",
    "\n",
    "# yield for generator functions\n",
    "def gen(n):\n",
    "    for i in n: yield i * 2\n",
    "\n",
    "\n",
    "# global as namespace\n",
    "x = 'john'\n",
    "def function():\n",
    "    global x, y; x = 'jane'\n",
    "\n",
    "# nonlocal as namespace\n",
    "def outer():\n",
    "    x = 'inside'\n",
    "\n",
    "# import to access module\n",
    "import tensorflow\n",
    "\n",
    "# from for attribute access\n",
    "from tensorflow.keras import Layers\n",
    "\n",
    "# class for building objects\n",
    "class classA():\n",
    "    pass # method, attributes for object\n",
    "\n",
    "# try/finally/except for catching exception\n",
    "try:\n",
    "    action()\n",
    "except:\n",
    "    error()\n",
    "finally:\n",
    "    # what to do here\n",
    "\n",
    "# raise for triggering exceptions\n",
    "raise search(location)\n",
    "\n",
    "# assert for debugging checks\n",
    "assert a > b, \"a is small\"\n",
    "\n",
    "# with/as for context managers\n",
    "with open('data') as newFile:\n",
    "    do_something_with_newFile()\n",
    "\n",
    "# del for deleting references\n",
    "del data[a]\n",
    "del obj.attr\n",
    "del variable"
   ]
  },
  {
   "cell_type": "code",
   "execution_count": 1,
   "metadata": {},
   "outputs": [
    {
     "name": "stdout",
     "output_type": "stream",
     "text": [
      "3\n"
     ]
    }
   ],
   "source": [
    "a = 1; b = 2; print(a + b) # can squeeze in one line"
   ]
  },
  {
   "cell_type": "code",
   "execution_count": 3,
   "metadata": {},
   "outputs": [
    {
     "name": "stdout",
     "output_type": "stream",
     "text": [
      "a is greater than b\n"
     ]
    }
   ],
   "source": [
    "if a < b: print(\"a is greater than b\")"
   ]
  },
  {
   "cell_type": "code",
   "execution_count": 4,
   "metadata": {},
   "outputs": [
    {
     "name": "stdout",
     "output_type": "stream",
     "text": [
      "Hey\n",
      "How are you?\n",
      "What are you doing?\n"
     ]
    }
   ],
   "source": [
    "while True:\n",
    "    reply = input(\"Enter text and 'stop' to exit: \")\n",
    "    if reply == \"stop\": break\n",
    "    print(reply.capitalize())"
   ]
  },
  {
   "cell_type": "code",
   "execution_count": 7,
   "metadata": {},
   "outputs": [
    {
     "name": "stdout",
     "output_type": "stream",
     "text": [
      "9\n",
      "9\n",
      "digit only\n"
     ]
    }
   ],
   "source": [
    "# Handling Errors by Testing inputs\n",
    "\n",
    "while True:\n",
    "    reply = input(\"Enter digit: \")\n",
    "    if reply == 'stop': break\n",
    "    elif not reply.isdigit():\n",
    "        print('digit only')\n",
    "    else: print(int(reply) ** 2)\n"
   ]
  },
  {
   "cell_type": "code",
   "execution_count": 8,
   "metadata": {},
   "outputs": [
    {
     "name": "stdout",
     "output_type": "stream",
     "text": [
      "Need number\n",
      "27\n",
      "729\n",
      "1\n",
      "Need number\n",
      "Finish\n"
     ]
    }
   ],
   "source": [
    "# Handling errors with try statements\n",
    "\n",
    "while True:\n",
    "    reply = input(\"Enter text: \")\n",
    "    if reply == 'stop':\n",
    "        break\n",
    "    try:\n",
    "        num = int(reply)\n",
    "    except:\n",
    "        print(\"Need number\")\n",
    "    else:\n",
    "        print(num ** 3)\n",
    "print(\"Finish\")"
   ]
  },
  {
   "cell_type": "code",
   "execution_count": 9,
   "metadata": {},
   "outputs": [
    {
     "name": "stdout",
     "output_type": "stream",
     "text": [
      "400\n",
      "8100\n",
      "10000\n",
      "10000\n",
      "Too low\n",
      "Too high\n",
      "Finish\n"
     ]
    }
   ],
   "source": [
    "# Nesting\n",
    "\n",
    "while True:\n",
    "    reply = input(\"Enter text: \")\n",
    "    if reply == 'stop': break\n",
    "    elif not reply.isdigit(): print(\"Number\")\n",
    "    else:\n",
    "        num = int(reply)\n",
    "        if num < 20:\n",
    "            print(\"Too low\")\n",
    "        elif num > 100:\n",
    "            print(\"Too high\")\n",
    "        else:\n",
    "            print(num ** 2)\n",
    "\n",
    "print(\"Finish\")"
   ]
  }
 ],
 "metadata": {
  "kernelspec": {
   "display_name": "Python 3",
   "language": "python",
   "name": "python3"
  },
  "language_info": {
   "codemirror_mode": {
    "name": "ipython",
    "version": 3
   },
   "file_extension": ".py",
   "mimetype": "text/x-python",
   "name": "python",
   "nbconvert_exporter": "python",
   "pygments_lexer": "ipython3",
   "version": "3.12.1"
  }
 },
 "nbformat": 4,
 "nbformat_minor": 2
}
