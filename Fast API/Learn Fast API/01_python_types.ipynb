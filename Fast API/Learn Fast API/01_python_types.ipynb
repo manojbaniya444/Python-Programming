{
 "cells": [
  {
   "cell_type": "markdown",
   "metadata": {},
   "source": [
    "## 01: Python Type Hint with Typing and Pydantic"
   ]
  },
  {
   "cell_type": "code",
   "execution_count": 15,
   "metadata": {},
   "outputs": [
    {
     "name": "stdout",
     "output_type": "stream",
     "text": [
      "John Doe\n"
     ]
    }
   ],
   "source": [
    "def get_full_name(first_name, last_name):\n",
    "    full_name = first_name.title() + \" \" + last_name.title()\n",
    "    return full_name\n",
    "\n",
    "print(get_full_name(\"john\", \"doe\"))"
   ]
  },
  {
   "cell_type": "code",
   "execution_count": 16,
   "metadata": {},
   "outputs": [
    {
     "name": "stdout",
     "output_type": "stream",
     "text": [
      "John Doe\n"
     ]
    }
   ],
   "source": [
    "# adding type hint\n",
    "def get_full_name(first_name: str, last_name: str) -> str:\n",
    "    full_name = first_name.title() + \" \" + last_name.title()\n",
    "    return full_name\n",
    "\n",
    "print(get_full_name(\"john\", \"doe\"))"
   ]
  },
  {
   "cell_type": "code",
   "execution_count": 17,
   "metadata": {},
   "outputs": [],
   "source": [
    "# all type\n",
    "def get_items(\n",
    "    item_a: str,\n",
    "    item_b: int,\n",
    "    item_c: float,\n",
    "    item_e: bool,\n",
    "\n",
    "):\n",
    "    return item_a, item_b, item_c, item_e"
   ]
  },
  {
   "cell_type": "code",
   "execution_count": 18,
   "metadata": {},
   "outputs": [],
   "source": [
    "# generic types with type parameter\n",
    "def process_items(items: list[str]):\n",
    "    for item in items:\n",
    "        print(item)"
   ]
  },
  {
   "cell_type": "code",
   "execution_count": 19,
   "metadata": {},
   "outputs": [],
   "source": [
    "# process_items(12) # type parameter is just for hinting not for validation "
   ]
  },
  {
   "cell_type": "code",
   "execution_count": 20,
   "metadata": {},
   "outputs": [
    {
     "name": "stdout",
     "output_type": "stream",
     "text": [
      "Apple\n",
      "Banana\n",
      "Cherry\n"
     ]
    }
   ],
   "source": [
    "from typing import List\n",
    "\n",
    "def process_items(items: List[str]):\n",
    "    for item in items:\n",
    "        print(item.capitalize()) # will get type hints for str method because of type parameter string\n",
    "        \n",
    "process_items([\"apple\", \"banana\", \"cherry\"])"
   ]
  },
  {
   "cell_type": "code",
   "execution_count": 21,
   "metadata": {},
   "outputs": [
    {
     "data": {
      "text/plain": [
       "(('apple', 'banana', 12), {1, 2, 3})"
      ]
     },
     "execution_count": 21,
     "metadata": {},
     "output_type": "execute_result"
    }
   ],
   "source": [
    "# tuple and set\n",
    "def process_items(items_tuple: tuple[str, str, int], items_set: set[int]):\n",
    "    return items_tuple, items_set\n",
    "\n",
    "process_items((\"apple\", \"banana\", 12), {1, 2, 3})"
   ]
  },
  {
   "cell_type": "code",
   "execution_count": 22,
   "metadata": {},
   "outputs": [
    {
     "name": "stdout",
     "output_type": "stream",
     "text": [
      "Item: apple and Value: 1\n",
      "Item: banana and Value: 2\n",
      "Item: cherry and Value: 3\n"
     ]
    }
   ],
   "source": [
    "# for the dict\n",
    "def process_items(items_d: dict[str, int]): # first is key and second is value\n",
    "    for item, value in items_d.items():\n",
    "        print(f\"Item: {item} and Value: {value}\")\n",
    "        \n",
    "process_items({\"apple\": 1, \"banana\": 2, \"cherry\": 3})"
   ]
  },
  {
   "cell_type": "code",
   "execution_count": 23,
   "metadata": {},
   "outputs": [
    {
     "name": "stdout",
     "output_type": "stream",
     "text": [
      "apple\n",
      "12\n"
     ]
    }
   ],
   "source": [
    "# union to declare a variable of multiple type\n",
    "\n",
    "from typing import Union\n",
    "\n",
    "def process_items(item: Union[str, int]):\n",
    "    print(item)\n",
    "    \n",
    "process_items(\"apple\")\n",
    "process_items(12)"
   ]
  },
  {
   "cell_type": "code",
   "execution_count": 24,
   "metadata": {},
   "outputs": [
    {
     "name": "stdout",
     "output_type": "stream",
     "text": [
      "Hey Amy.\n",
      "Hey there.\n"
     ]
    }
   ],
   "source": [
    "# optional type\n",
    "from typing import Optional\n",
    "\n",
    "def say_hi(name: Optional[str] = None): # can also use Union[None, str]\n",
    "    if name is not None:\n",
    "        print(f\"Hey {name}.\")\n",
    "    else:\n",
    "        print(\"Hey there.\")\n",
    "        \n",
    "say_hi(\"Amy\")\n",
    "say_hi()"
   ]
  },
  {
   "cell_type": "code",
   "execution_count": 25,
   "metadata": {},
   "outputs": [
    {
     "name": "stdout",
     "output_type": "stream",
     "text": [
      "Hey Amy.\n"
     ]
    }
   ],
   "source": [
    "# another method for optional type\n",
    "def say_hi(name: str | None):\n",
    "    print(f\"Hey {name}.\")\n",
    "    \n",
    "say_hi(\"Amy\")"
   ]
  },
  {
   "cell_type": "code",
   "execution_count": 26,
   "metadata": {},
   "outputs": [],
   "source": [
    "# classes as types\n",
    "class Person:\n",
    "    def __init__(self, name: str):\n",
    "        self.name = name\n",
    "    \n",
    "def get_person_name(person: Person):\n",
    "    return person.name"
   ]
  },
  {
   "cell_type": "code",
   "execution_count": 27,
   "metadata": {},
   "outputs": [
    {
     "name": "stdout",
     "output_type": "stream",
     "text": [
      "id=123 name='John Doe' signup_ts=datetime.datetime(2017, 6, 1, 12, 22) friends=[1, 2, 3]\n"
     ]
    }
   ],
   "source": [
    "# Pydantic: library to perform data validation.\n",
    "# Here we declare the shape of the data as classes with attributes and each attribute has type.\n",
    "\n",
    "from datetime import datetime\n",
    "from typing import Union\n",
    "\n",
    "from pydantic import BaseModel\n",
    "\n",
    "class User(BaseModel):\n",
    "    id: int\n",
    "    name: str = \"John Doe\"\n",
    "    signup_ts: Union[datetime, None] = None\n",
    "    friends: list[int] = []\n",
    "    \n",
    "external_data = {\n",
    "    \"id\": \"123\",\n",
    "    \"signup_ts\": \"2017-06-01 12:22\",\n",
    "    \"friends\": [1, \"2\", b\"3\"],\n",
    "}\n",
    "\n",
    "user = User(**external_data)\n",
    "print(user)"
   ]
  },
  {
   "cell_type": "code",
   "execution_count": 28,
   "metadata": {},
   "outputs": [
    {
     "data": {
      "text/plain": [
       "'Hello bob'"
      ]
     },
     "execution_count": 28,
     "metadata": {},
     "output_type": "execute_result"
    }
   ],
   "source": [
    "# metadata annotation\n",
    "from typing import Annotated\n",
    "\n",
    "# for now annotated metadata is not used but used in fastapi later for better\n",
    "def say_hello(name: Annotated[str, \"give name of person to say hello\"]) -> str:\n",
    "    return f\"Hello {name}\"\n",
    "\n",
    "say_hello(\"bob\")"
   ]
  }
 ],
 "metadata": {
  "kernelspec": {
   "display_name": "Python 3",
   "language": "python",
   "name": "python3"
  },
  "language_info": {
   "codemirror_mode": {
    "name": "ipython",
    "version": 3
   },
   "file_extension": ".py",
   "mimetype": "text/x-python",
   "name": "python",
   "nbconvert_exporter": "python",
   "pygments_lexer": "ipython3",
   "version": "3.12.1"
  }
 },
 "nbformat": 4,
 "nbformat_minor": 2
}
