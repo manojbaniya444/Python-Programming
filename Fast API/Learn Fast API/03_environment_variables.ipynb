{
 "cells": [
  {
   "cell_type": "markdown",
   "metadata": {},
   "source": [
    "## 3: Environment variable\n",
    "They are useful for handling application settings as part of installation of python.\n",
    "\n",
    "We can create and use environment variables in the shell without needing python.\n",
    "\n",
    "```bash\n",
    "$Env:MY_NAME = \"JOHN DOE\"\n",
    "\n",
    "echo \"Hello $Env:MY_NAME\"\n",
    "```"
   ]
  },
  {
   "cell_type": "code",
   "execution_count": 3,
   "metadata": {},
   "outputs": [
    {
     "name": "stdout",
     "output_type": "stream",
     "text": [
      "Hello, Alice\n"
     ]
    }
   ],
   "source": [
    "# reading env vars in python\n",
    "import os\n",
    "\n",
    "os.environ[\"MY_NAME\"] = \"Alice\" # setting env var\n",
    "name = os.getenv(\"MY_NAME\", \"World\") # default is world\n",
    "\n",
    "print(f\"Hello, {name}\")"
   ]
  }
 ],
 "metadata": {
  "kernelspec": {
   "display_name": "Python 3",
   "language": "python",
   "name": "python3"
  },
  "language_info": {
   "codemirror_mode": {
    "name": "ipython",
    "version": 3
   },
   "file_extension": ".py",
   "mimetype": "text/x-python",
   "name": "python",
   "nbconvert_exporter": "python",
   "pygments_lexer": "ipython3",
   "version": "3.12.1"
  }
 },
 "nbformat": 4,
 "nbformat_minor": 2
}
