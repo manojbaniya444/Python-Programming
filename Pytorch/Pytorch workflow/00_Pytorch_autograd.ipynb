{
 "cells": [
  {
   "cell_type": "markdown",
   "metadata": {},
   "source": [
    "## AutoGrad"
   ]
  },
  {
   "cell_type": "code",
   "execution_count": 81,
   "metadata": {},
   "outputs": [],
   "source": [
    "import torch"
   ]
  },
  {
   "cell_type": "markdown",
   "metadata": {},
   "source": [
    "#### Simple gradient calculation"
   ]
  },
  {
   "cell_type": "code",
   "execution_count": 85,
   "metadata": {},
   "outputs": [
    {
     "name": "stdout",
     "output_type": "stream",
     "text": [
      "Gradient at first: tensor([12.])\n",
      "Without reseting the gradient: tensor([24.])\n",
      "After clearing gradient: tensor([12.])\n"
     ]
    }
   ],
   "source": [
    "x = torch.tensor([2], dtype=torch.float32, requires_grad=True)\n",
    "y = x**3\n",
    "\n",
    "y.backward() # compute derivative : 3x^2\n",
    "print(f\"Gradient at first: {x.grad}\") # 12\n",
    "\n",
    "y = x**3\n",
    "y.backward()\n",
    "print(f\"Without reseting the gradient: {x.grad}\") # 24 gradient will accumulate\n",
    "\n",
    "# gradient reset\n",
    "x.grad.zero_() # this will make gradient 0\n",
    "\n",
    "y = x**3\n",
    "y.backward() # calculate gradient]\n",
    "print(f\"After clearing gradient: {x.grad}\") # 12"
   ]
  },
  {
   "cell_type": "markdown",
   "metadata": {},
   "source": [
    "#### Chain Rule"
   ]
  },
  {
   "cell_type": "code",
   "execution_count": 86,
   "metadata": {},
   "outputs": [
    {
     "name": "stdout",
     "output_type": "stream",
     "text": [
      "Derivative of z wrt x: tensor([2.])\n"
     ]
    }
   ],
   "source": [
    "x = torch.tensor([1], dtype=torch.float32, requires_grad=True)\n",
    "y = x**2\n",
    "z = y\n",
    "\n",
    "z.backward() # dz/dx = dz/dy * dy/dx = 1 * 2x = 2x = 2\n",
    "print(f\"Derivative of z wrt x: {x.grad}\")"
   ]
  },
  {
   "cell_type": "markdown",
   "metadata": {},
   "source": [
    "#### Partial Derivative"
   ]
  },
  {
   "cell_type": "code",
   "execution_count": 101,
   "metadata": {},
   "outputs": [
    {
     "data": {
      "text/plain": [
       "tensor([1., 4., 9.], grad_fn=<PowBackward0>)"
      ]
     },
     "execution_count": 101,
     "metadata": {},
     "output_type": "execute_result"
    }
   ],
   "source": [
    "x = torch.tensor([1,2,3], dtype=torch.float32, requires_grad=True)\n",
    "y = x**2 # y = x1**2 , x2**2, x3 **2\n",
    "\n",
    "y"
   ]
  },
  {
   "cell_type": "code",
   "execution_count": 102,
   "metadata": {},
   "outputs": [],
   "source": [
    "z = y.mean() # z = (x1**2 + x2**2, x3**2) / 3"
   ]
  },
  {
   "cell_type": "code",
   "execution_count": 103,
   "metadata": {},
   "outputs": [
    {
     "data": {
      "text/plain": [
       "tensor(4.6667, grad_fn=<MeanBackward0>)"
      ]
     },
     "execution_count": 103,
     "metadata": {},
     "output_type": "execute_result"
    }
   ],
   "source": [
    "z"
   ]
  },
  {
   "cell_type": "code",
   "execution_count": 104,
   "metadata": {},
   "outputs": [],
   "source": [
    "z.backward()"
   ]
  },
  {
   "cell_type": "code",
   "execution_count": 105,
   "metadata": {},
   "outputs": [
    {
     "name": "stdout",
     "output_type": "stream",
     "text": [
      "Derivative of z wrt x1 : 0.6666666865348816\n",
      "Derivative of z wrt x2 : 1.3333333730697632\n",
      "Derivative of z wrt x3 : 2.0\n"
     ]
    }
   ],
   "source": [
    "for i, x in enumerate(x.grad):\n",
    "    print(f\"Derivative of z wrt x{i + 1} : {x}\")"
   ]
  },
  {
   "cell_type": "markdown",
   "metadata": {},
   "source": [
    "In this way we can calculate the gradient using the pytorch autograd method and is useful in training the model in machine learning"
   ]
  },
  {
   "cell_type": "markdown",
   "metadata": {},
   "source": [
    "## Doing it from scratch"
   ]
  },
  {
   "cell_type": "code",
   "execution_count": 1,
   "metadata": {},
   "outputs": [],
   "source": [
    "def dy_dx(x):\n",
    "    return 2 * x # for y = x^2"
   ]
  },
  {
   "cell_type": "code",
   "execution_count": 2,
   "metadata": {},
   "outputs": [
    {
     "data": {
      "text/plain": [
       "6"
      ]
     },
     "execution_count": 2,
     "metadata": {},
     "output_type": "execute_result"
    }
   ],
   "source": [
    "dy_dx(3)"
   ]
  },
  {
   "cell_type": "code",
   "execution_count": 3,
   "metadata": {},
   "outputs": [],
   "source": [
    "import math\n",
    "\n",
    "def dz_dx(x): # chaining dz/dx = dz/dy * dy/dx = cos(y) * 2x = cos(x^2) * 2x\n",
    "    return 2 * x * math.cos(x**2) # for z = sin(y)"
   ]
  },
  {
   "cell_type": "code",
   "execution_count": 4,
   "metadata": {},
   "outputs": [
    {
     "data": {
      "text/plain": [
       "-5.466781571308061"
      ]
     },
     "execution_count": 4,
     "metadata": {},
     "output_type": "execute_result"
    }
   ],
   "source": [
    "dz_dx(3)"
   ]
  },
  {
   "cell_type": "markdown",
   "metadata": {},
   "source": [
    "So the complexities increase when the chain rule is large for multiple variable."
   ]
  },
  {
   "cell_type": "markdown",
   "metadata": {},
   "source": [
    "## A simple Neural Network"
   ]
  },
  {
   "cell_type": "code",
   "execution_count": 5,
   "metadata": {},
   "outputs": [],
   "source": [
    "original_data = {\n",
    "    \"cgpa\": [3.0, 3.5, 4.0, 4.5, 5.0, 9.0, 9.5, 4.1, 6.5],\n",
    "    \"salary\": [25000, 40000, 38000, 50000, 50000, 100000, 101000, 36000, 60000]\n",
    "}"
   ]
  },
  {
   "cell_type": "markdown",
   "metadata": {},
   "source": [
    "### Training Process\n",
    "- **Forward Progagation** : Compute the outpu tof the network given an input.\n",
    "- **Calculate Loss** : Calculate the loss function to quantify the error.\n",
    "- **Backward Propagation** : Compute gradients of the loss wit h respect to the parameters involved.\n",
    "- **Update Gradients**: Adjust the parameters using an optimization algorithm like gradient descent."
   ]
  },
  {
   "cell_type": "markdown",
   "metadata": {},
   "source": [
    "#### Normalization\n",
    "$$\n",
    "x_{\\text{normalized}} = \\frac{x - x_{\\text{min}}}{x_{\\text{max}} - x_{\\text{min}}}\n",
    "$$"
   ]
  },
  {
   "cell_type": "code",
   "execution_count": 6,
   "metadata": {},
   "outputs": [],
   "source": [
    "# Normalize the data\n",
    "def normalize(data):\n",
    "    for key in data:\n",
    "        data[key] = [(value - min(data[key])) / (max(data[key]) - min(data[key])) for value in data[key]]"
   ]
  },
  {
   "cell_type": "code",
   "execution_count": 7,
   "metadata": {},
   "outputs": [],
   "source": [
    "data = original_data.copy()\n",
    "normalize(data)"
   ]
  },
  {
   "cell_type": "code",
   "execution_count": 8,
   "metadata": {},
   "outputs": [
    {
     "data": {
      "text/plain": [
       "[0.0,\n",
       " 0.07692307692307693,\n",
       " 0.15384615384615385,\n",
       " 0.23076923076923078,\n",
       " 0.3076923076923077]"
      ]
     },
     "execution_count": 8,
     "metadata": {},
     "output_type": "execute_result"
    }
   ],
   "source": [
    "data[\"cgpa\"][:5]"
   ]
  },
  {
   "cell_type": "code",
   "execution_count": 9,
   "metadata": {},
   "outputs": [],
   "source": [
    "x = data[\"cgpa\"]\n",
    "y = data[\"salary\"]"
   ]
  },
  {
   "cell_type": "markdown",
   "metadata": {},
   "source": [
    "#### Parameter\n",
    "Initilaizing random parameter for our network first"
   ]
  },
  {
   "cell_type": "code",
   "execution_count": 10,
   "metadata": {},
   "outputs": [],
   "source": [
    "import random\n",
    "\n",
    "weight = random.uniform(0, 1)\n",
    "bias = random.uniform(0, 1)\n",
    "learning_rate = 0.1"
   ]
  },
  {
   "cell_type": "markdown",
   "metadata": {},
   "source": [
    "#### Activation function\n",
    "Using linear activation function for regression"
   ]
  },
  {
   "cell_type": "code",
   "execution_count": 11,
   "metadata": {},
   "outputs": [],
   "source": [
    "def linear(x):\n",
    "    return x"
   ]
  },
  {
   "cell_type": "markdown",
   "metadata": {},
   "source": [
    "#### loss function\n",
    "MSE for regression algorithm"
   ]
  },
  {
   "cell_type": "code",
   "execution_count": 12,
   "metadata": {},
   "outputs": [],
   "source": [
    "def mse(y_true, y_pred):\n",
    "    error = (y_true - y_pred)**2\n",
    "    return error"
   ]
  },
  {
   "cell_type": "markdown",
   "metadata": {},
   "source": [
    "#### Backprop\n",
    "backpropagation and gradient descent"
   ]
  },
  {
   "cell_type": "code",
   "execution_count": 13,
   "metadata": {},
   "outputs": [],
   "source": [
    "def gradient(y_true: int, y_pred: int, x: int): # dE/dw = -2(y - y_pred) * x\n",
    "    d_error = - 2 * (y_true - y_pred)\n",
    "    grad_x = d_error * x\n",
    "    grad_bias = d_error # dE/db = -2(y - y_pred)\n",
    "    # returning the gradient for the data point\n",
    "    return grad_x, grad_bias"
   ]
  },
  {
   "cell_type": "markdown",
   "metadata": {},
   "source": [
    "## Custom training"
   ]
  },
  {
   "cell_type": "code",
   "execution_count": 14,
   "metadata": {},
   "outputs": [
    {
     "name": "stdout",
     "output_type": "stream",
     "text": [
      "Epoch: 1, Loss: 0.29624992411668993\n",
      "Epoch: 2, Loss: 0.08353300266716554\n",
      "Epoch: 3, Loss: 0.06889527619893038\n",
      "Epoch: 4, Loss: 0.06004100176733607\n",
      "Epoch: 5, Loss: 0.053826068012487044\n",
      "Epoch: 6, Loss: 0.04942215959779458\n",
      "Epoch: 7, Loss: 0.046277526373982955\n",
      "Epoch: 8, Loss: 0.04401265938987557\n",
      "Epoch: 9, Loss: 0.042366298143812514\n",
      "Epoch: 10, Loss: 0.04115795252812685\n"
     ]
    }
   ],
   "source": [
    "EPOCHS = 10\n",
    "\n",
    "for epoch in range(EPOCHS):\n",
    "    total_loss = 0\n",
    "    for i in range(len(x)): # training loop for each data point\n",
    "\n",
    "        # forward propagation\n",
    "        y_hat = linear(x[i] * weight + bias)\n",
    "        \n",
    "        # error calculation (loss of model)\n",
    "        loss = mse(y[i], y_hat)\n",
    "        total_loss = total_loss + loss # total loss of model\n",
    "        \n",
    "        # Backward pass (Gradient Descent)\n",
    "        del_x, del_bias = gradient(y[i], y_hat, x[i])\n",
    "        \n",
    "        # Update the weights and bias\n",
    "        new_weight = weight - learning_rate * del_x\n",
    "        new_bias = bias - learning_rate * del_bias\n",
    "        \n",
    "        weight = new_weight\n",
    "        bias = new_bias\n",
    "        \n",
    "    if epoch % 1 == 0 or epoch == EPOCHS - 1:\n",
    "        print(f\"Epoch: {epoch + 1}, Loss: {total_loss}\")"
   ]
  },
  {
   "cell_type": "markdown",
   "metadata": {},
   "source": [
    "#### Denormalize\n",
    "Get back the scale of data from 0 to 1 to original scale"
   ]
  },
  {
   "cell_type": "code",
   "execution_count": 15,
   "metadata": {},
   "outputs": [
    {
     "data": {
      "text/plain": [
       "{'cgpa': [3.0, 3.5, 4.0, 4.5, 5.0, 9.0, 9.5, 4.1, 6.5],\n",
       " 'salary': [25000, 40000, 38000, 50000, 50000, 100000, 101000, 36000, 60000]}"
      ]
     },
     "execution_count": 15,
     "metadata": {},
     "output_type": "execute_result"
    }
   ],
   "source": [
    "original_data"
   ]
  },
  {
   "cell_type": "code",
   "execution_count": 16,
   "metadata": {},
   "outputs": [],
   "source": [
    "def denormalize(value):\n",
    "    max_value = max(original_data[\"salary\"])\n",
    "    min_value = min(original_data[\"salary\"])\n",
    "    \n",
    "    return value * (max_value - min_value) + min_value"
   ]
  },
  {
   "cell_type": "code",
   "execution_count": 17,
   "metadata": {},
   "outputs": [
    {
     "data": {
      "text/plain": [
       "(40200.0, 25000, 101000, 63000.0)"
      ]
     },
     "execution_count": 17,
     "metadata": {},
     "output_type": "execute_result"
    }
   ],
   "source": [
    "denormalize(0.2), denormalize(0), denormalize(1), denormalize(0.5)"
   ]
  },
  {
   "cell_type": "code",
   "execution_count": 18,
   "metadata": {},
   "outputs": [],
   "source": [
    "predictions = [denormalize(linear(weight * x + bias)) for x in data[\"cgpa\"]]"
   ]
  },
  {
   "cell_type": "code",
   "execution_count": 19,
   "metadata": {},
   "outputs": [
    {
     "name": "stdout",
     "output_type": "stream",
     "text": [
      "Actual: 25000, Predicted: 28139.407133957036\n",
      "Actual: 40000, Predicted: 33457.167214738205\n",
      "Actual: 38000, Predicted: 38774.92729551937\n",
      "Actual: 50000, Predicted: 44092.68737630053\n",
      "Actual: 50000, Predicted: 49410.4474570817\n",
      "Actual: 100000, Predicted: 91952.52810333103\n",
      "Actual: 101000, Predicted: 97270.28818411219\n",
      "Actual: 36000, Predicted: 39838.4793116756\n",
      "Actual: 60000, Predicted: 65363.72769942519\n"
     ]
    }
   ],
   "source": [
    "for y, y_pred in zip(original_data[\"salary\"], predictions):\n",
    "    print(f\"Actual: {y}, Predicted: {y_pred}\")"
   ]
  },
  {
   "cell_type": "markdown",
   "metadata": {},
   "source": [
    "## Using autograd to calculate gradients"
   ]
  },
  {
   "cell_type": "code",
   "execution_count": 20,
   "metadata": {},
   "outputs": [
    {
     "data": {
      "text/plain": [
       "tensor(3., requires_grad=True)"
      ]
     },
     "execution_count": 20,
     "metadata": {},
     "output_type": "execute_result"
    }
   ],
   "source": [
    "import torch\n",
    "\n",
    "x = torch.tensor(3.0, requires_grad=True) # we want to calculate derivative of this tensor\n",
    "x"
   ]
  },
  {
   "cell_type": "code",
   "execution_count": 21,
   "metadata": {},
   "outputs": [
    {
     "data": {
      "text/plain": [
       "tensor(9., grad_fn=<PowBackward0>)"
      ]
     },
     "execution_count": 21,
     "metadata": {},
     "output_type": "execute_result"
    }
   ],
   "source": [
    "y = x**2\n",
    "y # build a computation graph for this because x has require grad"
   ]
  },
  {
   "cell_type": "code",
   "execution_count": 22,
   "metadata": {},
   "outputs": [],
   "source": [
    "# now we can calculate derivate with this gradient function in y\n",
    "y.backward() # dy/dx = 2x"
   ]
  },
  {
   "cell_type": "code",
   "execution_count": 23,
   "metadata": {},
   "outputs": [
    {
     "data": {
      "text/plain": [
       "tensor(6.)"
      ]
     },
     "execution_count": 23,
     "metadata": {},
     "output_type": "execute_result"
    }
   ],
   "source": [
    "x.grad # see the gradient"
   ]
  },
  {
   "cell_type": "code",
   "execution_count": 24,
   "metadata": {},
   "outputs": [
    {
     "data": {
      "text/plain": [
       "(tensor(3., requires_grad=True),\n",
       " tensor(9., grad_fn=<PowBackward0>),\n",
       " tensor(0.4121, grad_fn=<SinBackward0>))"
      ]
     },
     "execution_count": 24,
     "metadata": {},
     "output_type": "execute_result"
    }
   ],
   "source": [
    "# more complex chain differentiation rule\n",
    "x = torch.tensor(3.0, requires_grad=True)\n",
    "y = x ** 2\n",
    "z = torch.sin(y)\n",
    "\n",
    "x, y, z"
   ]
  },
  {
   "cell_type": "code",
   "execution_count": 25,
   "metadata": {},
   "outputs": [],
   "source": [
    "# y.backward() # dy_dx = 2x # cannot do this because we will be doing for z so for intermediate node cannot calculate gradient"
   ]
  },
  {
   "cell_type": "code",
   "execution_count": 26,
   "metadata": {},
   "outputs": [],
   "source": [
    "z.backward() # dz_dx = dz_dy * dy_dx = cos(y) * 2x = cos(x**2) * 2x # also second time cannot compute gradient"
   ]
  },
  {
   "cell_type": "code",
   "execution_count": 27,
   "metadata": {},
   "outputs": [
    {
     "data": {
      "text/plain": [
       "tensor(-5.4668)"
      ]
     },
     "execution_count": 27,
     "metadata": {},
     "output_type": "execute_result"
    }
   ],
   "source": [
    "x.grad"
   ]
  },
  {
   "cell_type": "markdown",
   "metadata": {},
   "source": [
    "## Training our Regression Model with AutoGrad"
   ]
  },
  {
   "cell_type": "code",
   "execution_count": 28,
   "metadata": {},
   "outputs": [
    {
     "data": {
      "text/plain": [
       "(tensor(0.6873, requires_grad=True), tensor(0.9303, requires_grad=True))"
      ]
     },
     "execution_count": 28,
     "metadata": {},
     "output_type": "execute_result"
    }
   ],
   "source": [
    "weight = torch.tensor(random.uniform(0, 1), requires_grad=True)\n",
    "bias = torch.tensor(random.uniform(0, 1), requires_grad=True)\n",
    "learning_rate = 0.1\n",
    "\n",
    "weight, bias"
   ]
  },
  {
   "cell_type": "code",
   "execution_count": 29,
   "metadata": {},
   "outputs": [
    {
     "data": {
      "text/plain": [
       "(tensor([0.0000, 0.0769, 0.1538, 0.2308, 0.3077, 0.9231, 1.0000, 0.1692, 0.5385]),\n",
       " tensor([0.0000, 0.1974, 0.1711, 0.3289, 0.3289, 0.9868, 1.0000, 0.1447, 0.4605]))"
      ]
     },
     "execution_count": 29,
     "metadata": {},
     "output_type": "execute_result"
    }
   ],
   "source": [
    "x = torch.tensor(data[\"cgpa\"], dtype=torch.float32, requires_grad=False)\n",
    "y = torch.tensor(data[\"salary\"], dtype=torch.float32, requires_grad=False)\n",
    "\n",
    "x, y"
   ]
  },
  {
   "cell_type": "code",
   "execution_count": 30,
   "metadata": {},
   "outputs": [],
   "source": [
    "class LinearRegressionModel:\n",
    "    def __init__(self):\n",
    "        self.weight = torch.tensor(random.uniform(0, 1), requires_grad=True)\n",
    "        self.bias = torch.tensor(random.uniform(0, 1), requires_grad=True)\n",
    "        \n",
    "    def forward(self, x):\n",
    "        return x * self.weight + self.bias"
   ]
  },
  {
   "cell_type": "markdown",
   "metadata": {},
   "source": [
    "#### Inheriting from torch.nn.Module\n",
    "- We get automatic management of gradients, parameters, layers\n",
    "- Gives access to helpful methods such as .parameters(), .train(), .eval() etc.\n",
    "- Automatic handling zero gradients with optimizer.zero_grad()"
   ]
  },
  {
   "cell_type": "code",
   "execution_count": 31,
   "metadata": {},
   "outputs": [
    {
     "data": {
      "text/plain": [
       "{'weight': tensor(0.9140, requires_grad=True),\n",
       " 'bias': tensor(0.7363, requires_grad=True)}"
      ]
     },
     "execution_count": 31,
     "metadata": {},
     "output_type": "execute_result"
    }
   ],
   "source": [
    "model = LinearRegressionModel()\n",
    "model.__dict__"
   ]
  },
  {
   "cell_type": "code",
   "execution_count": 32,
   "metadata": {},
   "outputs": [],
   "source": [
    "mse = torch.nn.MSELoss()"
   ]
  },
  {
   "cell_type": "code",
   "execution_count": 33,
   "metadata": {},
   "outputs": [
    {
     "data": {
      "text/plain": [
       "tensor(0.7363, grad_fn=<AddBackward0>)"
      ]
     },
     "execution_count": 33,
     "metadata": {},
     "output_type": "execute_result"
    }
   ],
   "source": [
    "y_pred = model.forward(x[0])\n",
    "y_pred"
   ]
  },
  {
   "cell_type": "code",
   "execution_count": 34,
   "metadata": {},
   "outputs": [
    {
     "data": {
      "text/plain": [
       "tensor(0.)"
      ]
     },
     "execution_count": 34,
     "metadata": {},
     "output_type": "execute_result"
    }
   ],
   "source": [
    "y_true = y[0]\n",
    "y_true"
   ]
  },
  {
   "cell_type": "code",
   "execution_count": 35,
   "metadata": {},
   "outputs": [
    {
     "data": {
      "text/plain": [
       "tensor(0.5422, grad_fn=<MseLossBackward0>)"
      ]
     },
     "execution_count": 35,
     "metadata": {},
     "output_type": "execute_result"
    }
   ],
   "source": [
    "loss = mse(y_true, y_pred)\n",
    "\n",
    "loss"
   ]
  },
  {
   "cell_type": "code",
   "execution_count": 36,
   "metadata": {},
   "outputs": [],
   "source": [
    "loss.backward() # dE/dw, dE/db"
   ]
  },
  {
   "cell_type": "code",
   "execution_count": 37,
   "metadata": {},
   "outputs": [
    {
     "data": {
      "text/plain": [
       "(tensor(0.), tensor(1.4726))"
      ]
     },
     "execution_count": 37,
     "metadata": {},
     "output_type": "execute_result"
    }
   ],
   "source": [
    "model.weight.grad, model.bias.grad"
   ]
  },
  {
   "cell_type": "code",
   "execution_count": 38,
   "metadata": {},
   "outputs": [
    {
     "data": {
      "text/plain": [
       "tensor(0.9140)"
      ]
     },
     "execution_count": 38,
     "metadata": {},
     "output_type": "execute_result"
    }
   ],
   "source": [
    "model.weight.data"
   ]
  },
  {
   "cell_type": "code",
   "execution_count": 39,
   "metadata": {},
   "outputs": [],
   "source": [
    "# update the weight and bias with gradient descent\n",
    "model.weight.data = model.weight.data - learning_rate * model.weight.grad\n",
    "model.bias.data = model.bias.data - learning_rate * model.bias.grad"
   ]
  },
  {
   "cell_type": "code",
   "execution_count": 40,
   "metadata": {},
   "outputs": [
    {
     "data": {
      "text/plain": [
       "tensor(0.)"
      ]
     },
     "execution_count": 40,
     "metadata": {},
     "output_type": "execute_result"
    }
   ],
   "source": [
    "# clear the gradient after update\n",
    "model.weight.grad.zero_()\n",
    "model.bias.grad.zero_()"
   ]
  },
  {
   "cell_type": "code",
   "execution_count": 41,
   "metadata": {},
   "outputs": [
    {
     "data": {
      "text/plain": [
       "(0.9140182137489319, 0.589059591293335)"
      ]
     },
     "execution_count": 41,
     "metadata": {},
     "output_type": "execute_result"
    }
   ],
   "source": [
    "model.weight.item(), model.bias.item() # new updated weight"
   ]
  },
  {
   "cell_type": "code",
   "execution_count": 42,
   "metadata": {},
   "outputs": [
    {
     "data": {
      "text/plain": [
       "(tensor(0.), tensor(0.))"
      ]
     },
     "execution_count": 42,
     "metadata": {},
     "output_type": "execute_result"
    }
   ],
   "source": [
    "model.weight.grad, model.bias.grad"
   ]
  },
  {
   "cell_type": "markdown",
   "metadata": {},
   "source": [
    "## Pytorch training with custom optimizer but auto grad"
   ]
  },
  {
   "cell_type": "code",
   "execution_count": 43,
   "metadata": {},
   "outputs": [
    {
     "name": "stdout",
     "output_type": "stream",
     "text": [
      "Epoch: 1 with total loss: 1.94\n",
      "Epoch: 2 with total loss: 0.21\n",
      "Epoch: 3 with total loss: 0.14\n",
      "Epoch: 4 with total loss: 0.11\n",
      "Epoch: 5 with total loss: 0.09\n",
      "Epoch: 6 with total loss: 0.07\n",
      "Epoch: 7 with total loss: 0.06\n",
      "Epoch: 8 with total loss: 0.06\n",
      "Epoch: 9 with total loss: 0.05\n",
      "Epoch: 10 with total loss: 0.05\n"
     ]
    }
   ],
   "source": [
    "EPOCHS = 10\n",
    "LEARNING_RATE = 0.1\n",
    "\n",
    "model = LinearRegressionModel() # our own class of linear regression\n",
    "\n",
    "for epoch in range(EPOCHS):\n",
    "    total_loss = 0\n",
    "    \n",
    "    for i in range(len(x)):\n",
    "        # forwrard propagation\n",
    "        y_pred = model.forward(x[i])\n",
    "        y_true = y[i]\n",
    "        # loss calculation\n",
    "        loss = mse(y_true, y_pred)\n",
    "        total_loss = total_loss + loss\n",
    "        \n",
    "        # backward propagation\n",
    "        loss.backward() # calculate gradient for dloss/dweight, dloss/dbias\n",
    "        \n",
    "        # gradient descent\n",
    "        with torch.no_grad(): # donot track gradient for this update\n",
    "            model.weight.data = model.weight.data - LEARNING_RATE * model.weight.grad\n",
    "            model.bias.data = model.bias.data - LEARNING_RATE * model.bias.grad\n",
    "            \n",
    "        # reset the gradient to zero for next data point\n",
    "        model.weight.grad.zero_()\n",
    "        model.bias.grad.zero_()\n",
    "        \n",
    "    # track the training progress per epoch\n",
    "    print(f\"Epoch: {epoch + 1} with total loss: {total_loss:.2f}\")"
   ]
  },
  {
   "cell_type": "code",
   "execution_count": 44,
   "metadata": {},
   "outputs": [
    {
     "data": {
      "text/plain": [
       "tensor(0.8712, grad_fn=<AddBackward0>)"
      ]
     },
     "execution_count": 44,
     "metadata": {},
     "output_type": "execute_result"
    }
   ],
   "source": [
    "# predict with the trained model\n",
    "predictions = model.forward(x[5])\n",
    "predictions"
   ]
  },
  {
   "cell_type": "code",
   "execution_count": 45,
   "metadata": {},
   "outputs": [
    {
     "data": {
      "text/plain": [
       "91212.03088760376"
      ]
     },
     "execution_count": 45,
     "metadata": {},
     "output_type": "execute_result"
    }
   ],
   "source": [
    "denormalize(predictions.item())"
   ]
  },
  {
   "cell_type": "markdown",
   "metadata": {},
   "source": [
    "## With Pytorch Full Loop Training"
   ]
  },
  {
   "cell_type": "code",
   "execution_count": 46,
   "metadata": {},
   "outputs": [],
   "source": [
    "import torch\n",
    "\n",
    "class LinearRegressionModel2(torch.nn.Module):\n",
    "    def __init__(self):\n",
    "        super(LinearRegressionModel2, self).__init__()\n",
    "        self.linear = torch.nn.Linear(in_features=1, out_features=1)\n",
    "    \n",
    "    def forward(self, x):\n",
    "        return self.linear(x)"
   ]
  },
  {
   "cell_type": "code",
   "execution_count": 47,
   "metadata": {},
   "outputs": [],
   "source": [
    "model2 = LinearRegressionModel2()"
   ]
  },
  {
   "cell_type": "code",
   "execution_count": 48,
   "metadata": {},
   "outputs": [
    {
     "data": {
      "text/plain": [
       "{'training': True,\n",
       " '_parameters': {},\n",
       " '_buffers': {},\n",
       " '_non_persistent_buffers_set': set(),\n",
       " '_backward_pre_hooks': OrderedDict(),\n",
       " '_backward_hooks': OrderedDict(),\n",
       " '_is_full_backward_hook': None,\n",
       " '_forward_hooks': OrderedDict(),\n",
       " '_forward_hooks_with_kwargs': OrderedDict(),\n",
       " '_forward_hooks_always_called': OrderedDict(),\n",
       " '_forward_pre_hooks': OrderedDict(),\n",
       " '_forward_pre_hooks_with_kwargs': OrderedDict(),\n",
       " '_state_dict_hooks': OrderedDict(),\n",
       " '_state_dict_pre_hooks': OrderedDict(),\n",
       " '_load_state_dict_pre_hooks': OrderedDict(),\n",
       " '_load_state_dict_post_hooks': OrderedDict(),\n",
       " '_modules': {'linear': Linear(in_features=1, out_features=1, bias=True)}}"
      ]
     },
     "execution_count": 48,
     "metadata": {},
     "output_type": "execute_result"
    }
   ],
   "source": [
    "model2.__dict__"
   ]
  },
  {
   "cell_type": "code",
   "execution_count": 49,
   "metadata": {},
   "outputs": [
    {
     "data": {
      "text/plain": [
       "(Parameter containing:\n",
       " tensor([[-0.1081]], requires_grad=True),\n",
       " Parameter containing:\n",
       " tensor([-0.0252], requires_grad=True))"
      ]
     },
     "execution_count": 49,
     "metadata": {},
     "output_type": "execute_result"
    }
   ],
   "source": [
    "model2.linear.weight, model2.linear.bias"
   ]
  },
  {
   "cell_type": "code",
   "execution_count": 50,
   "metadata": {},
   "outputs": [
    {
     "data": {
      "text/plain": [
       "[Parameter containing:\n",
       " tensor([[-0.1081]], requires_grad=True),\n",
       " Parameter containing:\n",
       " tensor([-0.0252], requires_grad=True)]"
      ]
     },
     "execution_count": 50,
     "metadata": {},
     "output_type": "execute_result"
    }
   ],
   "source": [
    "[p for p in model2.parameters()]"
   ]
  },
  {
   "cell_type": "code",
   "execution_count": 51,
   "metadata": {},
   "outputs": [
    {
     "data": {
      "text/plain": [
       "(tensor([0.0000, 0.0769, 0.1538, 0.2308, 0.3077, 0.9231, 1.0000, 0.1692, 0.5385]),\n",
       " tensor([0.0000, 0.1974, 0.1711, 0.3289, 0.3289, 0.9868, 1.0000, 0.1447, 0.4605]))"
      ]
     },
     "execution_count": 51,
     "metadata": {},
     "output_type": "execute_result"
    }
   ],
   "source": [
    "x, y"
   ]
  },
  {
   "cell_type": "code",
   "execution_count": 52,
   "metadata": {},
   "outputs": [],
   "source": [
    "criterion = torch.nn.MSELoss()\n",
    "optimizer = torch.optim.SGD(model2.parameters(), lr=0.1)"
   ]
  },
  {
   "cell_type": "code",
   "execution_count": 53,
   "metadata": {},
   "outputs": [
    {
     "data": {
      "text/plain": [
       "(tensor(0.), tensor([0.]))"
      ]
     },
     "execution_count": 53,
     "metadata": {},
     "output_type": "execute_result"
    }
   ],
   "source": [
    "x[0], x[0].unsqueeze(dim=0)"
   ]
  },
  {
   "cell_type": "code",
   "execution_count": 54,
   "metadata": {},
   "outputs": [
    {
     "data": {
      "text/plain": [
       "tensor([-0.0252], grad_fn=<ViewBackward0>)"
      ]
     },
     "execution_count": 54,
     "metadata": {},
     "output_type": "execute_result"
    }
   ],
   "source": [
    "y_pred = model2(x[0].unsqueeze(0))\n",
    "\n",
    "y_pred"
   ]
  },
  {
   "cell_type": "code",
   "execution_count": 55,
   "metadata": {},
   "outputs": [
    {
     "name": "stdout",
     "output_type": "stream",
     "text": [
      "Epoch: 1 | Loss: 1.45\n",
      "Epoch: 2 | Loss: 0.73\n",
      "Epoch: 3 | Loss: 0.53\n",
      "Epoch: 4 | Loss: 0.38\n",
      "Epoch: 5 | Loss: 0.27\n",
      "Epoch: 6 | Loss: 0.20\n",
      "Epoch: 7 | Loss: 0.15\n",
      "Epoch: 8 | Loss: 0.12\n",
      "Epoch: 9 | Loss: 0.09\n",
      "Epoch: 10 | Loss: 0.08\n"
     ]
    }
   ],
   "source": [
    "for epoch in range(EPOCHS):\n",
    "    total_loss = 0\n",
    "    \n",
    "    for i in range(len(x)):\n",
    "        model2.train() # set the model to train mode\n",
    "        \n",
    "        # forward step\n",
    "        y_pred = model2(x[i].unsqueeze(dim=0))\n",
    "        loss = criterion(y_pred, y[i].unsqueeze(dim=0))\n",
    "\n",
    "        total_loss += loss.item()\n",
    "        \n",
    "        # backward step\n",
    "        loss.backward() # dl(mse)/d(weight), dl(mse).d(bias) : gradient of the model\n",
    "        \n",
    "        # optimization step\n",
    "        optimizer.step() # update the weight and bias SGD with learning rate 0.1\n",
    "        \n",
    "        # zero the gradient\n",
    "        optimizer.zero_grad() # reset the gradient for another data\n",
    "        \n",
    "    print(f\"Epoch: {epoch + 1} | Loss: {total_loss:.2f}\")"
   ]
  },
  {
   "cell_type": "code",
   "execution_count": 61,
   "metadata": {},
   "outputs": [
    {
     "name": "stdout",
     "output_type": "stream",
     "text": [
      "New Weight:  0.81 and New Bias:  0.09 after training for 10 with SGD and learning rate 0.1\n"
     ]
    }
   ],
   "source": [
    "new_weight = model2.linear.weight.item()\n",
    "new_bias = model2.linear.bias.item()\n",
    "\n",
    "print(f\"New Weight: {new_weight: .2f} and New Bias: {new_bias: .2f} after training for {EPOCHS} with SGD and learning rate 0.1\")"
   ]
  },
  {
   "cell_type": "code",
   "execution_count": 68,
   "metadata": {},
   "outputs": [],
   "source": [
    "x_list = x.tolist()\n",
    "y_list = y.tolist()"
   ]
  },
  {
   "cell_type": "code",
   "execution_count": 69,
   "metadata": {},
   "outputs": [],
   "source": [
    "import matplotlib.pyplot as plt"
   ]
  },
  {
   "cell_type": "code",
   "execution_count": 74,
   "metadata": {},
   "outputs": [
    {
     "data": {
      "text/plain": [
       "[<matplotlib.lines.Line2D at 0x145dac30e30>]"
      ]
     },
     "execution_count": 74,
     "metadata": {},
     "output_type": "execute_result"
    },
    {
     "data": {
      "image/png": "[encoded data removed]",
      "text/plain": [
       "<Figure size 640x480 with 1 Axes>"
      ]
     },
     "metadata": {},
     "output_type": "display_data"
    }
   ],
   "source": [
    "plt.plot([1,2,3],[10,20,10])"
   ]
  },
  {
   "cell_type": "code",
   "execution_count": 80,
   "metadata": {},
   "outputs": [
    {
     "data": {
      "image/png": "[encoded data removed]",
      "text/plain": [
       "<Figure size 640x480 with 1 Axes>"
      ]
     },
     "metadata": {},
     "output_type": "display_data"
    }
   ],
   "source": [
    "slope = new_weight\n",
    "bias = new_bias\n",
    "\n",
    "plt.scatter(x_list, y_list, label=\"original data\")\n",
    "plt.plot(x_list, [slope * x + bias for x in x_list], color=\"orange\", label=\"predicted line\")\n",
    "plt.legend()\n",
    "plt.title(\"Linear Regression Model\")\n",
    "plt.xlabel(\"CGPA scaled\")\n",
    "plt.ylabel(\"Salary scaled\")\n",
    "plt.show()"
   ]
  }
 ],
 "metadata": {
  "kernelspec": {
   "display_name": "Python 3",
   "language": "python",
   "name": "python3"
  },
  "language_info": {
   "codemirror_mode": {
    "name": "ipython",
    "version": 3
   },
   "file_extension": ".py",
   "mimetype": "text/x-python",
   "name": "python",
   "nbconvert_exporter": "python",
   "pygments_lexer": "ipython3",
   "version": "3.12.1"
  }
 },
 "nbformat": 4,
 "nbformat_minor": 2
}
